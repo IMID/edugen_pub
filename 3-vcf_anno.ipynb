{
 "cells": [
  {
   "cell_type": "markdown",
   "metadata": {},
   "source": [
    "# Część trzecia\n",
    "<div class=\"alert alert-block alert-danger\">\n",
    "<b>Uwaga:</b> Należy upewnić się że w prawym górnym rogu tego okna wybrany jest kernel \"omics-genomika\" a nie \"Python 3\"\n",
    "</div>\n",
    "\n",
    "***\n",
    "## Format VCF\n",
    "***\n",
    "\n",
    "Przyjętym standardowym formatem plików przechowującym informację o wariantach jest format <a href=\"http://samtools.github.io/hts-specs/VCFv4.3.pdf\">VCF (Variant Call Format)</a>. W takich plikach przechowywana jest informacja o wszystkich wariantach odnalezionych przez program do variant callingu. Pliki VCF możemy podzielić na trzy sekcje:\n",
    "- metadanych (@meta)\n",
    "- informacje o wariatach (@fix)\n",
    "- informacje o genotypie (@gt)\n",
    "\n",
    "<img src=\"png/vcf.png\" width=\"400\">\n"
   ]
  },
  {
   "cell_type": "code",
   "execution_count": null,
   "metadata": {},
   "outputs": [],
   "source": [
    "! head -n 50 sandbox/motherHC.vcf"
   ]
  },
  {
   "cell_type": "markdown",
   "metadata": {},
   "source": [
    "***\n",
    "### Region metadanych (@meta)\n",
    "Znajduje się na początku pliku i zawiera informacje (poprzedzone znakami \"##\") dotyczące programu który wygenerował plik VCF oraz parametrów używanych przez ten program, jak również informacje na temat skrótów stoowanych w innych miejscach pliku. Dane w tej sekcji są zapisywane w kolejnych wierszach. Pozostałe regiony mają formę tabeli.\n",
    "\n",
    "### Region informacji o wariancie (@fix)\n",
    "Region ten obejmuje pierwszych 8 kolumn, które zawierają informację o konkretnym wariancie. Dane te są wspólne dla wszystkich wariantów i obejmują:\n",
    "- pozycję chromosomową (kolumny \"#CHROM\" i \"POS\")\n",
    "- identyfikator wariantu, np. z bazy dbSNP (kolumna \"ID\")\n",
    "- allel referencyjny i zmieniony (kolejno kolumny \"REF\" i \"ALT\") - uwaga, liczba zmienionych alleli może być większa niż 1, sa wtedy zapisywane po przecinku\n",
    "- informację o jakości danego wariantu (kolumna \"QUAL\")\n",
    "- informację czy wariant przeszedł filtr jakości (kolumna \"FILTER\")\n",
    "\n",
    "### Region informacji o genotypie (@gt)\n",
    "W tym regionie znajdziemy informację związane z danym wariantem dla poszczególnych próbek. W 10 kolumnie poszczególne wartości sa oddzielone od siebie dwukropkiem, a informację co która wartość oznacza znajdują się w kolumnie 9 (\"FORMAT\"). Najczęsciej są to informacje o genotypie, ilości odczytów w danym miejscu czy ich jakości, a wyjaśnienie stosowanych skrótów i co oznaczają znajdziemy w regionie metadanych (oraz na stronie specyfikacji formatu VCF). Jeśli w pliku VCF opisanych jest kilka próbek, to informacje dla kolejnych próbek są zapisywane w kolejnych kolumnach. Pola które zwyczajowo znajdują się w tym regionie to:\n",
    "- GT (Genotype) - genotyp w danym miejscu, oddzielony znakami \"/\" lub \"|\". Wartość 0 oznacza allel referencyjny, 1 oznacza pierwszy zmieniony allel z pola \"ALT\", 2 drugi allel itd. Kombinacja 0/1 oznacza heterozygotyczna zmianę, 1/1 zmianę homozygotyczną\n",
    "- AD (Allel Read Depth) - liczba odczytów zawierających dany wariant\n",
    "- DP (Read Depth) - ogólna liczba odczytów w danym miejscu\n",
    "\n",
    "| #CHROM | POS    | ID    | REF | ALT | QUAL | FILTER | INFO | FORMAT   | SAMPLE_1_ID           | SAMPLE_2_ID               |\n",
    "|--------|--------|-------|-----|-----|------|--------|------|----------|-----------------------|---------------------------|\n",
    "| 22     | 160036 | snp_1 | A   | C   | .    | PASS   | .    | GT:AD:DP | 0/1:7:30              | 1/1:31:31                 |\n",
    "| 22     | 160408 | snp_2 | T   | C   | .    | PASS   | .    | GT:AD:DP | ./.:.:.               | 0/1:10:21                 |\n",
    "| 22     | 160612 | snp_2 | C   | G   | .    | PASS   | .    | GT:AD:DP | 0/1:22:53             | 1/1:41:41                 |\n",
    "\n",
    "***\n",
    "## Normalizacja plików VCF\n",
    "***\n",
    "Pomimo tego, że VCF jest standardowym formatem przechowywania danych o wariantach to warianty mogą być przechowywane w różnej postaci. W celu unifikacji tych informacji należy skorzystac z <a href=\"https://genome.sph.umich.edu/wiki/Vt\">narzędzia Vt</a>. Pozwala ono na rozbicie multi-allelicznych wariantów na poszczególne wiersze. Dodatkowo ujednolica sposób zapisu wariantów typu INDEL, tak aby były przesunięte możliwie najbardziej na \"lewo\" oraz możliwie najbardziej \"oszczędne\" w zapisie.\n",
    "<img src=\"png/Normalizacja.png\">\n",
    "\n",
    "***\n",
    "Sprawdźmy najpierw czy nasz plik posiada warianty multialleliczne. Możemy użyć do tego funkcji `view` programu `Vt` i przefiltrować plik w poszukiwaniu tych wariantów.\n",
    "<div class=\"alert alert-block alert-warning\">\n",
    "    <b>Zadanie:</b> Na podstawie dokumentacji programu Vt wyświetl warianty multialleliczne z próbki <b>sandbox/motherHC.vcf</b> \n",
    "</div>"
   ]
  },
  {
   "cell_type": "code",
   "execution_count": null,
   "metadata": {},
   "outputs": [],
   "source": []
  },
  {
   "cell_type": "markdown",
   "metadata": {},
   "source": [
    "***\n",
    "W naszym pliku znajduje się 8 wariantów biallelicznych. Najpierw nalezy przeprowadzić dekompozycję, czyli rozbicie tych wariantów a następnie normalizację, czyli ujednolicenie zapisu wszystkich wariantów. Służą do tego kolejno funkcje `decompose` oraz `normalize`."
   ]
  },
  {
   "cell_type": "code",
   "execution_count": null,
   "metadata": {},
   "outputs": [],
   "source": [
    "! vt decompose -s sandbox/motherHC.vcf | vt normalize -r ref/ref.fasta - > sandbox/motherHC.vt.vcf"
   ]
  },
  {
   "cell_type": "markdown",
   "metadata": {},
   "source": [
    "***\n",
    "## Eksploracja plików VCF\n",
    "***\n",
    "Narzędziem służącym do manipulowania plikami VCF jest `bcftools`. Program ten posiada <a href=\"https://samtools.github.io/bcftools/bcftools.html\">wiele opcji</a>, możemy na przykład filtrować warianty, wydzielać regiony czy podsumować dane. Na początek porównajmy pliki przed i po obróbce programem Vt.\n",
    "\n",
    "<div class=\"alert alert-block alert-warning\">\n",
    "    <b>Zadanie 1:</b> Policz ile wariantów znajduje się w plikach <b>motherHC.vcf</b> i <b>motherHC.vt.vcf</b>. Czy w pliku źródłowym były warianty multialleliczne? Użyj poleceń bash - <i>cat</i>, <i>grep</i> i <i>wc</i> \n",
    "</div>"
   ]
  },
  {
   "cell_type": "code",
   "execution_count": null,
   "metadata": {},
   "outputs": [],
   "source": []
  },
  {
   "cell_type": "markdown",
   "metadata": {},
   "source": [
    "Możemy również podejrzeć ile jest wariantów typu snp lub indel. Służy do tego komenda `view` z argumentem `-v`."
   ]
  },
  {
   "cell_type": "code",
   "execution_count": null,
   "metadata": {},
   "outputs": [],
   "source": [
    "! bcftools view -v snps sandbox/motherHC.vcf | grep -v \"^#\" | wc -l\n",
    "! bcftools view -v indels sandbox/motherHC.vcf | grep -v \"^#\" | wc -l"
   ]
  },
  {
   "cell_type": "markdown",
   "metadata": {},
   "source": [
    "***\n",
    "### Poszukiwanie wariantów wspólnych lub unikalnych\n",
    "Przydatną funkcją może być poszukiwanie wariantów które występują w dwóch lub większej liczbie próbek, lub wariantów unikalnych dla danej próbki. Służy do tego komenda `isec` z pakietu `bcftools` o której więcej możemy <a href=\"https://samtools.github.io/bcftools/bcftools.html#isec\">poczytać tutaj</a>. Domyślnie program daje wyniki w postaci wariantów unikalnych dla konkretnych próbek oraz warianty wspólne dla wszystkich. Argument `-p` pozwala określić ścieżkę zapisu plików wynikowych, a następnie podajemy ścieżkę do plików które chcemy porównać. Porównajmy pliki przed i po normalizacji programem `Vt`."
   ]
  },
  {
   "cell_type": "code",
   "execution_count": null,
   "metadata": {},
   "outputs": [],
   "source": [
    "! bgzip -c sandbox/motherHC.vcf > sandbox/motherHC.vcf.gz\n",
    "! bgzip -c sandbox/motherHC.vt.vcf > sandbox/motherHC.vt.vcf.gz\n",
    "! bcftools index -t sandbox/motherHC.vcf.gz\n",
    "! bcftools index -t sandbox/motherHC.vt.vcf.gz\n",
    "! bcftools isec -p sandbox/isec sandbox/motherHC.vcf.gz sandbox/motherHC.vt.vcf.gz"
   ]
  },
  {
   "cell_type": "markdown",
   "metadata": {},
   "source": [
    "Wyniki znajdziemy w folderze `sandbox/isec`, w którym utworzyły się 4 pliki, ich opis znajduje się w pliku `README.txt`"
   ]
  },
  {
   "cell_type": "code",
   "execution_count": null,
   "metadata": {},
   "outputs": [],
   "source": [
    "! cat sandbox/isec/README.txt"
   ]
  },
  {
   "cell_type": "markdown",
   "metadata": {},
   "source": [
    "Możemy bliżej przyjrzeć się plikom wynikowym i zobaczyć warianty unikalne oraz wspólne"
   ]
  },
  {
   "cell_type": "code",
   "execution_count": null,
   "metadata": {},
   "outputs": [],
   "source": [
    "! cat sandbox/isec/0000.vcf | grep -v \"##\" | head -n 100"
   ]
  },
  {
   "cell_type": "code",
   "execution_count": null,
   "metadata": {},
   "outputs": [],
   "source": [
    "! cat sandbox/isec/0000.vcf | grep -v \"##\" | wc -l"
   ]
  },
  {
   "cell_type": "markdown",
   "metadata": {},
   "source": [
    "***\n",
    "### Łączenie kilku plików VCF w jeden\n",
    "Program `bcftools` pozwala również na łączenie kilku plików VCF w jeden. Służy do tego funkcja `merge`, która posiada <a href=\"https://samtools.github.io/bcftools/bcftools.html#merge\">kilka opcji</a>. Połączymy pliki z przed i po normalizacji. Aby tego dokonać najpierw musimy je skompresować i utworzyć dla nich indeksy."
   ]
  },
  {
   "cell_type": "markdown",
   "metadata": {},
   "source": [
    "Nastepnie za pomoca argumentu `-o` podajemy miejsce i nazwę pliku wynikowego. W naszym przypadku musimy również użyć argumentu `--force-samples`, ponieważ nasze pliki mają samą nazwę zapisaną w środku pliku VCF.\n",
    "<div class=\"alert alert-block alert-warning\">\n",
    "    <b>Zadanie 2:</b> Połącz pliki <b>motherHC.vcf</b> i <b>motherHC.vt.vcf</b> w jeden plik VCF. Następnie zbadaj jak wygląda zapis wariantów które zostały znormalizowane.  \n",
    "</div>"
   ]
  },
  {
   "cell_type": "code",
   "execution_count": null,
   "metadata": {},
   "outputs": [],
   "source": []
  },
  {
   "cell_type": "code",
   "execution_count": null,
   "metadata": {},
   "outputs": [],
   "source": []
  },
  {
   "cell_type": "markdown",
   "metadata": {},
   "source": [
    "***\n",
    "# Adnotacja plików VCF\n",
    "Nie wszystkie warianty są dla nas interesujące. Znakomita większość z nich to warianty w regionach niekodujących, bądź warianty bez wpływu na kodowane białko. Informacja w plikach VCF które otrzymujemy najczęsciej pozbawiona jest podstawowych danych, np. o nazwie genu w obrębie którego lokalizuje sie dany wariant, rodzaju zmiany, częstości wariantu w populacji itd. Dlatego pliki VCF należy jeszcze zaadnotować. Od nas zależy jakiego rodzaju dane i z jakich baz danych chcemy je pozyskać. Istnieje wiele programów do adnotacji, do najpopularniejszych należą <a href=\"https://doc-openbio.readthedocs.io/projects/annovar/en/latest/\">Annovar</a> oraz <a href=\"http://grch37.ensembl.org/info/docs/tools/vep/index.html\">Variant Effect Predictor</a>.\n",
    "\n",
    "Na zajęciach możemy skorzystać z dostępu za pomocą [API do VEP](https://grch37.rest.ensembl.org/)"
   ]
  },
  {
   "cell_type": "code",
   "execution_count": 6,
   "metadata": {},
   "outputs": [
    {
     "name": "stdout",
     "output_type": "stream",
     "text": [
      "[\n",
      "    {\n",
      "        \"most_severe_consequence\": \"downstream_gene_variant\",\n",
      "        \"strand\": 1,\n",
      "        \"transcript_consequences\": [\n",
      "            {\n",
      "                \"biotype\": \"antisense\",\n",
      "                \"gene_symbol_source\": \"HGNC\",\n",
      "                \"gene_id\": \"ENSG00000240498\",\n",
      "                \"impact\": \"MODIFIER\",\n",
      "                \"transcript_id\": \"ENST00000422420\",\n",
      "                \"gene_symbol\": \"CDKN2B-AS1\",\n",
      "                \"hgnc_id\": 34341,\n",
      "                \"distance\": 4406,\n",
      "                \"strand\": 1,\n",
      "                \"consequence_terms\": [\n",
      "                    \"downstream_gene_variant\"\n",
      "                ],\n",
      "                \"variant_allele\": \"C\"\n",
      "            },\n",
      "            {\n",
      "                \"gene_symbol_source\": \"HGNC\",\n",
      "                \"biotype\": \"antisense\",\n",
      "                \"gene_id\": \"ENSG00000240498\",\n",
      "                \"hgnc_id\": 34341,\n",
      "                \"strand\": 1,\n",
      "                \"distance\": 4408,\n",
      "                \"transcript_id\": \"ENST00000428597\",\n",
      "                \"impact\": \"MODIFIER\",\n",
      "                \"gene_symbol\": \"CDKN2B-AS1\",\n",
      "                \"variant_allele\": \"C\",\n",
      "                \"consequence_terms\": [\n",
      "                    \"downstream_gene_variant\"\n",
      "                ]\n",
      "            },\n",
      "            {\n",
      "                \"gene_id\": \"ENSG00000240498\",\n",
      "                \"biotype\": \"antisense\",\n",
      "                \"gene_symbol_source\": \"HGNC\",\n",
      "                \"consequence_terms\": [\n",
      "                    \"downstream_gene_variant\"\n",
      "                ],\n",
      "                \"variant_allele\": \"C\",\n",
      "                \"transcript_id\": \"ENST00000577551\",\n",
      "                \"impact\": \"MODIFIER\",\n",
      "                \"gene_symbol\": \"CDKN2B-AS1\",\n",
      "                \"hgnc_id\": 34341,\n",
      "                \"distance\": 4931,\n",
      "                \"strand\": 1\n",
      "            },\n",
      "            {\n",
      "                \"gene_id\": \"ENSG00000240498\",\n",
      "                \"gene_symbol_source\": \"HGNC\",\n",
      "                \"biotype\": \"antisense\",\n",
      "                \"variant_allele\": \"C\",\n",
      "                \"consequence_terms\": [\n",
      "                    \"downstream_gene_variant\"\n",
      "                ],\n",
      "                \"distance\": 4857,\n",
      "                \"strand\": 1,\n",
      "                \"hgnc_id\": 34341,\n",
      "                \"gene_symbol\": \"CDKN2B-AS1\",\n",
      "                \"impact\": \"MODIFIER\",\n",
      "                \"transcript_id\": \"ENST00000580576\"\n",
      "            },\n",
      "            {\n",
      "                \"hgnc_id\": 34341,\n",
      "                \"distance\": 4931,\n",
      "                \"strand\": 1,\n",
      "                \"impact\": \"MODIFIER\",\n",
      "                \"gene_symbol\": \"CDKN2B-AS1\",\n",
      "                \"transcript_id\": \"ENST00000581051\",\n",
      "                \"variant_allele\": \"C\",\n",
      "                \"consequence_terms\": [\n",
      "                    \"downstream_gene_variant\"\n",
      "                ],\n",
      "                \"gene_symbol_source\": \"HGNC\",\n",
      "                \"biotype\": \"antisense\",\n",
      "                \"gene_id\": \"ENSG00000240498\"\n",
      "            },\n",
      "            {\n",
      "                \"gene_id\": \"ENSG00000240498\",\n",
      "                \"biotype\": \"antisense\",\n",
      "                \"gene_symbol_source\": \"HGNC\",\n",
      "                \"consequence_terms\": [\n",
      "                    \"downstream_gene_variant\"\n",
      "                ],\n",
      "                \"variant_allele\": \"C\",\n",
      "                \"impact\": \"MODIFIER\",\n",
      "                \"gene_symbol\": \"CDKN2B-AS1\",\n",
      "                \"transcript_id\": \"ENST00000582072\",\n",
      "                \"distance\": 4931,\n",
      "                \"strand\": 1,\n",
      "                \"hgnc_id\": 34341\n",
      "            },\n",
      "            {\n",
      "                \"gene_symbol\": \"CDKN2B-AS1\",\n",
      "                \"impact\": \"MODIFIER\",\n",
      "                \"transcript_id\": \"ENST00000584020\",\n",
      "                \"hgnc_id\": 34341,\n",
      "                \"distance\": 4931,\n",
      "                \"strand\": 1,\n",
      "                \"consequence_terms\": [\n",
      "                    \"downstream_gene_variant\"\n",
      "                ],\n",
      "                \"variant_allele\": \"C\",\n",
      "                \"biotype\": \"antisense\",\n",
      "                \"gene_symbol_source\": \"HGNC\",\n",
      "                \"gene_id\": \"ENSG00000240498\"\n",
      "            },\n",
      "            {\n",
      "                \"gene_id\": \"ENSG00000240498\",\n",
      "                \"gene_symbol_source\": \"HGNC\",\n",
      "                \"biotype\": \"antisense\",\n",
      "                \"variant_allele\": \"C\",\n",
      "                \"consequence_terms\": [\n",
      "                    \"downstream_gene_variant\"\n",
      "                ],\n",
      "                \"hgnc_id\": 34341,\n",
      "                \"distance\": 4931,\n",
      "                \"strand\": 1,\n",
      "                \"transcript_id\": \"ENST00000584637\",\n",
      "                \"gene_symbol\": \"CDKN2B-AS1\",\n",
      "                \"impact\": \"MODIFIER\"\n",
      "            },\n",
      "            {\n",
      "                \"variant_allele\": \"C\",\n",
      "                \"consequence_terms\": [\n",
      "                    \"downstream_gene_variant\"\n",
      "                ],\n",
      "                \"hgnc_id\": 34341,\n",
      "                \"distance\": 4931,\n",
      "                \"strand\": 1,\n",
      "                \"gene_symbol\": \"CDKN2B-AS1\",\n",
      "                \"impact\": \"MODIFIER\",\n",
      "                \"transcript_id\": \"ENST00000584816\",\n",
      "                \"gene_id\": \"ENSG00000240498\",\n",
      "                \"gene_symbol_source\": \"HGNC\",\n",
      "                \"biotype\": \"antisense\"\n",
      "            },\n",
      "            {\n",
      "                \"impact\": \"MODIFIER\",\n",
      "                \"gene_symbol\": \"CDKN2B-AS1\",\n",
      "                \"transcript_id\": \"ENST00000585267\",\n",
      "                \"strand\": 1,\n",
      "                \"distance\": 4959,\n",
      "                \"hgnc_id\": 34341,\n",
      "                \"consequence_terms\": [\n",
      "                    \"downstream_gene_variant\"\n",
      "                ],\n",
      "                \"variant_allele\": \"C\",\n",
      "                \"biotype\": \"antisense\",\n",
      "                \"gene_symbol_source\": \"HGNC\",\n",
      "                \"gene_id\": \"ENSG00000240498\"\n",
      "            }\n",
      "        ],\n",
      "        \"assembly_name\": \"GRCh37\",\n",
      "        \"id\": \"9_22125503_-/C\",\n",
      "        \"end\": 22125502,\n",
      "        \"seq_region_name\": \"9\",\n",
      "        \"allele_string\": \"-/C\",\n",
      "        \"regulatory_feature_consequences\": [\n",
      "            {\n",
      "                \"consequence_terms\": [\n",
      "                    \"regulatory_region_variant\"\n",
      "                ],\n",
      "                \"variant_allele\": \"C\",\n",
      "                \"regulatory_feature_id\": \"ENSR00002081590\",\n",
      "                \"impact\": \"MODIFIER\",\n",
      "                \"biotype\": \"enhancer\"\n",
      "            }\n",
      "        ],\n",
      "        \"start\": 22125503,\n",
      "        \"input\": \"9 22125503 22125502 -/C 1\"\n",
      "    }\n",
      "]\n"
     ]
    }
   ],
   "source": [
    "import json, requests, sys\n",
    " \n",
    "server = \"https://grch37.rest.ensembl.org\"\n",
    "ext = \"/vep/human/region/9:22125503-22125502:1/C?\"\n",
    " \n",
    "r = requests.get(server+ext, headers={ \"Content-Type\" : \"application/json\"})\n",
    " \n",
    "if not r.ok:\n",
    "  r.raise_for_status()\n",
    "  sys.exit()\n",
    " \n",
    "decoded = r.json()\n",
    "print(json.dumps(decoded, indent=4))"
   ]
  },
  {
   "cell_type": "markdown",
   "metadata": {},
   "source": [
    "<div class=\"alert alert-block alert-warning\">\n",
    "    <b>Zadanie 3:</b> Na podstawie dokumentacji stwórz zapytanie do API które pozowli na uzyskanie infomacji o jednej konsekwencji dla wariantu w danej pozycji genomowej.\n",
    "</div>"
   ]
  },
  {
   "cell_type": "code",
   "execution_count": null,
   "metadata": {},
   "outputs": [],
   "source": []
  },
  {
   "cell_type": "markdown",
   "metadata": {},
   "source": [
    "<div class=\"alert alert-block alert-warning\">\n",
    "    <b>Zadanie 4:</b> Na podstawie dokumentacji stwórz zapytanie które bedzie zwracało najpoważniejsze konsekwencje dla danej pozycji genomowej w każdym genie występującym w danym loci.\n",
    "</div>"
   ]
  },
  {
   "cell_type": "code",
   "execution_count": null,
   "metadata": {},
   "outputs": [],
   "source": []
  },
  {
   "cell_type": "markdown",
   "metadata": {},
   "source": [
    "***\n",
    "# Programy do zarządzania przepływem danych\n",
    "\n",
    "Najczęsciej w przypadku analizy danych genomowych mamy wiele próbek które mogą wymagac odpowiedniej obróbki bioinformatycznej. Dlatego możemy stworzyć stałe, okreslone zadania i skrypty. Przydaja się do tego programy pomagające w przepływie danych i pracy, które pozwalają na automatyzację procesów, a także tworzenie powtarzalnych i skalowalnych analiz danych. Pozwalają na konfigurację, kontrolę jakości i monitorowanie sekwencji zadań. Z ich pomocą możemy tworzyć gotowe schematy reguł co ułatwi nam uruchomienie wybranych procesów w dowolnym momencie.\n",
    "\n",
    "Przykładem takiego narzędzie może być <a href=\"https://snakemake.readthedocs.io/en/stable/\">Snakemake</a>. Pozwala on na stworzenie reguł, które opisują co należy zrobić, aby z danych plików wejściowych, przeprowadzając konkretne działania, powstały określone pliki wyjściowe.\n",
    "\n",
    "Inne popularne narzędzia działające na podobnej zasadzie to:\n",
    "\n",
    "<a href=\"https://www.nextflow.io/\">Nextflow</a>\n",
    "\n",
    "<a href=\"https://www.commonwl.org/\">Common Workflow Language (CWL)</a>\n",
    "\n",
    "<a href=\"https://openwdl.org/\">Workflow Description Language (WDL)</a>"
   ]
  }
 ],
 "metadata": {
  "kernelspec": {
   "display_name": "omics-genomika",
   "language": "python",
   "name": "omics-genomika"
  },
  "language_info": {
   "codemirror_mode": {
    "name": "ipython",
    "version": 3
   },
   "file_extension": ".py",
   "mimetype": "text/x-python",
   "name": "python",
   "nbconvert_exporter": "python",
   "pygments_lexer": "ipython3",
   "version": "3.9.20"
  }
 },
 "nbformat": 4,
 "nbformat_minor": 4
}
