{
 "cells": [
  {
   "cell_type": "markdown",
   "metadata": {},
   "source": [
    "# Część trzecia\n",
    "<div class=\"alert alert-block alert-danger\">\n",
    "<b>Uwaga:</b> Należy upewnić się że w prawym górnym rogu tego okna wybrany jest kernel \"edugen\" a nie \"Python 3\"\n",
    "</div>\n",
    "\n",
    "***\n",
    "## Format VCF\n",
    "***\n",
    "\n",
    "Przyjętym standardowym formatem plików przechowującym informację o wariantach jest format <a href=\"http://samtools.github.io/hts-specs/VCFv4.3.pdf\">VCF (Variant Call Format)</a>. W takich plikach przechowywana jest informacja o wszystkich wariantach odnalezionych przez program do variant callingu. Pliki VCF możemy podzielić na trzy sekcje:\n",
    "- metadanych (@meta)\n",
    "- informacje o wariatach (@fix)\n",
    "- informacje o genotypie (@gt)\n",
    "\n",
    "<img src=\"png/vcf.png\" width=\"400\">\n"
   ]
  },
  {
   "cell_type": "code",
   "execution_count": null,
   "metadata": {},
   "outputs": [],
   "source": [
    "! head -n 50 sandbox/motherHC.vcf"
   ]
  },
  {
   "cell_type": "markdown",
   "metadata": {},
   "source": [
    "***\n",
    "### Region metadanych (@meta)\n",
    "Znajduje się na początku pliku i zawiera informacje (poprzedzone znakami \"##\") dotyczące programu który wygenerował plik VCF oraz parametrów używanych przez ten program, jak również informacje na temat skrótów stoowanych w innych miejscach pliku. Dane w tej sekcji są zapisywane w kolejnych wierszach. Pozostałe regiony mają formę tabeli.\n",
    "\n",
    "### Region informacji o wariancie (@fix)\n",
    "Region ten obejmuje pierwszych 8 kolumn, które zawierają informację o konkretnym wariancie. Dane te są wspólne dla wszystkich wariantów i obejmują:\n",
    "- pozycję chromosomową (kolumny \"#CHROM\" i \"POS\")\n",
    "- identyfikator wariantu, np. z bazy dbSNP (kolumna \"ID\")\n",
    "- allel referencyjny i zmieniony (kolejno kolumny \"REF\" i \"ALT\") - uwaga, liczba zmienionych alleli może być większa niż 1, sa wtedy zapisywane po przecinku\n",
    "- informację o jakości danego wariantu (kolumna \"QUAL\")\n",
    "- informację czy wariant przeszedł filtr jakości (kolumna \"FILTER\")\n",
    "\n",
    "### Region informacji o genotypie (@gt)\n",
    "W tym regionie znajdziemy informację związane z danym wariantem dla poszczególnych próbek. W 10 kolumnie poszczególne wartości sa oddzielone od siebie dwukropkiem, a informację co która wartość oznacza znajdują się w kolumnie 9 (\"FORMAT\"). Najczęsciej są to informacje o genotypie, ilości odczytów w danym miejscu czy ich jakości, a wyjaśnienie stosowanych skrótów i co oznaczają znajdziemy w regionie metadanych (oraz na stronie specyfikacji formatu VCF). Jeśli w pliku VCF opisanych jest kilka próbek, to informacje dla kolejnych próbek są zapisywane w kolejnych kolumnach. Pola które zwyczajowo znajdują się w tym regionie to:\n",
    "- GT (Genotype) - genotyp w danym miejscu, oddzielony znakami \"/\" lub \"|\". Wartość 0 oznacza allel referencyjny, 1 oznacza pierwszy zmieniony allel z pola \"ALT\", 2 drugi allel itd. Kombinacja 0/1 oznacza heterozygotyczna zmianę, 1/1 zmianę homozygotyczną\n",
    "- AD (Allel Read Depth) - liczba odczytów zawierających dany wariant\n",
    "- DP (Read Depth) - ogólna liczba odczytów w danym miejscu\n",
    "\n",
    "| #CHROM | POS    | ID    | REF | ALT | QUAL | FILTER | INFO | FORMAT   | SAMPLE_1_ID           | SAMPLE_2_ID               |\n",
    "|--------|--------|-------|-----|-----|------|--------|------|----------|-----------------------|---------------------------|\n",
    "| 22     | 160036 | snp_1 | A   | C   | .    | PASS   | .    | GT:AD:DP | 0/1:7:30              | 1/1:31:31                 |\n",
    "| 22     | 160408 | snp_2 | T   | C   | .    | PASS   | .    | GT:AD:DP | ./.:.:.               | 0/1:10:21                 |\n",
    "| 22     | 160612 | snp_2 | C   | G   | .    | PASS   | .    | GT:AD:DP | 0/1:22:53             | 1/1:41:41                 |\n",
    "\n",
    "***\n",
    "## Normalizacja plików VCF\n",
    "***\n",
    "Pomimo tego, że VCF jest standardowym formatem przechowywania danych o wariantach to warianty mogą być przechowywane w różnej postaci. W celu unifikacji tych informacji należy skorzystac z <a href=\"https://genome.sph.umich.edu/wiki/Vt\">narzędzia Vt</a>. Pozwala ono na rozbicie multi-allelicznych wariantów na poszczególne wiersze. Dodatkowo ujednolica sposób zapisu wariantów typu INDEL, tak aby były przesunięte możliwie najbardziej na \"lewo\" oraz możliwie najbardziej \"oszczędne\" w zapisie.\n",
    "<img src=\"png/Normalizacja.png\">\n",
    "\n",
    "***\n",
    "Sprawdźmy najpierw czy nasz plik posiada warianty multialleliczne. Możemy użyć do tego funkcji `view` programu `Vt` i przefiltrować plik w poszukiwaniu tych wariantów.\n",
    "<div class=\"alert alert-block alert-warning\">\n",
    "    <b>Zadanie:</b> Na podstawie dokumentacji programu Vt wyświetl warianty multialleliczne z próbki <b>sandbox/motherHC.vcf</b> \n",
    "</div>"
   ]
  },
  {
   "cell_type": "code",
   "execution_count": null,
   "metadata": {},
   "outputs": [],
   "source": []
  },
  {
   "cell_type": "markdown",
   "metadata": {},
   "source": [
    "***\n",
    "W naszym pliku znajduje się 8 wariantów biallelicznych. Najpierw nalezy przeprowadzić dekompozycję, czyli rozbicie tych wariantów a następnie normalizację, czyli ujednolicenie zapisu wszystkich wariantów. Służą do tego kolejno funkcje `decompose` oraz `normalize`."
   ]
  },
  {
   "cell_type": "code",
   "execution_count": null,
   "metadata": {},
   "outputs": [],
   "source": [
    "! vt decompose -s sandbox/motherHC.vcf | vt normalize -r ref/ref.fasta - > sandbox/motherHC.vt.vcf"
   ]
  },
  {
   "cell_type": "markdown",
   "metadata": {},
   "source": [
    "***\n",
    "## Eksploracja plików VCF\n",
    "***\n",
    "Narzędziem służącym do manipulowania plikami VCF jest `bcftools`. Program ten posiada <a href=\"https://samtools.github.io/bcftools/bcftools.html\">wiele opcji</a>, możemy na przykład filtrować warianty, wydzielać regiony czy podsumować dane. Na początek porównajmy pliki przed i po obróbce programem Vt.\n",
    "\n",
    "<div class=\"alert alert-block alert-warning\">\n",
    "    <b>Zadanie:</b> Policz ile wariantów znajduje się w plikach <b>motherHC.vcf</b> i <b>motherHC.vt.vcf</b>. Czy w pliku źródłowym były warianty multialleliczne? Użyj poleceń bash - <i>cat</i>, <i>grep</i> i <i>wc</i> \n",
    "</div>"
   ]
  },
  {
   "cell_type": "code",
   "execution_count": null,
   "metadata": {},
   "outputs": [],
   "source": []
  },
  {
   "cell_type": "markdown",
   "metadata": {},
   "source": [
    "Możemy również podejrzeć ile jest wariantów typu snp lub indel. Służy do tego komenda `view` z argumentem `-v`."
   ]
  },
  {
   "cell_type": "code",
   "execution_count": null,
   "metadata": {},
   "outputs": [],
   "source": [
    "! bcftools view -v snps sandbox/motherHC.vcf | grep -v \"^#\" | wc -l\n",
    "! bcftools view -v indels sandbox/motherHC.vcf | grep -v \"^#\" | wc -l"
   ]
  },
  {
   "cell_type": "markdown",
   "metadata": {},
   "source": [
    "***\n",
    "### Poszukiwanie wariantów wspólnych lub unikalnych\n",
    "Przydatną funkcją może być poszukiwanie wariantów które występują w dwóch lub większej liczbie próbek, lub wariantów unikalnych dla danej próbki. Służy do tego komenda `isec` z pakietu `bcftools` o której więcej możemy <a href=\"https://samtools.github.io/bcftools/bcftools.html#isec\">poczytać tutaj</a>. Domyślnie program daje wyniki w postaci wariantów unikalnych dla konkretnych próbek oraz warianty wspólne dla wszystkich. Argument `-p` pozwala określić ścieżkę zapisu plików wynikowych, a następnie podajemy ścieżkę do plików które chcemy porównać. Porównajmy pliki przed i po normalizacji programem `Vt`."
   ]
  },
  {
   "cell_type": "code",
   "execution_count": null,
   "metadata": {},
   "outputs": [],
   "source": [
    "! bcftools isec -p sandbox/isec sandbox/motherHC.vcf.gz sandbox/motherHC.vt.vcf.gz"
   ]
  },
  {
   "cell_type": "markdown",
   "metadata": {},
   "source": [
    "Wyniki znajdziemy w folderze `sandbox/isec`, w którym utworzyły się 4 pliki, ich opis znajduje się w pliku `README.txt`"
   ]
  },
  {
   "cell_type": "code",
   "execution_count": null,
   "metadata": {},
   "outputs": [],
   "source": [
    "! cat sandbox/isec/README.txt"
   ]
  },
  {
   "cell_type": "markdown",
   "metadata": {},
   "source": [
    "Możemy bliżej przyjrzeć się plikom wynikowym i zobaczyć warianty unikalne oraz wspólne"
   ]
  },
  {
   "cell_type": "code",
   "execution_count": null,
   "metadata": {},
   "outputs": [],
   "source": [
    "! cat sandbox/isec/0000.vcf | grep -v \"##\" | head -n 100"
   ]
  },
  {
   "cell_type": "code",
   "execution_count": null,
   "metadata": {},
   "outputs": [],
   "source": [
    "! cat sandbox/isec/0000.vcf | grep -v \"##\" | wc -l"
   ]
  },
  {
   "cell_type": "markdown",
   "metadata": {},
   "source": [
    "***\n",
    "### Łączenie kilku plików VCF w jeden\n",
    "Program `bcftools` pozwala również na łączenie kilku plików VCF w jeden. Służy do tego funkcja `merge`, która posiada <a href=\"https://samtools.github.io/bcftools/bcftools.html#merge\">kilka opcji</a>. Połączymy pliki z przed i po normalizacji. Aby tego dokonać najpierw musimy je skompresować i utworzyć dla nich indeksy."
   ]
  },
  {
   "cell_type": "code",
   "execution_count": null,
   "metadata": {},
   "outputs": [],
   "source": [
    "! bgzip -c sandbox/motherHC.vcf > sandbox/motherHC.vcf.gz\n",
    "! bgzip -c sandbox/motherHC.vt.vcf > sandbox/motherHC.vt.vcf.gz\n",
    "! bcftools index -t sandbox/motherHC.vcf.gz\n",
    "! bcftools index -t sandbox/motherHC.vt.vcf.gz"
   ]
  },
  {
   "cell_type": "markdown",
   "metadata": {},
   "source": [
    "Nastepnie za pomoca argumentu `-o` podajemy miejsce i nazwę pliku wynikowego. W naszym przypadku musimy również użyć argumentu `--force-samples`, ponieważ nasze pliki mają samą nazwę zapisaną w środku pliku VCF.\n",
    "<div class=\"alert alert-block alert-warning\">\n",
    "    <b>Zadanie:</b> Połącz pliki <b>motherHC.vcf</b> i <b>motherHC.vt.vcf</b> w jeden plik VCF. Następnie zbadaj jak wygląda zapis wariantów które zostały znormalizowane.  \n",
    "</div>"
   ]
  },
  {
   "cell_type": "code",
   "execution_count": null,
   "metadata": {},
   "outputs": [],
   "source": []
  },
  {
   "cell_type": "code",
   "execution_count": null,
   "metadata": {},
   "outputs": [],
   "source": []
  },
  {
   "cell_type": "markdown",
   "metadata": {},
   "source": [
    "***\n",
    "# Adnotacja plików VCF\n",
    "Nie wszystkie warianty są dla nas interesujące. Znakomita większość z nich to warianty w regionach niekodujących, bądź warianty bez wpływu na kodowane białko. Informacja w plikach VCF które otrzymujemy najczęsciej pozbawiona jest podstawowych danych, np. o nazwie genu w obrębie którego lokalizuje sie dany wariant, rodzaju zmiany, częstości wariantu w populacji itd. Dlatego pliki VCF należy jeszcze zaadnotować. Od nas zależy jakiego rodzaju dane i z jakich baz danych chcemy je pozyskać. Istnieje wiele programów do adnotacji, do najpopularniejszych należą <a href=\"https://doc-openbio.readthedocs.io/projects/annovar/en/latest/\">Annovar</a> oraz <a href=\"http://grch37.ensembl.org/info/docs/tools/vep/index.html\">Variant Effect Predictor</a>. Są to \n",
    "\n",
    "Na zajęciach możemy skorzystać z przeglądarkowej <a href=\"http://grch37.ensembl.org/Tools/VEP\">wersji VEP</a>"
   ]
  },
  {
   "cell_type": "markdown",
   "metadata": {},
   "source": [
    "***\n",
    "# Programy do zarządzania przepływem danych\n",
    "\n",
    "Najczęsciej w przypadku analizy danych genomowych mamy wiele próbek które mogą wymagac odpowiedniej obróbki bioinformatycznej. Dlatego możemy stworzyć stałe, okreslone zadania i skrypty. Przydaja się do tego programy pomagające w przepływie danych i pracy, które pozwalają na automatyzację procesów, a także tworzenie powtarzalnych i skalowalnych analiz danych. Pozwalają na konfigurację, kontrolę jakości i monitorowanie sekwencji zadań. Z ich pomocą możemy tworzyć gotowe schematy reguł co ułatwi nam uruchomienie wybranych procesów w dowolnym momencie.\n",
    "\n",
    "Przykładem takiego narzędzie może być <a href=\"https://snakemake.readthedocs.io/en/stable/\">Snakemake</a>. Pozwala on na stworzenie reguł, które opisują co należy zrobić, aby z danych plików wejściowych, przeprowadzając konkretne działania, powstały określone pliki wyjściowe.\n",
    "\n",
    "**Graficzny przykład reguły:**<br>\n",
    "<img src=\"png/snakemake.png\">\n",
    "\n",
    "\n",
    "**Przykład reguły:**\n",
    "\n",
    "rule bwa:<br>\n",
    "    input:<br>\n",
    "        \"data/genome.fa\",<br>\n",
    "        \"data/samples/A.fastq\"<br>\n",
    "    output:<br>\n",
    "        \"mapped/A.bam\"<br>\n",
    "    conda:<br>\n",
    "        \"envs/mapping.yaml\"<br>\n",
    "    shell:<br>\n",
    "        \"bwa mem {input} | samtools view -Sb - > {output}\"<br>"
   ]
  },
  {
   "cell_type": "markdown",
   "metadata": {},
   "source": [
    "***\n",
    "# Analiza danych pacjentów z rzadkimi chorobami monogenowymi\n",
    "\n",
    "Kolejne kroki w priorytetyzacji wariantów:\n",
    "1. Odfiltrowanie wariantów nie przechodzących filtru jakości (kolumna F - \"FILTER\")\n",
    "1. Odfiltrowanie wariantów nie kodujących (intron, intergenic, synonymous, upstream, downstream, UTR) - (kolumna O - \"Consequence\")\n",
    "1. Odfiltrowanie wariantów częstych (powyżej 0.1% w populacji) - (kolumna AB - \"gnomAD_AF\", kolumna BR - \"exome_af\")\n",
    "1. Analiza wariantów pod względem dziedziczenia (kolumna R - \"inheritanceOMIM\"), zygotyczności wariantu (kolumna M - \"Zyg\") oraz fenotypu (kolumna S - \"phenotypeOMIM\")\n",
    "\n",
    "***\n",
    "### Opis kolumn w plikach do analizy\n",
    "\n",
    "| Nazwa   kolumny        | Opis                                                                                                                                                                                                                                                                                                                                                                                                                                                                                                                                     |\n",
    "|------------------------|------------------------------------------------------------------------------------------------------------------------------------------------------------------------------------------------------------------------------------------------------------------------------------------------------------------------------------------------------------------------------------------------------------------------------------------------------------------------------------------------------------------------------------------|\n",
    "| Sex                    | Płeć                                                                                                                                                                                                                                                                                                                                                                                                                                                                                                                                     |\n",
    "| Chr                    | Chromosom na którym   zlokalizowany jest wariant                                                                                                                                                                                                                                                                                                                                                                                                                                                                                         |\n",
    "| POS                    | Pozycja chromosomowa danego   wariantu                                                                                                                                                                                                                                                                                                                                                                                                                                                                                                   |\n",
    "| Ref                    | Nukleotyd(y) który znajduje   się w danej pozycji chromosomowej w sekwencji referencyjnej                                                                                                                                                                                                                                                                                                                                                                                                                                                |\n",
    "| Alt                    | Zmieniony nukleotyd(y)                                                                                                                                                                                                                                                                                                                                                                                                                                                                                                                   |\n",
    "| FILTER                 | Czy dany wariant przechodzi   filtr jakości GATK                                                                                                                                                                                                                                                                                                                                                                                                                                                                                         |\n",
    "| Qual                   | Wartość   okreslająca prawdopodobieństwo że w danym miejscu doszło do mutacji                                                                                                                                                                                                                                                                                                                                                                                                                                                            |\n",
    "| GnomAD_url             | Link do wariantu w bazie   gnomAD v3                                                                                                                                                                                                                                                                                                                                                                                                                                                                                                     |\n",
    "| VarSome_url            | Link do wariantu w bazie   VarSome                                                                                                                                                                                                                                                                                                                                                                                                                                                                                                       |\n",
    "| AD                     | Allelic Depth - Liczba   odczytów dla zmienionego nukleotydu                                                                                                                                                                                                                                                                                                                                                                                                                                                                             |\n",
    "| DP                     | Read Depth - Łączna liczba   odczytów w danym miejscu                                                                                                                                                                                                                                                                                                                                                                                                                                                                                    |\n",
    "| VAF                    | Variant Allele Frequency -   Stosunek liczby zmienionych odczytów względem referencji (AD/DP)                                                                                                                                                                                                                                                                                                                                                                                                                                            |\n",
    "| Zyg                    | Zygotyczność danego wariantu                                                                                                                                                                                                                                                                                                                                                                                                                                                                                                             |\n",
    "| Symbol                 | Nazwa genu                                                                                                                                                                                                                                                                                                                                                                                                                                                                                                                               |\n",
    "| Consequence            | Konsekwencja   dla danego wariantu (np.. missense, synonymous)                                                                                                                                                                                                                                                                                                                                                                                                                                                                           |\n",
    "| Impact                 | Potencjalny wpływ wariantu na   kodowane białko. Każda konsekwencja posiada przypisany potencjalny wpływ                                                                                                                                                                                                                                                                                                                                                                                                                                 |\n",
    "| rs_dbSNP               | Identyfikator wariantu w bazie   dbSNP                                                                                                                                                                                                                                                                                                                                                                                                                                                                                                   |\n",
    "| inheritanceOMIM        | Dziedziczenie dla danego genu   wg bazy OMIM                                                                                                                                                                                                                                                                                                                                                                                                                                                                                             |\n",
    "| phenotypeOMIM          | Fenotyp(y) przypisane do   danego genu wg bazy OMIM                                                                                                                                                                                                                                                                                                                                                                                                                                                                                      |\n",
    "| OMIM_url               | Link do bazy OMIM dla danego   genu                                                                                                                                                                                                                                                                                                                                                                                                                                                                                                      |\n",
    "| HGVS                   | Zapis wariantu zgodny z HGVS   (jeżeli w VEP jest przypisana dla danego wariantu sekwencja RefSeq (NM_) to   jest ona użyta, jeżeli nie, uzywany jest transkrypt wg Ensembl)                                                                                                                                                                                                                                                                                                                                                             |\n",
    "| key                    | Opis wariantu w formie   chromosom:pozycja chromosomowa_allel referencyjny>allel zmieniony                                                                                                                                                                                                                                                                                                                                                                                                                                               |\n",
    "| Position               | Pozycja danego wariantu w   genie - tzn. dla wariantów eksomowych - numer eksonu i pozycja nukleotydu w   sekwencji kodującej, dla wariantów intronowych numer intronu                                                                                                                                                                                                                                                                                                                                                                   |\n",
    "| CLNSIG                 | Ocena patogenności wariantu wg   ClinVar                                                                                                                                                                                                                                                                                                                                                                                                                                                                                                 |\n",
    "| CLNDN                  | Przypisana dla wariantu   jednostka chorobowa/fenotyp                                                                                                                                                                                                                                                                                                                                                                                                                                                                                    |\n",
    "| CLNREVSTAT             | Status oceny   danego wariantu wg ClinVar                                                                                                                                                                                                                                                                                                                                                                                                                                                                                                |\n",
    "| ClinVar_url            | Link do wariantu w bazie   ClinVar                                                                                                                                                                                                                                                                                                                                                                                                                                                                                                       |\n",
    "| gnomAD_AF              | Częstotliwość wariantu w bazie   gnomAD v3 dla wszystkich próbek z tej bazy (71702 genomy)                                                                                                                                                                                                                                                                                                                                                                                                                                               |\n",
    "| gnomAD_AF_NFE          | Częstotliwość wariantu w bazie   gnomAD v3 dla pacjentów z populacji europejskiej (z wyłączeniem Finów)                                                                                                                                                                                                                                                                                                                                                                                                                                  |\n",
    "| gnomAD_AF_FIN          | Częstotliwość wariantu w bazie   gnomAD v3 dla Finów                                                                                                                                                                                                                                                                                                                                                                                                                                                                                     |\n",
    "| gnomAD_AF_AFR          | Częstotliwość wariantu w bazie   gnomAD v3 dla pacjentów z populacji afrykańskiej                                                                                                                                                                                                                                                                                                                                                                                                                                                        |\n",
    "| gnomAD_AF_AMR          | Częstotliwość wariantu w bazie   gnomAD v3 dla pacjentów z populacji amerykańskiej                                                                                                                                                                                                                                                                                                                                                                                                                                                       |\n",
    "| gnomAD_AF_ASJ          | Częstotliwość wariantu w bazie   gnomAD v3 dla pacjentów z populacji żydów aszkenazyjskich                                                                                                                                                                                                                                                                                                                                                                                                                                               |\n",
    "| gnomAD_AF_EAS          | Częstotliwość wariantu w bazie   gnomAD v3 dla pacjentów z populacji wschodnioazjatyckiej                                                                                                                                                                                                                                                                                                                                                                                                                                                |\n",
    "| gnomAD_AF_SAS          | Częstotliwość wariantu w bazie   gnomAD v3 dla pacjentów z populacji południowoazjatyckiej                                                                                                                                                                                                                                                                                                                                                                                                                                               |\n",
    "| gnomAD_AF_AMI          | Częstotliwość wariantu w bazie   gnomAD v3 dla pacjentów z populacji Amiszów                                                                                                                                                                                                                                                                                                                                                                                                                                                             |\n",
    "| gnomAD_AF_OTH          | Częstotliwość wariantu w bazie   gnomAD v3 dla pacjentów z pozostałych populacji                                                                                                                                                                                                                                                                                                                                                                                                                                                         |\n",
    "| gnomAD_nhomalt         | Liczba wariantów w układzie   homozygotycznym w bazie gnomAD v3 dla danego wariantu                                                                                                                                                                                                                                                                                                                                                                                                                                                      |\n",
    "| SpliceAI_pred          | Predykcja wpływu wariantu na   miejsce splicingowe, obliczona za pomocą sieci neuronowych przez Illuminę.   Format zapisu danych to SYMBOL\\|DS_AG\\|DS_AL\\|DS_DG\\|DS_DL\\|DP_AG\\|DP_AL\\|DP_DG\\|DP_DL. Delta Score (DS) jest obliczony dla miejsc akceptorowych i   rozpatruje czy dane miejsce może zostać aktywowane (Acceptor Gain - AG) lub   utracone (Acceptor Loss - AL), podobnie w przypadku miejsc donowoych (Donor   Gain - DG, Donor Loss - DL). Podawana jest też pozycja Delta Position (DP)   dla poszczególnych przypadków. |\n",
    "| SpliceAI_cutoff        | Przyjmuje wartość PASS jeżeli   którykolwiek Delta Score przekracza próg 0.5, FAIL jeżeli żaden nie jest powyżej 0.5                                                                                                                                                                                                                                                                                                                                                                                                                     |\n",
    "| LoF                    | Ocena   nietolerancji na warianty LoF (Loss of function), im mniejszy wynik tym   bardziej podatny jest dany gen na tego typu zmiany                                                                                                                                                                                                                                                                                                                                                                                                     |\n",
    "| pLI                    | Analogicznie do wcześniejszej   kolumny, ale tutaj im wyższy wynik tym bardziej podatny gen na zmiany typu   LoF.                                                                                                                                                                                                                                                                                                                                                                                                                        |\n",
    "| SIFT                   | D: Deleterious, T: tolerated                                                                                                                                                                                                                                                                                                                                                                                                                                                                                                             |\n",
    "| SIFT4G_pred            | D: Deleterious, T: tolerated. Kilka wartości odnosi się do poszczególnych transkryptów   danego genu                                                                                                                                                                                                                                                                                                                                                                                                                                     |\n",
    "| PolyPhen               | Predykcja PolyPhen, opis   słowny (benign itd.)                                                                                                                                                                                                                                                                                                                                                                                                                                                                                          |\n",
    "| Polyphen2_HDIV_pred    | D: Probably damaging, P:   possibly damaging, B: benign                                                                                                                                                                                                                                                                                                                                                                                                                                                                                  |\n",
    "| MutationTaster_pred    |  A:   disease_causing_automatic, D: disease_causing, N: polymorphism (probably   harmless), P: polymorphism_automatic (known to be harmless)                                                                                                                                                                                                                                                                                                                                                                                             |\n",
    "| MutationAssessor_pred  | H: high, M: medium, L: low, N:   neutral, H/M means functional and L/N means non-functional                                                                                                                                                                                                                                                                                                                                                                                                                                              |\n",
    "| BayesDel_addAF_pred    | D: Damaging, T: Tolerated                                                                                                                                                                                                                                                                                                                                                                                                                                                                                                                |\n",
    "| BayesDel_noAF_pred     | D: Damaging, T: Tolerated                                                                                                                                                                                                                                                                                                                                                                                                                                                                                                                |\n",
    "| LIST-S2_pred           | D: Damaging, T: Tolerated                                                                                                                                                                                                                                                                                                                                                                                                                                                                                                                |\n",
    "| fathmm-MKL_coding_pred | D: Deleterious, T: Tolerated                                                                                                                                                                                                                                                                                                                                                                                                                                                                                                             |\n",
    "| fathmm-XF_coding_pred  | D: Deleterious, T: Tolerated                                                                                                                                                                                                                                                                                                                                                                                                                                                                                                             |\n",
    "| DEOGEN2_pred           | D: Damaging, T: Tolerated                                                                                                                                                                                                                                                                                                                                                                                                                                                                                                                |\n",
    "| LRT_pred               | D: Deleterious, N: Neutral, U:   Unknown                                                                                                                                                                                                                                                                                                                                                                                                                                                                                                 |\n",
    "| M-CAP_pred             | D: Damaging, T: Tolerated                                                                                                                                                                                                                                                                                                                                                                                                                                                                                                                |\n",
    "| MetaLR_pred            | D: Deleterious, T: Tolerated                                                                                                                                                                                                                                                                                                                                                                                                                                                                                                             |\n",
    "| MetaSVM_pred           | D: Deleterious, T: Tolerated                                                                                                                                                                                                                                                                                                                                                                                                                                                                                                             |\n",
    "| PROVEAN_pred           | D: Deleterious, N: Neutral                                                                                                                                                                                                                                                                                                                                                                                                                                                                                                               |\n",
    "| PrimateAI_pred         | D: Damaging, T: Tolerated                                                                                                                                                                                                                                                                                                                                                                                                                                                                                                                |\n",
    "| CADD_phred             | Wartość CADD wyliczana na   podstawie wielu różnych predykcji. Im wyższa, tym większe prawdopodobieństwo   że wariant jest uszkadzający. Nie ma ściśle ustalonej   wartości progowej, jednak niektóre źródła (np. Ensembl) sugeruje granicę 30   (powyżej uszkadzające, poniżej łagodne)                                                                                                                                                                                                                                                 |\n",
    "| Feature                | Numer transkryptu w bazie   Ensembl                                                                                                                                                                                                                                                                                                                                                                                                                                                                                                      |\n",
    "| ENSP                   | Numer sekwencji białkowej wg   bazy Ensembl                                                                                                                                                                                                                                                                                                                                                                                                                                                                                              |\n",
    "| v_hom_exome            | Liczba wariantów w układzie   homozygotycznym dla eksomów w bazie IMID dla danego wariantu                                                                                                                                                                                                                                                                                                                                                                                                                                               |\n",
    "| v_hom_pass_exome       | Liczba wariantów w układzie   homozygotycznym dla eksomów, przechodzących filtr jakości (PASS) w bazie IMID   dla danego wariantu                                                                                                                                                                                                                                                                                                                                                                                                        |\n",
    "| v_het_exome            | Liczba wariantów w układzie   heterozygotycznym dla eksomów w bazie IMID dla danego wariantu                                                                                                                                                                                                                                                                                                                                                                                                                                             |\n",
    "| v_het_pass_exome       | Liczba wariantów w układzie   heterozygotycznym dla eksomów, przechodzących filtr jakości (PASS) w bazie   IMID dla danego wariantu                                                                                                                                                                                                                                                                                                                                                                                                      |\n",
    "| v_hem_exome            | Liczba wariantów w układzie   hemizygotycznym dla eksomów w bazie IMID dla danego wariantu                                                                                                                                                                                                                                                                                                                                                                                                                                               |\n",
    "| v_hem_pass_exome       | Liczba wariantów w układzie   hemizygotycznym dla eksomów, przechodzących filtr jakości (PASS) w bazie IMID   dla danego wariantu                                                                                                                                                                                                                                                                                                                                                                                                        |\n",
    "| exome_af               | Częstość wystepowania danego   wariantu we wszystkich próbkach z eksomów (uwzględniana jest zygotyczność   wariantów)                                                                                                                                                                                                                                                                                                                                                                                                                    |\n",
    "| exome_af_pass          | Częstość wystepowania danego   wariantu we wszystkich próbkach z eksomów, jeżeli przechodzi filtr jakości   (uwzględniana jest zygotyczność wariantów)                                                                                                                                                                                                                                                                                                                                                                                   |\n",
    "***\n",
    "\n",
    "Pliki z adnotacjami pacjentów znajdują się w folderze `case`\n",
    "\n",
    "### Pacjent 1\n",
    "Chłopiec. Cechy kliniczne - małogłowie, opóźnienie rozwoju psychoruchowego, rozszczep podniebienia, padaczka, niedosłuch\n",
    "\n",
    "### Pacjent 2\n",
    "Dziewczynka. Cechy kliniczne - małogłowie, hipoplazja móżdżku, zaburzenia zakrętowości mózgu, dysmorfie twarzy\n",
    "\n",
    "### Pacjent 3\n",
    "Chłopiec. Podejrzenie nnerwiakowłókniakowatości typu I. Cechy kliniczne - plamy o zabarwieniu kawy z mlekiem, zmiany w obrębie tęczówki\n",
    "\n",
    "### Pacjent 4\n",
    "Chłopiec. Podejrzenie zespołu Marfana. Cechy kliniczne - wysoki wzrost, skolioza, płaskostopie"
   ]
  }
 ],
 "metadata": {
  "kernelspec": {
   "display_name": "edugen",
   "language": "python",
   "name": "edugen"
  },
  "language_info": {
   "codemirror_mode": {
    "name": "ipython",
    "version": 3
   },
   "file_extension": ".py",
   "mimetype": "text/x-python",
   "name": "python",
   "nbconvert_exporter": "python",
   "pygments_lexer": "ipython3",
   "version": "3.7.9"
  }
 },
 "nbformat": 4,
 "nbformat_minor": 4
}
