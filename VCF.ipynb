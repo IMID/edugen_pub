{
 "cells": [
  {
   "cell_type": "markdown",
   "metadata": {},
   "source": [
    "# Część trzecia\n",
    "<div class=\"alert alert-block alert-danger\">\n",
    "<b>Uwaga:</b> Należy upewnić się że w prawym górnym rogu tego okna wybrany jest kernel \"edugen\" a nie \"Python 3\"\n",
    "</div>\n",
    "\n",
    "***\n",
    "## Format VCF\n",
    "***\n",
    "\n",
    "Przyjętym standardowym formatem plików przechowującym informację o wariantach jest format <a href=\"http://samtools.github.io/hts-specs/VCFv4.3.pdf\">VCF (Variant Call Format)</a>. W takich plikach przechowywana jest informacja o wszystkich wariantach odnalezionych przez program do variant callingu. Pliki VCF możemy podzielić na trzy sekcje:\n",
    "- metadanych (@meta)\n",
    "- informacje o wariatach (@fix)\n",
    "- informacje o genotypie (@gt)\n",
    "\n",
    "<img src=\"png/vcf.png\" width=\"400\">\n"
   ]
  },
  {
   "cell_type": "code",
   "execution_count": null,
   "metadata": {},
   "outputs": [],
   "source": [
    "! head -n 50 sandbox/motherHC.vcf"
   ]
  },
  {
   "cell_type": "markdown",
   "metadata": {},
   "source": [
    "***\n",
    "### Region metadanych (@meta)\n",
    "Znajduje się na początku pliku i zawiera informacje (poprzedzone znakami \"##\") dotyczące programu który wygenerował plik VCF oraz parametrów używanych przez ten program, czy też na temat skrótów stoowanych w innych miejscach pliku. Dane w tej sekcji są zapisywane w kolejnych wierszach. Pozostałe regiony mają formę tabeli.\n",
    "\n",
    "### Region informacji o wariancie (@fix)\n",
    "Region ten obejmuje pierwszych 8 kolumn, które zawierają informację o konkretnym wariancie. Dane te są wspólne dla wszystkich wariantów i obejmują:\n",
    "- pozycję chromosomową (kolumny \"#CHROM\" i \"POS\")\n",
    "- identyfikator wariantu, np. z bazy dbSNP (kolumna \"ID\")\n",
    "- allel referencyjny i zmieniony (kolejno kolumny \"REF\" i \"ALT\") - uwaga, liczba zmienionych alleli może być większa niż 1, sa wtedy zapisywane po przecinku\n",
    "- informację o jakości danego wariantu (kolumna \"QUAL\")\n",
    "- informację czy wariant przeszedł filtr jakości (kolumna \"FILTER\")\n",
    "\n",
    "### Region informacji o genotypie (@gt)\n",
    "W tym regionie znajdziemy informację związane z danym wariantem dla poszczególnych próbek. W 10 kolumnie poszczególne wartości sa oddzielone od siebie dwukropkiem, a informację co która wartość oznacza znajdują się w kolumnie 9 (\"FORMAT\"). Najczęsciej są to informacje o genotypie, ilości odczytów w danym miejscu czy ich jakości, a wyjaśnienie stosowanych skrótów i co oznaczają znajdziemy w regionie metadanych. Jeśli w pliku VCF opisanych jest kilka próbek, to informacje te dla kolejnych próbek są zapisywane w kolejnych kolumnach. Pola które zwyczajowo znajdują się w tym regionie to:\n",
    "- GT (Genotype) - genotyp w danym miejscu, oddzielony znakami \"/\" lub \"|\". Wartość 0 oznacza allel referencyjny, 1 oznacza pierwszy zmieniony allel z pola \"ALT\", 2 drugi allel itd. Kombinacja 0/1 oznacza heterozygotyczna zmianę, 1/1 zmianę homozygotyczną\n",
    "- AD (Allel Read Depth) - liczba odczytów zawierających dany wariant\n",
    "- DP (Read Depth) - ogólna liczba odczytów w danym miejscu\n",
    "\n",
    "| #CHROM | POS    | ID    | REF | ALT | QUAL | FILTER | INFO | FORMAT   | SAMPLE_1_ID           | SAMPLE_2_ID               |\n",
    "|--------|--------|-------|-----|-----|------|--------|------|----------|-----------------------|---------------------------|\n",
    "| 22     | 160036 | snp_1 | A   | C   | .    | PASS   | .    | GT:AD:DP | 0/1:7:30              | 1/1:31:31                 |\n",
    "| 22     | 160408 | snp_2 | T   | C   | .    | PASS   | .    | GT:AD:DP | ./.:.:.               | 0/1:10:21                 |\n",
    "| 22     | 160612 | snp_2 | C   | G   | .    | PASS   | .    | GT:AD:DP | 0/1:22:53             | 1/1:41:41                 |\n",
    "\n",
    "***\n",
    "## Dekompozycja i normalizacja plików VCF\n",
    "***\n",
    "Pomimo tego, że VCF jest standardowym formatem przechowywania danych o wariantach to warianty mogą być przechowywane w różnej postaci. W celu unifikacji tych informacji należy skorzystac z <a href=\"https://genome.sph.umich.edu/wiki/Vt\">narzędzia Vt</a>. Pozwala ono na rozbicie multi-allelicznych wariantów na poszczególne wiersze. Dodatkowo ujednolica sposób zapisu wariantów typu INDEL, tak aby były przesunięte możliwie najbardziej na \"lewo\" oraz możliwie najbardziej \"oszczędne\" w zapisie.\n",
    "<img src=\"png/Normalizacja.png\">\n",
    "\n",
    "***\n",
    "Najpierw nalezy przeprowadzić dekompozycję, czyli rozbicie wariantów multi-allelicznych a następnie normalizację, czyli ujednolicenie zapisu wariantów."
   ]
  },
  {
   "cell_type": "code",
   "execution_count": null,
   "metadata": {},
   "outputs": [],
   "source": [
    "! vt decompose -s sandbox/motherHC.vcf | vt normalize -r ref/ref.fasta - > sandbox/motherHC.vt.vcf"
   ]
  },
  {
   "cell_type": "markdown",
   "metadata": {},
   "source": [
    "***\n",
    "## Eksploracja plików VCF\n",
    "***\n",
    "Narzędziem służącym do manipulowania plikami VCF jest `bcftools`. Program ten posiada <a href=\"https://samtools.github.io/bcftools/bcftools.html\">wiele opcji</a>, możemy na przykład filtrować warianty, wydzielać regiony czy podsumować dane. Na początek porównajmy pliki przed i po obróbce programem Vt.\n",
    "\n",
    "<div class=\"alert alert-block alert-warning\">\n",
    "    <b>Zadanie:</b> Policz ile wariantów znajduje się w plikach <b>motherHC.vcf</b> i <b>motherHC.vt.vcf</b>. Czy w pliku źródłowym były warianty multialleliczne? Użyj poleceń bash - <i>cat</i>, <i>grep</i> i <i>wc</i> \n",
    "</div>"
   ]
  },
  {
   "cell_type": "code",
   "execution_count": null,
   "metadata": {},
   "outputs": [],
   "source": [
    "! cat sandbox/motherHC.vcf | grep -v \"^#\" | wc -l\n",
    "! cat sandbox/motherHC.vt.vcf | grep -v \"^#\" | wc -l"
   ]
  },
  {
   "cell_type": "markdown",
   "metadata": {},
   "source": [
    "Możemy również podejrzeć ile jest wariantów typu snp lub indel. Służy do tego komenda `view` z argumentem `-v`."
   ]
  },
  {
   "cell_type": "code",
   "execution_count": null,
   "metadata": {},
   "outputs": [],
   "source": [
    "! bcftools view -v snps sandbox/motherHC.vcf | grep -v \"^#\" | wc -l\n",
    "! bcftools view -v indels sandbox/motherHC.vcf | grep -v \"^#\" | wc -l"
   ]
  },
  {
   "cell_type": "markdown",
   "metadata": {},
   "source": [
    "### Poszukiwanie wariantów wspólnych lub unikalnych\n",
    "Przydatną funkcją może być poszukiwanie wariantów które występują w dwóch lub większej liczbie próbek, lub wariantów unikalnych dla danej próbki. Służy do tego komenda `isec` z pakietu `bcftools` o której więcej możemy <a href=\"https://samtools.github.io/bcftools/bcftools.html#isec\">poczytać tutaj</a>. Domyślnie program daje wyniki w postaci wariantów unikalnych dla konkretnych próbek oraz warianty wspólne dla wszystkich."
   ]
  },
  {
   "cell_type": "code",
   "execution_count": null,
   "metadata": {},
   "outputs": [],
   "source": [
    "! bcftools isec -p sandbox/isec vcf/sampleA.vcf.gz vcf/sampleB.vcf.gz "
   ]
  },
  {
   "cell_type": "markdown",
   "metadata": {},
   "source": [
    "Wyniki znajdziemy w folderze `sandbox/isec`, w którym znajdziemy 4 pliki, których opis znajduje się w pliku "
   ]
  }
 ],
 "metadata": {
  "kernelspec": {
   "display_name": "edugen",
   "language": "python",
   "name": "edugen"
  },
  "language_info": {
   "codemirror_mode": {
    "name": "ipython",
    "version": 3
   },
   "file_extension": ".py",
   "mimetype": "text/x-python",
   "name": "python",
   "nbconvert_exporter": "python",
   "pygments_lexer": "ipython3",
   "version": "3.7.9"
  }
 },
 "nbformat": 4,
 "nbformat_minor": 4
}
