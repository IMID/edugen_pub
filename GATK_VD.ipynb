{
 "cells": [
  {
   "cell_type": "markdown",
   "metadata": {},
   "source": [
    "# Wykrywanie wariantów DNA\n",
    "\n",
    "na bazie \n",
    "https://app.terra.bio/#workspaces/help-gatk/GATKTutorials-Germline-June2019/notebooks/launch/1-gatk-germline-variant-discovery-tutorial.ipynb\n"
   ]
  },
  {
   "cell_type": "markdown",
   "metadata": {},
   "source": [
    "### Najpierw troche magii :), czyli kod pozwalający podglądać rozwiązania kolejnych zadań"
   ]
  },
  {
   "cell_type": "code",
   "execution_count": 1,
   "metadata": {},
   "outputs": [],
   "source": [
    "from __future__ import print_function\n",
    "from IPython.core.magic import Magics, magics_class, line_magic\n",
    "import subprocess\n",
    "def create_new_cell(contents):\n",
    "    from IPython.core.getipython import get_ipython\n",
    "    shell = get_ipython()\n",
    "    shell.set_next_input(contents, replace=True)\n",
    "\n",
    "def get_solution(solution_file, solution_local):\n",
    "    subprocess.call(['gsutil' ,'cp', solution_file, solution_local ])\n",
    "    myfile = open(solution_local)\n",
    "    lines = myfile.read()\n",
    "    myfile.close()\n",
    "    ! rm {solution_local}\n",
    "    return lines\n",
    "    \n",
    "\n",
    "\n",
    "@magics_class\n",
    "class MyMagics(Magics):\n",
    "\n",
    "    @line_magic\n",
    "    def lmagic(self, line):\n",
    "        \"Replace current line with new output\"\n",
    "        raw_code = get_solution(\"gs://bucket-edugen/\"+line,line)\n",
    "        self.shell.set_next_input('# %lmagic '+line+'\\n{}'.format(raw_code), replace=True)\n",
    "      \n",
    "ip = get_ipython()\n",
    "ip.register_magics(MyMagics)"
   ]
  },
  {
   "cell_type": "code",
   "execution_count": 2,
   "metadata": {},
   "outputs": [
    {
     "data": {
      "text/html": [
       "<img src=\"https://storage.googleapis.com/gatk-tutorials/workshop_1906/2-germline/images/vd-image1.png\"/>"
      ],
      "text/plain": [
       "<IPython.core.display.Image object>"
      ]
     },
     "execution_count": 2,
     "metadata": {},
     "output_type": "execute_result"
    }
   ],
   "source": [
    "#####\n",
    "from IPython.display import Image\n",
    "from IPython.core.display import HTML \n",
    "Image(url= \"https://storage.googleapis.com/gatk-tutorials/workshop_1906/2-germline/images/vd-image1.png\")"
   ]
  },
  {
   "cell_type": "markdown",
   "metadata": {},
   "source": [
    "## Ustawienia zmiennych"
   ]
  },
  {
   "cell_type": "code",
   "execution_count": 3,
   "metadata": {},
   "outputs": [
    {
     "name": "stdout",
     "output_type": "stream",
     "text": [
      "tgambin\n",
      "/home/jovyan/work/git/edugen_pub/\n"
     ]
    }
   ],
   "source": [
    "import os\n",
    "user_name = os.environ.get('USER')\n",
    "print(user_name)\n",
    "\n",
    "workspace = \"/home/jovyan/work/git/edugen_pub/\"\n",
    "os.environ['WORKSPACE'] = workspace\n",
    "! echo ${WORKSPACE}"
   ]
  },
  {
   "cell_type": "code",
   "execution_count": 4,
   "metadata": {},
   "outputs": [],
   "source": [
    "def clean_all(): \n",
    "    ! rm -r sandbox_trio\n",
    "    ! gsutil rm gs://bucket-$USER/*vcf*\n",
    "    ! gsutil rm gs://bucket-$USER/*bam*"
   ]
  },
  {
   "cell_type": "code",
   "execution_count": 5,
   "metadata": {},
   "outputs": [
    {
     "name": "stdout",
     "output_type": "stream",
     "text": [
      "rm: cannot remove 'sandbox_trio': No such file or directory\n",
      "CommandException: No URLs matched: gs://bucket-tgambin/*vcf*\n",
      "CommandException: No URLs matched: gs://bucket-tgambin/*bam*\n"
     ]
    }
   ],
   "source": [
    "clean_all()"
   ]
  },
  {
   "cell_type": "markdown",
   "metadata": {},
   "source": [
    "### Utworzenie własnego kubełka i jego upubliczenienie"
   ]
  },
  {
   "cell_type": "code",
   "execution_count": 6,
   "metadata": {},
   "outputs": [
    {
     "name": "stdout",
     "output_type": "stream",
     "text": [
      "No changes made to gs://bucket-tgambin/\n"
     ]
    }
   ],
   "source": [
    "! gsutil mb gs://bucket-$USER\n",
    "#! gsutil iam ch -d allUsers:objectViewer gs://bucket-$USER"
   ]
  },
  {
   "cell_type": "markdown",
   "metadata": {},
   "source": [
    "## Wykrywanie wariantów GATK HaplotypeCaller w trybie standardowym\n",
    "\n",
    "Wywolanie GATK HC w najprostszej wersji dla pojedynczej próbki"
   ]
  },
  {
   "cell_type": "code",
   "execution_count": 8,
   "metadata": {},
   "outputs": [
    {
     "name": "stdout",
     "output_type": "stream",
     "text": [
      "Using GATK jar /opt/gatk-4.1.9.0/gatk-package-4.1.9.0-local.jar\n",
      "Running:\n",
      "    java -Dsamjdk.use_async_io_read_samtools=false -Dsamjdk.use_async_io_write_samtools=true -Dsamjdk.use_async_io_write_tribble=false -Dsamjdk.compression_level=2 -jar /opt/gatk-4.1.9.0/gatk-package-4.1.9.0-local.jar HaplotypeCaller -R /home/jovyan/work/git/edugen_pub//ref/ref.fasta -I /home/jovyan/work/git/edugen_pub//bam/mother.bam -O /home/jovyan/work/git/edugen_pub//sandbox/motherHC.vcf -L 20:10,000,000-10,200,000\n",
      "22:05:55.585 INFO  NativeLibraryLoader - Loading libgkl_compression.so from jar:file:/opt/gatk-4.1.9.0/gatk-package-4.1.9.0-local.jar!/com/intel/gkl/native/libgkl_compression.so\n",
      "22:05:56.330 INFO  HaplotypeCaller - ------------------------------------------------------------\n",
      "22:05:56.330 INFO  HaplotypeCaller - The Genome Analysis Toolkit (GATK) v4.1.9.0\n",
      "22:05:56.330 INFO  HaplotypeCaller - For support and documentation go to https://software.broadinstitute.org/gatk/\n",
      "22:05:56.330 INFO  HaplotypeCaller - Executing as jovyan@jupyter-tgambin on Linux v4.19.112+ amd64\n",
      "22:05:56.330 INFO  HaplotypeCaller - Java runtime: OpenJDK 64-Bit Server VM v11.0.9.1+1\n",
      "22:05:56.330 INFO  HaplotypeCaller - Start Date/Time: December 19, 2020 at 10:05:55 PM UTC\n",
      "22:05:56.331 INFO  HaplotypeCaller - ------------------------------------------------------------\n",
      "22:05:56.331 INFO  HaplotypeCaller - ------------------------------------------------------------\n",
      "22:05:56.331 INFO  HaplotypeCaller - HTSJDK Version: 2.23.0\n",
      "22:05:56.331 INFO  HaplotypeCaller - Picard Version: 2.23.3\n",
      "22:05:56.331 INFO  HaplotypeCaller - HTSJDK Defaults.COMPRESSION_LEVEL : 2\n",
      "22:05:56.331 INFO  HaplotypeCaller - HTSJDK Defaults.USE_ASYNC_IO_READ_FOR_SAMTOOLS : false\n",
      "22:05:56.332 INFO  HaplotypeCaller - HTSJDK Defaults.USE_ASYNC_IO_WRITE_FOR_SAMTOOLS : true\n",
      "22:05:56.332 INFO  HaplotypeCaller - HTSJDK Defaults.USE_ASYNC_IO_WRITE_FOR_TRIBBLE : false\n",
      "22:05:56.332 INFO  HaplotypeCaller - Deflater: IntelDeflater\n",
      "22:05:56.332 INFO  HaplotypeCaller - Inflater: IntelInflater\n",
      "22:05:56.332 INFO  HaplotypeCaller - GCS max retries/reopens: 20\n",
      "22:05:56.332 INFO  HaplotypeCaller - Requester pays: disabled\n",
      "22:05:56.332 INFO  HaplotypeCaller - Initializing engine\n",
      "WARNING: BAM index file /home/jovyan/work/git/edugen_pub/bam/mother.bai is older than BAM /home/jovyan/work/git/edugen_pub/bam/mother.bam\n",
      "22:05:56.514 INFO  IntervalArgumentCollection - Processing 200001 bp from intervals\n",
      "22:05:56.519 INFO  HaplotypeCaller - Done initializing engine\n",
      "22:05:56.526 INFO  HaplotypeCallerEngine - Disabling physical phasing, which is supported only for reference-model confidence output\n",
      "22:05:56.548 INFO  NativeLibraryLoader - Loading libgkl_utils.so from jar:file:/opt/gatk-4.1.9.0/gatk-package-4.1.9.0-local.jar!/com/intel/gkl/native/libgkl_utils.so\n",
      "22:05:56.550 INFO  NativeLibraryLoader - Loading libgkl_pairhmm_omp.so from jar:file:/opt/gatk-4.1.9.0/gatk-package-4.1.9.0-local.jar!/com/intel/gkl/native/libgkl_pairhmm_omp.so\n",
      "22:05:56.585 INFO  IntelPairHmm - Flush-to-zero (FTZ) is enabled when running PairHMM\n",
      "22:05:56.585 INFO  IntelPairHmm - Available threads: 4\n",
      "22:05:56.585 INFO  IntelPairHmm - Requested threads: 4\n",
      "22:05:56.586 INFO  PairHMM - Using the OpenMP multi-threaded AVX-accelerated native PairHMM implementation\n",
      "22:05:56.644 INFO  ProgressMeter - Starting traversal\n",
      "22:05:56.644 INFO  ProgressMeter -        Current Locus  Elapsed Minutes     Regions Processed   Regions/Minute\n",
      "22:05:57.394 WARN  InbreedingCoeff - InbreedingCoeff will not be calculated; at least 10 samples must have called genotypes\n",
      "22:06:06.667 INFO  ProgressMeter -          20:10051166              0.2                   290           1736.0\n",
      "22:06:16.695 INFO  ProgressMeter -          20:10130055              0.3                   710           2124.6\n",
      "22:06:21.678 INFO  HaplotypeCaller - 351 read(s) filtered by: MappingQualityReadFilter \n",
      "0 read(s) filtered by: MappingQualityAvailableReadFilter \n",
      "0 read(s) filtered by: MappedReadFilter \n",
      "0 read(s) filtered by: NotSecondaryAlignmentReadFilter \n",
      "6866 read(s) filtered by: NotDuplicateReadFilter \n",
      "0 read(s) filtered by: PassesVendorQualityCheckReadFilter \n",
      "0 read(s) filtered by: NonZeroReferenceLengthAlignmentReadFilter \n",
      "0 read(s) filtered by: GoodCigarReadFilter \n",
      "0 read(s) filtered by: WellformedReadFilter \n",
      "7217 total reads filtered\n",
      "22:06:21.679 INFO  ProgressMeter -          20:10199356              0.4                  1042           2497.3\n",
      "22:06:21.679 INFO  ProgressMeter - Traversal complete. Processed 1042 total regions in 0.4 minutes.\n",
      "22:06:21.688 INFO  VectorLoglessPairHMM - Time spent in setup for JNI call : 0.024212805\n",
      "22:06:21.688 INFO  PairHMM - Total compute time in PairHMM computeLogLikelihoods() : 5.233287117000001\n",
      "22:06:21.688 INFO  SmithWatermanAligner - Total compute time in java Smith-Waterman : 2.65 sec\n",
      "22:06:21.688 INFO  HaplotypeCaller - Shutting down engine\n",
      "[December 19, 2020 at 10:06:21 PM UTC] org.broadinstitute.hellbender.tools.walkers.haplotypecaller.HaplotypeCaller done. Elapsed time: 0.44 minutes.\n",
      "Runtime.totalMemory()=448790528\n"
     ]
    }
   ],
   "source": [
    "! gatk HaplotypeCaller \\\n",
    "    -R ${WORKSPACE}/ref/ref.fasta \\\n",
    "    -I ${WORKSPACE}/bam/mother.bam \\\n",
    "    -O ${WORKSPACE}/sandbox/motherHC.vcf \\\n",
    "    -L 20:10,000,000-10,200,000"
   ]
  },
  {
   "cell_type": "markdown",
   "metadata": {},
   "source": [
    "## Wizualizacja BAM i VCF w programie IGV"
   ]
  },
  {
   "cell_type": "markdown",
   "metadata": {},
   "source": [
    "### Skopiowanie do publicznego kubełka"
   ]
  },
  {
   "cell_type": "code",
   "execution_count": 9,
   "metadata": {},
   "outputs": [
    {
     "name": "stdout",
     "output_type": "stream",
     "text": [
      "Copying file://sandbox/motherHC.vcf.gz [Content-Type=text/vcard]...\n",
      "Copying file://sandbox/motherHC.vcf.gz.tbi [Content-Type=application/octet-stream]...\n",
      "- [2 files][ 18.1 KiB/ 18.1 KiB]                                                \n",
      "Operation completed over 2 objects/18.1 KiB.                                     \n"
     ]
    }
   ],
   "source": [
    "! bgzip -c ${WORKSPACE}/sandbox/motherHC.vcf > ${WORKSPACE}/sandbox/motherHC.vcf.gz\n",
    "! tabix ${WORKSPACE}/sandbox/motherHC.vcf.gz\n",
    "! gsutil cp sandbox/motherHC.vcf.gz* gs://bucket-$USER/"
   ]
  },
  {
   "cell_type": "markdown",
   "metadata": {},
   "source": [
    "<div class=\"alert alert-block alert-warning\">\n",
    "<b>Zadanie 1:</b> Skopiuj plik bam i bai do swojego kubełka  \n",
    "</div>"
   ]
  },
  {
   "cell_type": "code",
   "execution_count": null,
   "metadata": {},
   "outputs": [],
   "source": [
    "%lmagic ex1\n",
    " # Solution to ex 1\n",
    "! gsutil cp bam/mother.bam* gs://bucket-$USER/\n",
    "! gsutil ls gs://bucket-tgambin/"
   ]
  },
  {
   "cell_type": "code",
   "execution_count": null,
   "metadata": {},
   "outputs": [],
   "source": [
    "! zcat ${WORKSPACE}/sandbox/motherHC.vcf.gz | grep 100024"
   ]
  },
  {
   "cell_type": "markdown",
   "metadata": {},
   "source": [
    "### Uruchomienie IGV"
   ]
  },
  {
   "cell_type": "code",
   "execution_count": null,
   "metadata": {},
   "outputs": [],
   "source": [
    "from igv_jupyterlab import IGV\n",
    "# At minimum, IGV requires a single argument, genome.\n",
    "# For supported genomes, a simple name may be supplied.\n",
    "igv = IGV(genome=\"hg19\" )\n",
    "display(igv)\n",
    "import time\n",
    "time.sleep(3)\n",
    "t1 = igv.create_track(\n",
    "        name = \"mother BAM\",\n",
    "        url = \"gs://bucket-\"+user_name+\"/mother.bam\",\n",
    "        index_url= \"gs://bucket-\"+user_name+\"/mother.bam.bai\",        \n",
    "        indexed= True\n",
    ")\n",
    "\n",
    "t2 = igv.create_track(\n",
    "        name= \"mother HC VCF\",\n",
    "        url= \"gs://bucket-\"+user_name+\"/motherHC.vcf.gz\",\n",
    "        index_url= \"gs://bucket-\"+user_name+\"/motherHC.vcf.gz.tbi\",\n",
    "        indexed= True,\n",
    "        visibilityWindow= 1000\n",
    ")\n",
    "igv.load_track(t1)\n",
    "igv.load_track(t2)\n",
    "igv.search_locus(\"20\", 10002294, 10002623)\n"
   ]
  },
  {
   "cell_type": "markdown",
   "metadata": {},
   "source": [
    "<div class=\"alert alert-block alert-warning\">\n",
    "<b>Zadanie 2:</b> Jaka jest zygotyczność dwóch widocznych wariantów? Czy jest ona zgodna z tym co widzimy w odczytach ? \n",
    "</div>\n",
    "\n",
    "<div class=\"alert alert-block alert-warning\">\n",
    "<b>Zadanie 3:</b> Kliknij na ikonę edycji track'u z odczytami i zaznacz opcję \"Soft clip reads\". Algorytm mapowania (BWA MEM) zdecydował, że kara za obcięcie odczytów (Soft clipping) będzie mniejsza niż wstawienie insersji/delecji. \n",
    "</div>\n",
    "\n"
   ]
  },
  {
   "cell_type": "markdown",
   "metadata": {},
   "source": [
    "## Ponowne uliniowienie odczytów i zasemblowane haplotypy\n",
    "\n",
    "HaplotypeCaller posiada parametr -bamout pozwalający na wyświetlenie ponownie uliniowionych odczytów,\n",
    "które następnie są wykorzystywane do wykrywania wariantów.\n"
   ]
  },
  {
   "cell_type": "code",
   "execution_count": null,
   "metadata": {},
   "outputs": [],
   "source": [
    "! gatk HaplotypeCaller \\\n",
    "    -R ${WORKSPACE}/ref/ref.fasta \\\n",
    "    -I ${WORKSPACE}/bam/mother.bam\\\n",
    "    -O ${WORKSPACE}/sandbox/motherHCdebug.vcf \\\n",
    "    -bamout ${WORKSPACE}/sandbox/motherHCdebug.bam \\\n",
    "    -L 20:10,002,000-10,003,000"
   ]
  },
  {
   "cell_type": "markdown",
   "metadata": {},
   "source": [
    "<div class=\"alert alert-block alert-warning\">\n",
    "<b>Zadanie 4:</b> Wyświetl dla porównania obydwa BAMy (zwykły i debug) oraz VCF. Przy wyświetlaniu BAM'ów ustaw opcję \n",
    "    showSoftClips = True, aby od razu wyświetlały się split ready. Inne opcje są dostępne na: https://github.com/igvteam/igv.js/wiki/Alignment-Track\n",
    "</div>"
   ]
  },
  {
   "cell_type": "code",
   "execution_count": null,
   "metadata": {},
   "outputs": [],
   "source": [
    "# %lmagic ex4\n",
    "#Solution to ex4\n",
    "\n",
    "! gsutil cp sandbox/motherHCdebug.ba* gs://bucket-$USER/\n",
    "from igv_jupyterlab import IGV\n",
    "# At minimum, IGV requires a single argument, genome.\n",
    "# For supported genomes, a simple name may be supplied.\n",
    "igv = IGV(genome=\"hg19\" )\n",
    "display(igv)\n",
    "import time\n",
    "time.sleep(3)\n",
    "t1 = igv.create_track(\n",
    "        name = \"mother BAM\",\n",
    "        url = \"gs://bucket-\"+user_name+\"/mother.bam\",\n",
    "        index_url= \"gs://bucket-\"+user_name+\"/mother.bam.bai\",    \n",
    "        showSoftClips=True,\n",
    "        indexed= True\n",
    ")\n",
    "\n",
    "t2 = igv.create_track(\n",
    "        name= \"mother HC debug BAM\",\n",
    "        url= \"gs://bucket-\"+user_name+\"/motherHCdebug.bam\",\n",
    "        index_url= \"gs://bucket-\"+user_name+\"/motherHCdebug.bai\",\n",
    "        indexed= True,\n",
    "        showSoftClips=True,\n",
    "        visibilityWindow= 1000\n",
    ")\n",
    "t3 = igv.create_track(\n",
    "        name= \"mother HC VCF\",\n",
    "        url= \"gs://bucket-\"+user_name+\"/motherHC.vcf.gz\",\n",
    "        index_url= \"gs://bucket-\"+user_name+\"/motherHC.vcf.gz.tbi\",\n",
    "        indexed= True,\n",
    "        visibilityWindow= 1000\n",
    ")\n",
    "igv.load_track(t1)\n",
    "igv.load_track(t2)\n",
    "igv.load_track(t3)\n",
    "igv.search_locus(\"20\", 10002294, 10002623)"
   ]
  },
  {
   "cell_type": "markdown",
   "metadata": {},
   "source": [
    "Ponieważ jesteśmy zainteresowani jednym miejscem (20:10,002,000-10,003,000) to dokonalismy reuliniowienia tylko tego fragmentu. "
   ]
  },
  {
   "cell_type": "markdown",
   "metadata": {},
   "source": [
    "Po ponownym uliniowieniu zniknęły obcięte odczyty (soft clipped reads) . HaplotypeCaller wykorzystuje odczyty 'soft-clipped' do ponownego uliniowienia. Z analizy odczytów wynika, że insercja i pobliski SNP są ze sobą sfazowane. Wynika z tego, że HaplotypeCaller znalazł różne możliwe uliniowienia po wykonaniu lokalnej reasemblacji. Po reasemblacji występuje wystarczająco dużo odczytów wskazujących na występowanie insercji, która byłaby pominięta w przypadku użycia prostszych algorytmów, nie wykorzystujących reasemblacji (np. UnifiedGenotyper)"
   ]
  },
  {
   "cell_type": "markdown",
   "metadata": {},
   "source": [
    "<div class=\"alert alert-block alert-warning\">\n",
    "<b>Zadanie 5:</b> Przyjrzyj się insercji w poszczególnych odczytach.  Czy wszędzie jest ona taka sama?\n",
    "</div>"
   ]
  },
  {
   "cell_type": "markdown",
   "metadata": {},
   "source": [
    "<div class=\"alert alert-block alert-warning\">\n",
    "<b>Zadanie 6:</b> W jaki sposób wyświetlić w IGV haplotypy utworzone przez HC?\n",
    "</div>"
   ]
  },
  {
   "cell_type": "code",
   "execution_count": null,
   "metadata": {},
   "outputs": [],
   "source": [
    "# %lmagic ex6\n",
    "#Solution to ex6\n",
    "\n",
    "\n",
    "igv = IGV(genome=\"hg19\" )\n",
    "display(igv)\n",
    "import time\n",
    "time.sleep(3)\n",
    "\n",
    "\n",
    "t2 = igv.create_track(\n",
    "        name= \"mother HC debug BAM\",\n",
    "        url= \"gs://bucket-\"+user_name+\"/motherHCdebug.bam\",\n",
    "        index_url= \"gs://bucket-\"+user_name+\"/motherHCdebug.bai\",\n",
    "        indexed= True,\n",
    "        showSoftClips=True,\n",
    "        colorBy=\"tag\",\n",
    "        colorByTag= \"HC\",\n",
    "        sortByTag= \"RG\",\n",
    "        visibilityWindow= 1000\n",
    ")\n",
    "t3 = igv.create_track(\n",
    "        name= \"mother HC VCF\",\n",
    "        url= \"gs://bucket-\"+user_name+\"/motherHC.vcf.gz\",\n",
    "        index_url= \"gs://bucket-\"+user_name+\"/motherHC.vcf.gz.tbi\",\n",
    "        indexed= True,\n",
    "        visibilityWindow= 1000\n",
    ")\n",
    "\n",
    "igv.load_track(t2)\n",
    "igv.load_track(t3)\n",
    "igv.search_locus(\"20\", 10002294, 10002623)"
   ]
  },
  {
   "cell_type": "markdown",
   "metadata": {},
   "source": [
    "Czerwone odczyty nie są prawdziwe - (spójrz na RG). Są to odczyty reprezentujące haplotypy utworzone przez HaplotypeCaller. Co jeżeli pokolorujemy po tagu HC?\n",
    "<div class=\"alert alert-block alert-warning\">\n",
    "<b>Zadanie 7:</b> Podejrzyj wsparcie dla każdego haplotypu poprzez pokolorowanie po tag'u HC zamiast RG. HaplotypeCaller oznacza odpowiednim tagiem HC wszystkie odczyty jednoznacznie wskazujący na dany \"sztuczny haplotyp\". Co teraz sądzisz o decyzji Variant Caller'a w sprawie wyboru typu insercji?\n",
    "</div>"
   ]
  },
  {
   "cell_type": "markdown",
   "metadata": {},
   "source": [
    "<div class=\"alert alert-block alert-warning\">\n",
    "<b>Zadanie 8:</b> Oddal widok i zobacz ile różnych haplotypów zostało znalezionych dla kolejnych trzech spójnych regionów. Dlaczego w regionie po lewej jest więcej haplotypów?\n",
    "</div>"
   ]
  },
  {
   "cell_type": "markdown",
   "metadata": {},
   "source": [
    "## Jednoczesne genotypowanie wielu próbek przy wykorzystaniu gVCF\n",
    "\n",
    "Istnieje możliwość jednoczesnego genotypowania wielu probek w normalnym trybie pracy działania HaplotypeCallera (joint calling). Jednakże nie jest to rozwiązanie skalowalne. Dlatego rozdzielono przetwarzanie plików BAM od właściwego genotypowania poprzez wprowadzenie tzw. plików gVCF. \n",
    "\n",
    "W trybie potoku GVCF HaplotypeCaller urachmiany jest z opcją -ERC GVCF dla każdego pliku BAM, co w wyniku generuje pliki z rozszerzeniem .gvcf posiadające poza informacją o wariantach dodatkowe dane o jakości pozostałych regionów. Następnie jednoczesne genotypowanie wielu próbek odbywa się poprzez wykonanie metody GenotypeGVCF na wielu plikach gvcf. \n",
    "\n",
    "Utwórzmy plik g.vcf dla jednego pliku bam (mother.bam)."
   ]
  },
  {
   "cell_type": "code",
   "execution_count": null,
   "metadata": {},
   "outputs": [],
   "source": [
    "! gatk HaplotypeCaller \\\n",
    "    -R ${WORKSPACE}/ref/ref.fasta \\\n",
    "    -I ${WORKSPACE}/bam/mother.bam \\\n",
    "    -O ${WORKSPACE}/sandbox/motherHC.g.vcf \\\n",
    "    -ERC GVCF \\\n",
    "    -L 20:10,000,000-10,200,000"
   ]
  },
  {
   "cell_type": "code",
   "execution_count": null,
   "metadata": {},
   "outputs": [],
   "source": [
    "! bgzip ${WORKSPACE}/sandbox/motherHC.g.vcf\n",
    "! tabix ${WORKSPACE}/sandbox/motherHC.g.vcf.gz"
   ]
  },
  {
   "cell_type": "code",
   "execution_count": null,
   "metadata": {},
   "outputs": [],
   "source": [
    "! gsutil cp sandbox/motherHC.g.vcf* gs://bucket-$USER/\n",
    "\n",
    "igv = IGV(genome=\"hg19\" )\n",
    "display(igv)\n",
    "import time\n",
    "time.sleep(3)\n",
    "\n",
    "\n",
    "t2 = igv.create_track(\n",
    "        name= \"mother HC debug BAM\",\n",
    "        url= \"gs://bucket-\"+user_name+\"/motherHCdebug.bam\",\n",
    "        index_url= \"gs://bucket-\"+user_name+\"/motherHCdebug.bai\",\n",
    "        indexed= True,\n",
    "        showSoftClips=True,\n",
    "        colorBy=\"tag\",\n",
    "        colorByTag= \"HC\",\n",
    "        sortByTag= \"RG\",\n",
    "        visibilityWindow= 1000\n",
    ")\n",
    "t3 = igv.create_track(\n",
    "        name= \"mother HC VCF\",\n",
    "        url= \"gs://bucket-\"+user_name+\"/motherHC.g.vcf.gz\",\n",
    "        index_url= \"gs://bucket-\"+user_name+\"/motherHC.g.vcf.gz.tbi\",\n",
    "        indexed= True,\n",
    "        visibilityWindow= 1000\n",
    ")\n",
    "igv.load_track(t2)\n",
    "\n",
    "igv.load_track(t3)\n",
    "igv.search_locus(\"20\", 10002294, 10002623)"
   ]
  },
  {
   "cell_type": "markdown",
   "metadata": {},
   "source": [
    "Co sie zmienilo w stosunku do VCF?\n",
    "Poza wariantami pojawily sie szare bloki reprezentujace stopien pewnosci, ze w danym regionie nie ma wariantu. \n",
    "Zmiana bloku oznacza zmiane pewnosci, ze w danym regionie nie ma wariantow. \n"
   ]
  },
  {
   "cell_type": "code",
   "execution_count": null,
   "metadata": {},
   "outputs": [],
   "source": [
    "# Podejrzyj kilka wierszy g.vcf\n",
    "! zcat ${WORKSPACE}/sandbox/motherHC.g.vcf.gz |  grep 10002458"
   ]
  },
  {
   "cell_type": "markdown",
   "metadata": {},
   "source": [
    "Jezeli podejrzymy zawartosc gVCF, to zobaczymy ze w kolumnie ALT pojawia sie pozycja <NON_REF>.\n",
    "Identyfikator PL w kolumnie format oznacza prawdopodobienstwo wystepowania kolejnych alleli, wlaczajac <NON_REF>. \n"
   ]
  },
  {
   "cell_type": "code",
   "execution_count": null,
   "metadata": {},
   "outputs": [],
   "source": [
    "! rm -r ${WORKSPACE}/sandbox_trio\n",
    "! mkdir ${WORKSPACE}/sandbox_trio/\n",
    "! gatk GenomicsDBImport \\\n",
    "    -V ${WORKSPACE}/gvcf/mother.g.vcf.gz \\\n",
    "    -V ${WORKSPACE}/gvcf/father.g.vcf.gz \\\n",
    "    -V ${WORKSPACE}/gvcf/son.g.vcf.gz \\\n",
    "    --genomicsdb-workspace-path ${WORKSPACE}/sandbox_trio/trio \\\n",
    "    --intervals 20:10,000,000-10,200,000"
   ]
  },
  {
   "cell_type": "code",
   "execution_count": null,
   "metadata": {},
   "outputs": [],
   "source": [
    "! ln -s ${WORKSPACE}/sandbox_trio/ sandbox_trio"
   ]
  },
  {
   "cell_type": "code",
   "execution_count": null,
   "metadata": {},
   "outputs": [],
   "source": [
    "# z bazy mozemy wyciagnac polaczony gvcf\n",
    "! gatk SelectVariants \\\n",
    "    -R ${WORKSPACE}/ref/ref.fasta \\\n",
    "    -V gendb://sandbox_trio/trio \\\n",
    "    -O ${WORKSPACE}/sandbox/trio_selectvariants.g.vcf"
   ]
  },
  {
   "cell_type": "code",
   "execution_count": null,
   "metadata": {},
   "outputs": [],
   "source": [
    "! cat ${WORKSPACE}/sandbox/trio_selectvariants.g.vcf | grep 10002458"
   ]
  },
  {
   "cell_type": "code",
   "execution_count": null,
   "metadata": {},
   "outputs": [],
   "source": [
    "Ostatnim krokiem jest genotyopwanie"
   ]
  },
  {
   "cell_type": "code",
   "execution_count": null,
   "metadata": {},
   "outputs": [],
   "source": [
    "! gatk GenotypeGVCFs \\\n",
    "    -R ${WORKSPACE}/ref/ref.fasta \\\n",
    "    -V gendb://sandbox_trio/trio \\\n",
    "    -O ${WORKSPACE}/sandbox/trioGGVCF.vcf \\\n",
    "    -L 20:10,000,000-10,200,000"
   ]
  },
  {
   "cell_type": "code",
   "execution_count": null,
   "metadata": {},
   "outputs": [],
   "source": [
    "! bgzip -f ${WORKSPACE}/sandbox/trioGGVCF.vcf \n",
    "! tabix ${WORKSPACE}/sandbox/trioGGVCF.vcf.gz\n",
    "! gsutil cp sandbox/trioGGVCF.vcf.gz* gs://bucket-$USER/"
   ]
  },
  {
   "cell_type": "code",
   "execution_count": null,
   "metadata": {},
   "outputs": [],
   "source": [
    "from igv_jupyterlab import IGV\n",
    "igv = IGV(genome=\"hg19\" )\n",
    "display(igv)\n",
    "import time\n",
    "time.sleep(3)\n",
    "\n",
    "\n",
    "t2 = igv.create_track(\n",
    "        name= \"mother HC debug BAM\",\n",
    "        url= \"gs://bucket-\"+user_name+\"/motherHCdebug.bam\",\n",
    "        index_url= \"gs://bucket-\"+user_name+\"/motherHCdebug.bai\",\n",
    "        indexed= True,\n",
    "        showSoftClips=True,\n",
    "        colorBy=\"tag\",\n",
    "        colorByTag= \"HC\",\n",
    "        sortByTag= \"RG\",\n",
    "        visibilityWindow= 1000\n",
    ")\n",
    "t3 = igv.create_track(\n",
    "        name= \"trio VCF\",\n",
    "        url= \"gs://bucket-\"+user_name+\"/trioGGVCF.vcf.gz\",\n",
    "        index_url= \"gs://bucket-\"+user_name+\"/trioGGVCF.vcf.gz.tbi\",\n",
    "        indexed= True,\n",
    "        visibilityWindow= 1000\n",
    ")\n",
    "#igv.load_track(t2)\n",
    "\n",
    "igv.load_track(t3)\n",
    "\n",
    "igv.search_locus(\"20\", 10002294, 10002623)"
   ]
  },
  {
   "cell_type": "markdown",
   "metadata": {},
   "source": [
    "# Poprawa genotypowania"
   ]
  },
  {
   "cell_type": "code",
   "execution_count": null,
   "metadata": {},
   "outputs": [],
   "source": [
    "from IPython.display import Image\n",
    "from IPython.core.display import HTML \n",
    "Image(url= \"https://us.v-cdn.net/5019796/uploads/FileUpload/40/a04b64d7884a07d1b562ead4002c60.jpg\")"
   ]
  },
  {
   "cell_type": "code",
   "execution_count": null,
   "metadata": {},
   "outputs": [],
   "source": [
    "! gunzip -k ${WORKSPACE}/sandbox/trioGGVCF.vcf \n",
    "! gatk CalculateGenotypePosteriors \\\n",
    "    -V ${WORKSPACE}/sandbox/trioGGVCF.vcf \\\n",
    "    -ped ${WORKSPACE}/trio.ped \\\n",
    "    --skip-population-priors \\\n",
    "    -O ${WORKSPACE}/sandbox/trioCGP.vcf"
   ]
  },
  {
   "cell_type": "code",
   "execution_count": null,
   "metadata": {},
   "outputs": [],
   "source": [
    "! gatk CalculateGenotypePosteriors \\\n",
    "    -V ${WORKSPACE}/sandbox/trioGGVCF.vcf \\\n",
    "    -ped ${WORKSPACE}/trio.ped \\\n",
    "    --supporting-callsets ${WORKSPACE}/resources/af-only-gnomad.chr20subset.b37.vcf.gz \\\n",
    "    -O ${WORKSPACE}/sandbox/trioCGP_gnomad.vcf"
   ]
  },
  {
   "cell_type": "code",
   "execution_count": null,
   "metadata": {},
   "outputs": [],
   "source": [
    "! bgzip -f  ${WORKSPACE}/sandbox/trioGGVCF.vcf\n",
    "! tabix -f ${WORKSPACE}/sandbox/trioGGVCF.vcf.gz\n",
    "! bgzip -f  ${WORKSPACE}/sandbox/trioCGP.vcf\n",
    "! tabix -f ${WORKSPACE}/sandbox/trioCGP.vcf.gz\n",
    "! bgzip -f  ${WORKSPACE}/sandbox/trioCGP_gnomad.vcf\n",
    "! tabix -f ${WORKSPACE}/sandbox/trioCGP_gnomad.vcf.gz\n",
    "! gsutil cp -m ${WORKSPACE}/sandbox/trio* gs://bucket-$USER/\n"
   ]
  },
  {
   "cell_type": "code",
   "execution_count": null,
   "metadata": {},
   "outputs": [],
   "source": [
    "!gsutil ls \"gs://bucket-\"$USER"
   ]
  },
  {
   "cell_type": "code",
   "execution_count": null,
   "metadata": {},
   "outputs": [],
   "source": [
    "from igv_jupyterlab import IGV\n",
    "igv = IGV(genome=\"hg19\" )\n",
    "display(igv)\n",
    "import time\n",
    "time.sleep(3)\n",
    "\n",
    "\n",
    "t1 = igv.create_track(\n",
    "        name= \"trio GVCF\",\n",
    "        url= \"gs://bucket-\"+user_name+\"/trioGGVCF.vcf.gz\",\n",
    "        index_url= \"gs://bucket-\"+user_name+\"/trioGGVCF.vcf.gz.tbi\",\n",
    "        indexed= True,\n",
    "        visibilityWindow= 1000\n",
    ")\n",
    "\n",
    "t2 = igv.create_track(\n",
    "        name= \"trio CGP\",\n",
    "        url= \"gs://bucket-\"+user_name+\"/trioCGP.vcf.gz\",\n",
    "        index_url= \"gs://bucket-\"+user_name+\"/trioCGP.vcf.gz.tbi\",\n",
    "        indexed= True,\n",
    "        visibilityWindow= 1000\n",
    ")\n",
    "\n",
    "\n",
    "t3 = igv.create_track(\n",
    "        name= \"trio CGP gnomad\",\n",
    "        url= \"gs://bucket-\"+user_name+\"/trioCGP_gnomad.vcf.gz\",\n",
    "        index_url= \"gs://bucket-\"+user_name+\"/trioCGP_gnomad.vcf.gz.tbi\",\n",
    "        indexed= True,\n",
    "        visibilityWindow= 1000\n",
    ")\n",
    "\n",
    "\n",
    "igv.load_track(t1)\n",
    "igv.load_track(t2)\n",
    "igv.load_track(t3)\n",
    "\n",
    "igv.search_locus(\"20\", 10002294, 10002623)\n"
   ]
  },
  {
   "cell_type": "markdown",
   "metadata": {},
   "source": [
    "CalculateGenotypePosteriors dodaje 3 pozycje do kolumny FORMAT: PP, JL i JP.\n",
    "\n",
    "- Phred-scaled Posterior Probability (PP) basically refines the PL values. It incorporates the prior expectations for the given pedigree and/or population allele frequencies.\n",
    "- Joint Trio Likelihood (JL) is the Phred-scaled joint likelihood of the posterior genotypes for the trio being incorrect.\n",
    "- Joint Trio Posterior (JP) is the Phred-scaled posterior probability of the posterior genotypes for the three samples being incorrect."
   ]
  },
  {
   "cell_type": "code",
   "execution_count": null,
   "metadata": {},
   "outputs": [],
   "source": [
    "from IPython.display import Image\n",
    "from IPython.core.display import HTML \n",
    "Image(url= \"https://storage.googleapis.com/gatk-tutorials/workshop_1906/2-germline/images/vd-image4.png\")\n"
   ]
  },
  {
   "cell_type": "code",
   "execution_count": null,
   "metadata": {},
   "outputs": [],
   "source": [
    "from IPython.display import Image\n",
    "from IPython.core.display import HTML \n",
    "Image(url= \"https://storage.googleapis.com/gatk-tutorials/workshop_1906/2-germline/images/vd-image5.png\")\n"
   ]
  },
  {
   "cell_type": "markdown",
   "metadata": {},
   "source": [
    "Więcej szczegółów na https://gatk.broadinstitute.org/hc/en-us/articles/360035531432?id=11074"
   ]
  },
  {
   "cell_type": "markdown",
   "metadata": {},
   "source": [
    "# Analiza pokrycia"
   ]
  },
  {
   "cell_type": "code",
   "execution_count": null,
   "metadata": {},
   "outputs": [],
   "source": [
    "import os\n",
    "import pysam\n",
    "counter = 0\n",
    "with pysam.AlignmentFile(workspace+'/bam/mother.bam', 'rb') as samfile:\n",
    "    for pileupcolumn in samfile.pileup(\"20\", 10002294, 10002303):\n",
    "        counter +=1;\n",
    "        #if (pileupcolumn.pos != 16099988):   continue;\n",
    "        print (\"\\ncoverage at base %s = %s\" % (pileupcolumn.pos, pileupcolumn.n))\n",
    "        if (counter > 10): break"
   ]
  },
  {
   "cell_type": "code",
   "execution_count": null,
   "metadata": {},
   "outputs": [],
   "source": [
    "! samtools depth -a -r 20:10002294-10002623   ${WORKSPACE}/bam/mother.bam -o ${WORKSPACE}/sandbox/mother_cov"
   ]
  },
  {
   "cell_type": "code",
   "execution_count": null,
   "metadata": {},
   "outputs": [],
   "source": [
    "! head  ${WORKSPACE}/sandbox/mother_cov"
   ]
  },
  {
   "cell_type": "code",
   "execution_count": null,
   "metadata": {},
   "outputs": [],
   "source": [
    "import pandas as pd\n",
    "tsv_read = pd.read_csv(workspace+'/sandbox/mother_cov', sep='\\t' , header=None)"
   ]
  },
  {
   "cell_type": "code",
   "execution_count": null,
   "metadata": {},
   "outputs": [],
   "source": [
    "tsv_read.columns = [\"chr\", \"start\", \"coverage\"]\n",
    "tsv_read"
   ]
  },
  {
   "cell_type": "markdown",
   "metadata": {},
   "source": [
    "<div class=\"alert alert-block alert-warning\">\n",
    "<b>Zadanie 9:</b> Zrób wykres głębokości pokrycia dla pozycji (chr20:10002294-10002623)i porownaj go z wizualizacja w IGV\n",
    "</div>"
   ]
  },
  {
   "cell_type": "code",
   "execution_count": null,
   "metadata": {},
   "outputs": [],
   "source": [
    "# %lmagic ex9\n",
    "# Solution to ex9\n",
    "\n",
    "import matplotlib.pyplot  as plt\n",
    "idx = (tsv_read.start > 10002294) & (tsv_read.start < 10002623)\n",
    "plt.plot(tsv_read.start[idx], tsv_read.coverage[idx] , linewidth=15.0)\n",
    "plt.axis([None, None, 0, 40])\n",
    "#fig=plt.figure(figsize=(20, 10))\n"
   ]
  },
  {
   "cell_type": "markdown",
   "metadata": {},
   "source": [
    "# Adnotacje"
   ]
  },
  {
   "cell_type": "code",
   "execution_count": null,
   "metadata": {},
   "outputs": [],
   "source": [
    "from biothings_client import get_client\n",
    "import pandas as pd\n",
    "pd.set_option('display.max_columns', 2000)\n",
    "mv = get_client('variant')\n",
    "mv.getvariants([\"chr7:g.140453134T>C\",\"chr7:g.140453134T>C\"], as_dataframe=1)"
   ]
  },
  {
   "cell_type": "code",
   "execution_count": null,
   "metadata": {},
   "outputs": [],
   "source": [
    "list(mv.query('dbnsfp.genename:CDK2', fetch_all=True))[0]\n",
    "#http://docs.myvariant.info/en/latest/doc/data.html#available-fields"
   ]
  },
  {
   "cell_type": "code",
   "execution_count": null,
   "metadata": {},
   "outputs": [],
   "source": [
    "#mv.getvariants('chr17:g.7578532A>G', fields = ['clinvar','gnomad_af'] , as_dataframe=1)\n",
    "gg = mv.getvariants('chr7:g.140453134T>C', fields = \"all\" , as_dataframe=1)\n",
    "gg.shape\n",
    "gg\n",
    "\n",
    "#https://cdn.rawgit.com/biothings/myvariant.info/master/docs/ipynb/myvariant_clinvar_demo.html"
   ]
  },
  {
   "cell_type": "code",
   "execution_count": null,
   "metadata": {},
   "outputs": [],
   "source": [
    "! gunzip -k ${WORKSPACE}/sandbox/motherHC.vcf\n",
    "df = mv.getvariants(mv.get_hgvs_from_vcf(workspace + \"/sandbox/motherHC.vcf\") \\\n",
    "                    ,fields=\"all\", as_dataframe=1, fetch_all=True)\n"
   ]
  },
  {
   "cell_type": "code",
   "execution_count": null,
   "metadata": {},
   "outputs": [],
   "source": [
    "df[1:10]"
   ]
  },
  {
   "cell_type": "code",
   "execution_count": null,
   "metadata": {},
   "outputs": [],
   "source": [
    "pd.options.display.max_seq_items = 2000\n",
    "df.columns"
   ]
  },
  {
   "cell_type": "code",
   "execution_count": null,
   "metadata": {},
   "outputs": [],
   "source": [
    "df[\"gnomad_genome.af.af_popmax\"].plot(figsize=(20,10))"
   ]
  },
  {
   "cell_type": "code",
   "execution_count": null,
   "metadata": {},
   "outputs": [],
   "source": [
    "df.groupby(['dbsnp.gene.name']).count()"
   ]
  },
  {
   "cell_type": "markdown",
   "metadata": {},
   "source": [
    "# Ocena jakości wariantów przy użyciu CollectVariantCallingMetrics\n",
    " \n",
    "CollectVariantCallingMetrics wylicza zbiorecze metryki na poziomie probki i genotypu. "
   ]
  },
  {
   "cell_type": "code",
   "execution_count": null,
   "metadata": {},
   "outputs": [],
   "source": [
    "! gatk CollectVariantCallingMetrics \\\n",
    "    -I  ${WORKSPACE}/sandbox/trioGGVCF.vcf.gz \\\n",
    "    --DBSNP ${WORKSPACE}/resources/dbsnp.vcf \\\n",
    "    -O ${WORKSPACE}/sandbox/trioGGVCF_metrics"
   ]
  },
  {
   "cell_type": "code",
   "execution_count": null,
   "metadata": {},
   "outputs": [],
   "source": []
  },
  {
   "cell_type": "code",
   "execution_count": null,
   "metadata": {},
   "outputs": [],
   "source": []
  }
 ],
 "metadata": {
  "kernelspec": {
   "display_name": "edugen",
   "language": "python",
   "name": "edugen"
  },
  "language_info": {
   "codemirror_mode": {
    "name": "ipython",
    "version": 3
   },
   "file_extension": ".py",
   "mimetype": "text/x-python",
   "name": "python",
   "nbconvert_exporter": "python",
   "pygments_lexer": "ipython3",
   "version": "3.7.9"
  }
 },
 "nbformat": 4,
 "nbformat_minor": 4
}
