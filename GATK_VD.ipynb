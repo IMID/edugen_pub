{
 "cells": [
  {
   "cell_type": "markdown",
   "metadata": {},
   "source": [
    "# Wykrywanie wariantów DNA\n",
    "\n",
    "na bazie \n",
    "https://app.terra.bio/#workspaces/help-gatk/GATKTutorials-Germline-June2019/notebooks/launch/1-gatk-germline-variant-discovery-tutorial.ipynb\n"
   ]
  },
  {
   "cell_type": "code",
   "execution_count": 1,
   "metadata": {},
   "outputs": [
    {
     "data": {
      "text/html": [
       "<img src=\"https://storage.googleapis.com/gatk-tutorials/workshop_1906/2-germline/images/vd-image1.png\"/>"
      ],
      "text/plain": [
       "<IPython.core.display.Image object>"
      ]
     },
     "execution_count": 1,
     "metadata": {},
     "output_type": "execute_result"
    }
   ],
   "source": [
    "#####\n",
    "from IPython.display import Image\n",
    "from IPython.core.display import HTML \n",
    "Image(url= \"https://storage.googleapis.com/gatk-tutorials/workshop_1906/2-germline/images/vd-image1.png\")"
   ]
  },
  {
   "cell_type": "markdown",
   "metadata": {},
   "source": [
    "## Ustawienia zmiennych"
   ]
  },
  {
   "cell_type": "code",
   "execution_count": 18,
   "metadata": {},
   "outputs": [
    {
     "name": "stdout",
     "output_type": "stream",
     "text": [
      "jupyter-tgambin\n",
      "env: JAVA_HOME=/data/tools/jdk1.8.0_231/\n",
      "java version \"1.8.0_231\"\n",
      "Java(TM) SE Runtime Environment (build 1.8.0_231-b11)\n",
      "Java HotSpot(TM) 64-Bit Server VM (build 25.231-b11, mixed mode)\n",
      "/home/jupyter-tgambin/edugen_genomics\n"
     ]
    }
   ],
   "source": [
    "import os\n",
    "user_name = os.environ.get('USER')\n",
    "print(user_name)\n",
    "%env JAVA_HOME=/data/tools/jdk1.8.0_231/\n",
    "os.environ['PATH'] =   '/data/tools/jdk1.8.0_231/bin/' + os.pathsep + os.environ['PATH']\n",
    "! java -version\n",
    "\n",
    "workspace = \"/home/\"+user_name+\"/edugen_genomics\"\n",
    "os.environ['WORKSPACE'] = workspace\n",
    "! echo ${WORKSPACE}"
   ]
  },
  {
   "cell_type": "code",
   "execution_count": null,
   "metadata": {},
   "outputs": [],
   "source": [
    "! rm sandbox/motherHC.vcf"
   ]
  },
  {
   "cell_type": "markdown",
   "metadata": {},
   "source": [
    "## Wykrywanie wariantów GATK HaplotypeCaller w trybie standardowym\n",
    "¶\n",
    "Wywolanie GATK HC w najprostszej wersji dla pojedynczej próbki"
   ]
  },
  {
   "cell_type": "code",
   "execution_count": 3,
   "metadata": {},
   "outputs": [
    {
     "name": "stdout",
     "output_type": "stream",
     "text": [
      "Using GATK jar /opt/gatk-4.1.9.0/gatk-package-4.1.9.0-local.jar\n",
      "Running:\n",
      "    java -Dsamjdk.use_async_io_read_samtools=false -Dsamjdk.use_async_io_write_samtools=true -Dsamjdk.use_async_io_write_tribble=false -Dsamjdk.compression_level=2 -jar /opt/gatk-4.1.9.0/gatk-package-4.1.9.0-local.jar HaplotypeCaller -R ref/ref.fasta -I bam/mother.bam -O sandbox/motherHC.vcf -L 20:10,000,000-10,200,000\n",
      "11:50:52.463 INFO  NativeLibraryLoader - Loading libgkl_compression.so from jar:file:/opt/gatk-4.1.9.0/gatk-package-4.1.9.0-local.jar!/com/intel/gkl/native/libgkl_compression.so\n",
      "11:50:53.206 INFO  HaplotypeCaller - ------------------------------------------------------------\n",
      "11:50:53.207 INFO  HaplotypeCaller - The Genome Analysis Toolkit (GATK) v4.1.9.0\n",
      "11:50:53.207 INFO  HaplotypeCaller - For support and documentation go to https://software.broadinstitute.org/gatk/\n",
      "11:50:53.207 INFO  HaplotypeCaller - Executing as jovyan@jupyter-matdaw on Linux v4.19.112+ amd64\n",
      "11:50:53.207 INFO  HaplotypeCaller - Java runtime: OpenJDK 64-Bit Server VM v11.0.9.1+1\n",
      "11:50:53.208 INFO  HaplotypeCaller - Start Date/Time: December 16, 2020 at 11:50:52 AM UTC\n",
      "11:50:53.208 INFO  HaplotypeCaller - ------------------------------------------------------------\n",
      "11:50:53.208 INFO  HaplotypeCaller - ------------------------------------------------------------\n",
      "11:50:53.209 INFO  HaplotypeCaller - HTSJDK Version: 2.23.0\n",
      "11:50:53.209 INFO  HaplotypeCaller - Picard Version: 2.23.3\n",
      "11:50:53.209 INFO  HaplotypeCaller - HTSJDK Defaults.COMPRESSION_LEVEL : 2\n",
      "11:50:53.209 INFO  HaplotypeCaller - HTSJDK Defaults.USE_ASYNC_IO_READ_FOR_SAMTOOLS : false\n",
      "11:50:53.209 INFO  HaplotypeCaller - HTSJDK Defaults.USE_ASYNC_IO_WRITE_FOR_SAMTOOLS : true\n",
      "11:50:53.209 INFO  HaplotypeCaller - HTSJDK Defaults.USE_ASYNC_IO_WRITE_FOR_TRIBBLE : false\n",
      "11:50:53.210 INFO  HaplotypeCaller - Deflater: IntelDeflater\n",
      "11:50:53.210 INFO  HaplotypeCaller - Inflater: IntelInflater\n",
      "11:50:53.210 INFO  HaplotypeCaller - GCS max retries/reopens: 20\n",
      "11:50:53.210 INFO  HaplotypeCaller - Requester pays: disabled\n",
      "11:50:53.210 INFO  HaplotypeCaller - Initializing engine\n",
      "WARNING: BAM index file /home/jovyan/work/git/edugen_pub/bam/mother.bai is older than BAM /home/jovyan/work/git/edugen_pub/bam/mother.bam\n",
      "11:50:53.522 INFO  IntervalArgumentCollection - Processing 200001 bp from intervals\n",
      "11:50:53.534 INFO  HaplotypeCaller - Done initializing engine\n",
      "11:50:53.542 INFO  HaplotypeCallerEngine - Disabling physical phasing, which is supported only for reference-model confidence output\n",
      "11:50:53.561 INFO  NativeLibraryLoader - Loading libgkl_utils.so from jar:file:/opt/gatk-4.1.9.0/gatk-package-4.1.9.0-local.jar!/com/intel/gkl/native/libgkl_utils.so\n",
      "11:50:53.565 INFO  NativeLibraryLoader - Loading libgkl_pairhmm_omp.so from jar:file:/opt/gatk-4.1.9.0/gatk-package-4.1.9.0-local.jar!/com/intel/gkl/native/libgkl_pairhmm_omp.so\n",
      "11:50:53.632 INFO  IntelPairHmm - Flush-to-zero (FTZ) is enabled when running PairHMM\n",
      "11:50:53.634 INFO  IntelPairHmm - Available threads: 4\n",
      "11:50:53.634 INFO  IntelPairHmm - Requested threads: 4\n",
      "11:50:53.634 INFO  PairHMM - Using the OpenMP multi-threaded AVX-accelerated native PairHMM implementation\n",
      "11:50:53.670 INFO  ProgressMeter - Starting traversal\n",
      "11:50:53.671 INFO  ProgressMeter -        Current Locus  Elapsed Minutes     Regions Processed   Regions/Minute\n",
      "11:50:54.500 WARN  InbreedingCoeff - InbreedingCoeff will not be calculated; at least 10 samples must have called genotypes\n",
      "11:51:03.753 INFO  ProgressMeter -          20:10048674              0.2                   280           1666.3\n",
      "11:51:13.881 INFO  ProgressMeter -          20:10130055              0.3                   710           2108.0\n",
      "11:51:18.960 INFO  HaplotypeCaller - 351 read(s) filtered by: MappingQualityReadFilter \n",
      "0 read(s) filtered by: MappingQualityAvailableReadFilter \n",
      "0 read(s) filtered by: MappedReadFilter \n",
      "0 read(s) filtered by: NotSecondaryAlignmentReadFilter \n",
      "6866 read(s) filtered by: NotDuplicateReadFilter \n",
      "0 read(s) filtered by: PassesVendorQualityCheckReadFilter \n",
      "0 read(s) filtered by: NonZeroReferenceLengthAlignmentReadFilter \n",
      "0 read(s) filtered by: GoodCigarReadFilter \n",
      "0 read(s) filtered by: WellformedReadFilter \n",
      "7217 total reads filtered\n",
      "11:51:18.960 INFO  ProgressMeter -          20:10199356              0.4                  1042           2472.2\n",
      "11:51:18.960 INFO  ProgressMeter - Traversal complete. Processed 1042 total regions in 0.4 minutes.\n",
      "11:51:18.969 INFO  VectorLoglessPairHMM - Time spent in setup for JNI call : 0.06796682200000001\n",
      "11:51:18.970 INFO  PairHMM - Total compute time in PairHMM computeLogLikelihoods() : 5.421724421\n",
      "11:51:18.970 INFO  SmithWatermanAligner - Total compute time in java Smith-Waterman : 2.66 sec\n",
      "11:51:18.970 INFO  HaplotypeCaller - Shutting down engine\n",
      "[December 16, 2020 at 11:51:18 AM UTC] org.broadinstitute.hellbender.tools.walkers.haplotypecaller.HaplotypeCaller done. Elapsed time: 0.44 minutes.\n",
      "Runtime.totalMemory()=458227712\n"
     ]
    }
   ],
   "source": [
    "! gatk HaplotypeCaller \\\n",
    "    -R ref/ref.fasta \\\n",
    "    -I bam/mother.bam \\\n",
    "    -O sandbox/motherHC.vcf \\\n",
    "    -L 20:10,000,000-10,200,000"
   ]
  },
  {
   "cell_type": "markdown",
   "metadata": {},
   "source": [
    "## Kompresja pliku oraz utworzenie indeksu"
   ]
  },
  {
   "cell_type": "code",
   "execution_count": 1,
   "metadata": {},
   "outputs": [
    {
     "name": "stdout",
     "output_type": "stream",
     "text": [
      "fastqc_reports\tmotherHC.vcf.gz  motherHC.vcf.gz.tbi  motherHC.vcf.idx\n"
     ]
    }
   ],
   "source": [
    "#! rm ${WORKSPACE}/sandbox/motherHC.vcf.gz\n",
    "! bgzip sandbox/motherHC.vcf\n",
    "! tabix sandbox/motherHC.vcf.gz\n",
    "! ls sandbox/"
   ]
  },
  {
   "cell_type": "markdown",
   "metadata": {},
   "source": [
    "## Wizualizacja BAM i VCF w programie IGV"
   ]
  },
  {
   "cell_type": "code",
   "execution_count": 18,
   "metadata": {},
   "outputs": [
    {
     "name": "stdout",
     "output_type": "stream",
     "text": [
      "{'name': 'BAM1', 'url': 'bam/mother.bam', 'indexURL': None, 'indexed': True, 'format': None, 'order': None, 'color': None, 'height': None, 'autoHeight': None, 'minHeight': None, 'maxHeight': None, 'type': 'alignment'}\n"
     ]
    },
    {
     "ename": "TypeError",
     "evalue": "load_track() missing 1 required positional argument: 'track'",
     "output_type": "error",
     "traceback": [
      "\u001b[0;31m---------------------------------------------------------------------------\u001b[0m",
      "\u001b[0;31mTypeError\u001b[0m                                 Traceback (most recent call last)",
      "\u001b[0;32m<ipython-input-18-a750ca87fe10>\u001b[0m in \u001b[0;36m<module>\u001b[0;34m\u001b[0m\n\u001b[1;32m     11\u001b[0m )\n\u001b[1;32m     12\u001b[0m \u001b[0mprint\u001b[0m\u001b[0;34m(\u001b[0m\u001b[0mtrack\u001b[0m\u001b[0;34m)\u001b[0m\u001b[0;34m\u001b[0m\u001b[0;34m\u001b[0m\u001b[0m\n\u001b[0;32m---> 13\u001b[0;31m \u001b[0mIGV\u001b[0m\u001b[0;34m.\u001b[0m\u001b[0mload_track\u001b[0m\u001b[0;34m(\u001b[0m\u001b[0mtrack\u001b[0m\u001b[0;34m)\u001b[0m\u001b[0;34m\u001b[0m\u001b[0;34m\u001b[0m\u001b[0m\n\u001b[0m\u001b[1;32m     14\u001b[0m \u001b[0;34m\u001b[0m\u001b[0m\n\u001b[1;32m     15\u001b[0m \u001b[0;31m#b.load_track(\u001b[0m\u001b[0;34m\u001b[0m\u001b[0;34m\u001b[0m\u001b[0;34m\u001b[0m\u001b[0m\n",
      "\u001b[0;31mTypeError\u001b[0m: load_track() missing 1 required positional argument: 'track'"
     ]
    }
   ],
   "source": [
    "from igv_jupyterlab import IGV\n",
    "\n",
    "IGV(genome=\"hg19\")\n",
    "\n",
    "track = IGV.create_track(\n",
    "    type = \"alignment\",\n",
    "    name = \"BAM1\",\n",
    "    url = \"bam/mother.bam\",\n",
    "    #format = \"bam\",\n",
    "    indexed = True\n",
    ")\n",
    "print(track)\n",
    "IGV.load_track(track)\n",
    "\n",
    "#b.load_track(\n",
    "#    {\n",
    "#        \"type\": \"alignment\",\n",
    "#        \"name\": \"mother BAM\",\n",
    "#        \"url\": \"../edugen_genomics/bam/mother.bam\",\n",
    "#        \"indexURL\": \"../edugen_genomics/bam/mother.bai\",        \n",
    "#        \"format\": \"bam\",\n",
    "#        \"indexed\": True\n",
    "#    })\n",
    "\n",
    "#b.load_track(\n",
    "#    {\n",
    "#        \"name\": \"mother HC VCF\",\n",
    "#        \"url\": \"../edugen_genomics/sandbox/motherHC.vcf.gz\",\n",
    "#        \"indexURL\":\"../edugen_genomics/sandbox/motherHC.vcf.gz.tbi\",\n",
    "#        \"format\": \"vcf\",\n",
    "#        \"type\": \"variant\",\n",
    "#        \"indexed\": True,\n",
    "#        \"visibilityWindow\": 1000\n",
    "#    })\n",
    "#\n",
    "#b.search('20:10002294-10002623')"
   ]
  },
  {
   "cell_type": "markdown",
   "metadata": {},
   "source": [
    "<div class=\"alert alert-block alert-warning\">\n",
    "<b>Zadanie 1:</b> Jaka jest zygotyczność dwóch widocznych wariantów? Czy jest ona zgodna z tym co widzimy w odczytach ? \n",
    "</div>\n",
    "\n",
    "<div class=\"alert alert-block alert-warning\">\n",
    "<b>Zadanie 2:</b> Kliknij na ikonę edycji track'u z odczytami i zaznacz opcję \"Soft clip reads\". Algorytm mapowania (BWA MEM) zdecydował, że kara za obcięcie odczytów (Soft clipping) będzie mniejsza niż wstawienie insersji/delecji. \n",
    "</div>\n",
    "\n"
   ]
  },
  {
   "cell_type": "markdown",
   "metadata": {},
   "source": [
    "## Ponowne uliniowienie odczytów i zasemblowane haplotypy\n",
    "\n",
    "HaplotypeCaller posiada parametr -bamout pozwalający na wyświetlenie ponownie uliniowionych odczytów,\n",
    "które następnie są wykorzystywane do wykrywania wariantów.\n"
   ]
  },
  {
   "cell_type": "code",
   "execution_count": null,
   "metadata": {},
   "outputs": [],
   "source": [
    "! gatk HaplotypeCaller \\\n",
    "    -R ${WORKSPACE}/ref/ref.fasta \\\n",
    "    -I ${WORKSPACE}/bam/mother.bam\\\n",
    "    -O ${WORKSPACE}/sandbox/motherHCdebug.vcf \\\n",
    "    -bamout ${WORKSPACE}/sandbox/motherHCdebug.bam \\\n",
    "    -L 20:10,002,000-10,003,000"
   ]
  },
  {
   "cell_type": "code",
   "execution_count": null,
   "metadata": {},
   "outputs": [],
   "source": [
    "import igv\n",
    "\n",
    "b = igv.Browser({\"genome\": \"hg19\"})\n",
    "b.show()\n",
    "\n",
    "b.load_track(\n",
    "    {\n",
    "        \"type\": \"alignment\",\n",
    "        \"name\": \"original BAM\",\n",
    "        \"url\": \"../edugen_genomics/bam/mother.bam\",\n",
    "        \"indexURL\": \"../edugen_genomics/bam/mother.bai\",        \n",
    "        \"format\": \"bam\",\n",
    "        \"indexed\": True\n",
    "    })\n",
    "\n",
    "b.load_track(\n",
    "    {\n",
    "        \"type\": \"alignment\",\n",
    "        \"name\": \"HC realigned BAM\",\n",
    "        \"url\": \"../edugen_genomics/sandbox/motherHCdebug.bam\",\n",
    "        \"indexURL\": \"../edugen_genomics/sandbox/motherHCdebug.bai\",        \n",
    "        \"format\": \"bam\",\n",
    "        \n",
    "        \"indexed\": True\n",
    "    })\n",
    "\n",
    "b.load_track(\n",
    "    {\n",
    "        \"name\": \"mother HC VCF\",\n",
    "        \"url\": \"../edugen_genomics/sandbox/motherHC.vcf.gz\",\n",
    "        \"indexURL\":\"../edugen_genomics/sandbox/motherHC.vcf.gz.tbi\",\n",
    "        \"format\": \"vcf\",\n",
    "        \"type\": \"variant\",\n",
    "        \"indexed\": True,\n",
    "        \"visibilityWindow\": 1000\n",
    "    })\n",
    "\n",
    "b.search('20:10002294-10002623')"
   ]
  },
  {
   "cell_type": "markdown",
   "metadata": {},
   "source": [
    "Ponieważ jesteśmy zainteresowani jednym miejscem (20:10,002,000-10,003,000) to dokonalismy reuliniowienia tylko tego fragmentu. "
   ]
  },
  {
   "cell_type": "markdown",
   "metadata": {},
   "source": [
    "Po ponownym uliniowieniu zniknęły obcięte odczyty (soft clipped reads) . \n",
    "HaplotypeCaller wykorzystuje odczyty 'soft-clipped'  do ponownego uliniowienia. \n",
    "Z analizy odczytów wynika, że insercja i pobliski SNP są ze sobą sfazowane. Wynika z tego, \n",
    "że HaplotypeCaller znalazł różne możliwe uliniowienia po wykonaniu lokalnej reasemblacji. \n",
    "Po reasemblacji występuje wystarczająco dużo odczytów wskazujących na występowanie insercji, która byłaby pominięta w przypadku użycia prostszych algorytmów, nie wykorzystujących reasemblacji (np. UnifiedGenotyper)\n"
   ]
  },
  {
   "cell_type": "markdown",
   "metadata": {},
   "source": [
    "<div class=\"alert alert-block alert-warning\">\n",
    "<b>Zadanie 3:</b> Przyjrzyj się insercji w poszczególnych odczytach.  Czy wszędzie jest ona taka sama?\n",
    "</div>"
   ]
  },
  {
   "cell_type": "markdown",
   "metadata": {},
   "source": [
    "<div class=\"alert alert-block alert-warning\">\n",
    "<b>Zadanie 4:</b> W jaki sposób wyświetlić w IGV haplotypy utworzone przez HC?\n",
    "</div>"
   ]
  },
  {
   "cell_type": "code",
   "execution_count": null,
   "metadata": {},
   "outputs": [],
   "source": [
    "import igv\n",
    "\n",
    "b = igv.Browser({\"genome\": \"hg19\"})\n",
    "b.show()\n",
    "\n",
    "b.load_track(\n",
    "    {\n",
    "        \"type\": \"alignment\",\n",
    "        \"name\": \"original BAM\",\n",
    "        \"url\": \"../edugen_genomics/bam/mother.bam\",\n",
    "        \"indexURL\": \"../edugen_genomics/bam/mother.bai\",        \n",
    "        \"format\": \"bam\",\n",
    "        \"indexed\": True\n",
    "    })\n",
    "\n",
    "b.load_track(\n",
    "    {\n",
    "        \"type\": \"alignment\",\n",
    "        \"name\": \"HC realigned BAM\",\n",
    "        \"url\": \"../edugen_genomics/sandbox/motherHCdebug.bam\",\n",
    "        \"indexURL\": \"../edugen_genomics/sandbox/motherHCdebug.bai\",        \n",
    "        \"format\": \"bam\",\n",
    "         \"colorBy\": \"tag\",\n",
    "        \"colorByTag\": \"RG\",\n",
    "        \"indexed\": True\n",
    "    })\n",
    "\n",
    "b.load_track(\n",
    "    {\n",
    "        \"name\": \"mother HC VCF\",\n",
    "        \"url\": \"../edugen_genomics/sandbox/motherHC.vcf.gz\",\n",
    "        \"indexURL\":\"../edugen_genomics/sandbox/motherHC.vcf.gz.tbi\",\n",
    "        \"format\": \"vcf\",\n",
    "        \"type\": \"variant\",\n",
    "        \"indexed\": True,\n",
    "        \"visibilityWindow\": 1000\n",
    "    })\n",
    "\n",
    "b.search('20:10002294-10002623')"
   ]
  },
  {
   "cell_type": "markdown",
   "metadata": {},
   "source": [
    "Czerwone odczyty nie są prawdziwe - (spójrz na RG). Są to odczyty reprezentujące haplotypy utworzone przez HaplotypeCaller. \n",
    "<div class=\"alert alert-block alert-warning\">\n",
    "<b>Zadanie 5:</b> Podejrzyj wsparcie dla każdego haplotypu poprzez pokolorowanie po tag'u HC zamiast RG. HaplotypeCaller oznacza odpowiednim tagiem HC wszystkie odczyty jednoznacznie wskazujący na dany \"sztuczny haplotyp\". Co teraz sądzisz o decyzji Variant Caller'a w sprawie wyboru typu insercji?\n",
    "</div>"
   ]
  },
  {
   "cell_type": "markdown",
   "metadata": {},
   "source": [
    "<div class=\"alert alert-block alert-warning\">\n",
    "<b>Zadanie 6:</b> Oddal widok i zobacz ile różnych haplotypów zostało znalezionych dla kolejnych trzech spójnych regionów. \n",
    "</div>"
   ]
  },
  {
   "cell_type": "markdown",
   "metadata": {},
   "source": [
    "## Jednoczesne genotypowanie wielu próbek przy wykorzystaniu gVCF\n",
    "\n",
    "Istnieje możliwość jednoczesnego genotypowania wielu probek w normalnym trybie pracy działania HaplotypeCallera (joint calling). Jednakże nie jest to rozwiązanie skalowalne. Dlatego rozdzielono przetwarzanie plików BAM od właściwego genotypowania poprzez wprowadzenie tzw. plików gVCF. \n",
    "\n",
    "W trybie potoku GVCF HaplotypeCaller urachmiany jest z opcją -ERC GVCF dla każdego pliku BAM, co w wyniku generuje pliki z rozszerzeniem .gvcf posiadające poza informacją o wariantach dodatkowe dane o jakości pozostałych regionów. Następnie jednoczesne genotypowanie wielu próbek odbywa się poprzez wykonanie metody GenotypeGVCF na wielu plikach gvcf. \n",
    "\n",
    "Utwórzmy plik g.vcf dla jednego pliku bam (mother.bam)."
   ]
  },
  {
   "cell_type": "code",
   "execution_count": null,
   "metadata": {},
   "outputs": [],
   "source": [
    "! gatk HaplotypeCaller \\\n",
    "    -R ${WORKSPACE}/ref/ref.fasta \\\n",
    "    -I ${WORKSPACE}/bam/mother.bam \\\n",
    "    -O ${WORKSPACE}/sandbox/motherHC.g.vcf \\\n",
    "    -ERC GVCF \\\n",
    "    -L 20:10,000,000-10,200,000"
   ]
  },
  {
   "cell_type": "code",
   "execution_count": null,
   "metadata": {},
   "outputs": [],
   "source": [
    "! bgzip ${WORKSPACE}/sandbox/motherHC.g.vcf\n",
    "! tabix ${WORKSPACE}/sandbox/motherHC.g.vcf.gz"
   ]
  },
  {
   "cell_type": "code",
   "execution_count": null,
   "metadata": {},
   "outputs": [],
   "source": [
    "import igv\n",
    "\n",
    "b = igv.Browser({\"genome\": \"hg19\"})\n",
    "b.show()\n",
    "\n",
    "\n",
    "b.load_track(\n",
    "    {\n",
    "        \"type\": \"variant\",\n",
    "        \"name\": \"mother gvcf\",\n",
    "        \"url\": \"../edugen_genomics/sandbox/motherHC.g.vcf.gz\",\n",
    "        \"indexURL\": \"../edugen_genomics/sandbox/motherHC.g.vcf.gz.tbi\",        \n",
    "        \"format\": \"vcf\",        \n",
    "        \"indexed\": True\n",
    "    })\n",
    "\n",
    "b.search('20:10002294-10002623')"
   ]
  },
  {
   "cell_type": "markdown",
   "metadata": {},
   "source": [
    "Co sie zmienilo w stosunku do VCF?\n",
    "Poza wariantami pojawily sie szare bloki reprezentujace stopien pewnosci, ze w danym regionie nie ma wariantu. \n",
    "Zmiana bloku oznacza zmiane pewnosci, ze w danym regionie nie ma wariantow. \n"
   ]
  },
  {
   "cell_type": "code",
   "execution_count": null,
   "metadata": {},
   "outputs": [],
   "source": [
    "# Podejrzyj kilka wierszy g.vcf\n",
    "! zcat ${WORKSPACE}/sandbox/motherHC.g.vcf.gz |  tail"
   ]
  },
  {
   "cell_type": "markdown",
   "metadata": {},
   "source": [
    "Jezeli podejrzymy zawartosc gVCF, to zobaczymy ze w kolumnie ALT pojawia sie pozycja <NON_REF>.\n",
    "Identyfikator PL w kolumnie format oznacza prawdopodobienstwo wystepowania kolejnych alleli, wlaczajac <NON_REF>. \n"
   ]
  },
  {
   "cell_type": "code",
   "execution_count": null,
   "metadata": {},
   "outputs": [],
   "source": [
    "! gatk GenomicsDBImport \\\n",
    "    -V ${WORKSPACE}/sandbox/motherHC.g.vcf.gz \\\n",
    "    -V ${WORKSPACE}/gvcf/father.g.vcf.gz \\\n",
    "    -V ${WORKSPACE}/gvcf/son.g.vcf.gz \\\n",
    "    --genomicsdb-workspace-path ${WORKSPACE}/sandbox/trio \\\n",
    "    --intervals 20:10,000,000-10,200,000"
   ]
  },
  {
   "cell_type": "code",
   "execution_count": null,
   "metadata": {},
   "outputs": [],
   "source": [
    "! rm -r sandbox\n",
    "! ln -s ${WORKSPACE}/sandbox/ sandbox"
   ]
  },
  {
   "cell_type": "code",
   "execution_count": null,
   "metadata": {},
   "outputs": [],
   "source": [
    "# z bazy mozemy wyciagnac polaczony gvcf\n",
    "! gatk SelectVariants \\\n",
    "    -R ${WORKSPACE}/ref/ref.fasta \\\n",
    "    -V gendb://sandbox/trio \\\n",
    "    -O ${WORKSPACE}/sandbox/trio_selectvariants.g.vcf"
   ]
  },
  {
   "cell_type": "code",
   "execution_count": null,
   "metadata": {},
   "outputs": [],
   "source": [
    "! cat ${WORKSPACE}/sandbox/trio_selectvariants.g.vcf"
   ]
  },
  {
   "cell_type": "markdown",
   "metadata": {},
   "source": [
    "Ostatnim krokiem jest genotyopwanie"
   ]
  },
  {
   "cell_type": "code",
   "execution_count": null,
   "metadata": {},
   "outputs": [],
   "source": [
    "! gatk GenotypeGVCFs \\\n",
    "    -R /home/${USER}/2-germline-vd/ref/ref.fasta \\\n",
    "    -V gendb://sandbox/trio \\\n",
    "    -O ${WORKSPACE}/sandbox/trioGGVCF.vcf \\\n",
    "    -L 20:10,000,000-10,200,000"
   ]
  },
  {
   "cell_type": "code",
   "execution_count": null,
   "metadata": {},
   "outputs": [],
   "source": [
    "! bgzip ${WORKSPACE}/sandbox/trioGGVCF.vcf \n",
    "! tabix ${WORKSPACE}/sandbox/trioGGVCF.vcf.gz"
   ]
  },
  {
   "cell_type": "code",
   "execution_count": null,
   "metadata": {},
   "outputs": [],
   "source": [
    "import igv\n",
    "\n",
    "b = igv.Browser({\"genome\": \"hg19\"})\n",
    "b.show()\n",
    "\n",
    "\n",
    "\n",
    "b.load_track(\n",
    "    {\n",
    "        \"type\": \"variant\",\n",
    "        \"name\": \"combined gvcf\",\n",
    "        \"url\": \"../edugen_genomics/sandbox/trioGGVCF.vcf.gz\",\n",
    "        \"indexURL\":  \"../edugen_genomics/sandbox/trioGGVCF.vcf.gz.tbi\",  \n",
    "        \"format\": \"vcf\",        \n",
    "        \"indexed\": True\n",
    "    })\n",
    "\n",
    "b.search('20:10002294-10002623')"
   ]
  },
  {
   "cell_type": "code",
   "execution_count": null,
   "metadata": {},
   "outputs": [],
   "source": [
    "! cat ${WORKSPACE}/sandbox/trioGGVCF_metrics"
   ]
  },
  {
   "cell_type": "markdown",
   "metadata": {},
   "source": [
    "# Analiza pokrycia"
   ]
  },
  {
   "cell_type": "code",
   "execution_count": null,
   "metadata": {},
   "outputs": [],
   "source": [
    "import os\n",
    "import pysam\n",
    "with pysam.AlignmentFile(workspace+'/bam/mother.bam', 'rb') as samfile:\n",
    "    for pileupcolumn in samfile.pileup(\"20\", 10002294, 10002623):\n",
    "        #if (pileupcolumn.pos != 16099988):   continue;\n",
    "        print (\"\\ncoverage at base %s = %s\" % (pileupcolumn.pos, pileupcolumn.n))"
   ]
  },
  {
   "cell_type": "code",
   "execution_count": null,
   "metadata": {},
   "outputs": [],
   "source": [
    " ! mosdepth    ${WORKSPACE}/sandbox/mother_coverage ${WORKSPACE}/bam/mother.bam"
   ]
  },
  {
   "cell_type": "code",
   "execution_count": null,
   "metadata": {},
   "outputs": [],
   "source": [
    "! ls  ${WORKSPACE}/sandbox/"
   ]
  },
  {
   "cell_type": "code",
   "execution_count": null,
   "metadata": {},
   "outputs": [],
   "source": [
    "import pandas as pd\n",
    "\n",
    "tsv_read = pd.read_csv(workspace+'/sandbox/mother_coverage.per-base.bed.gz', sep='\\t' , header=None)"
   ]
  },
  {
   "cell_type": "code",
   "execution_count": null,
   "metadata": {},
   "outputs": [],
   "source": [
    "tsv_read.columns = [\"chr\", \"start\", \"end\", \"coverage\"]\n",
    "tsv_read"
   ]
  },
  {
   "cell_type": "markdown",
   "metadata": {},
   "source": [
    "<div class=\"alert alert-block alert-warning\">\n",
    "<b>Zadanie 7:</b> Zrób wykres głębokości pokrycia dla pozycji (chr20:10002294-10002623)i porownaj go z wizualizacja w IGV\n",
    "</div>"
   ]
  },
  {
   "cell_type": "code",
   "execution_count": null,
   "metadata": {},
   "outputs": [],
   "source": [
    "import matplotlib.pyplot  as plt\n",
    "idx = (tsv_read.start > 10002294) & (tsv_read.start < 10002623)\n",
    "plt.plot(tsv_read.start[idx], tsv_read.coverage[idx] , linewidth=15.0)\n",
    "plt.axis([None, None, 0, 40])\n",
    "fig=plt.figure(figsize=(150, 15))\n"
   ]
  },
  {
   "cell_type": "code",
   "execution_count": null,
   "metadata": {},
   "outputs": [],
   "source": [
    "import igv\n",
    "\n",
    "b = igv.Browser({\"genome\": \"hg19\"})\n",
    "b.show()\n",
    "b.search('20:10002294-10002623')\n",
    "b.load_track(\n",
    "    {\n",
    "        \"type\": \"alignment\",\n",
    "        \"name\": \"mother BAM\",\n",
    "        \"url\": \"../2-germline-vd/bams/mother.bam\",\n",
    "        \"indexURL\": \"../2-germline-vd/bams/mother.bai\",        \n",
    "        \"format\": \"bam\",\n",
    "        \"indexed\": True\n",
    "    })\n"
   ]
  },
  {
   "cell_type": "markdown",
   "metadata": {},
   "source": [
    "# Adnotacje"
   ]
  },
  {
   "cell_type": "code",
   "execution_count": null,
   "metadata": {},
   "outputs": [],
   "source": [
    "from biothings_client import get_client\n",
    "import pandas as pd\n",
    "pd.set_option('display.max_columns', 2000)\n",
    "mv = get_client('variant')\n",
    "mv.getvariants([\"chr7:g.140453134T>C\",\"chr7:g.140453134T>C\"], as_dataframe=1)\n"
   ]
  },
  {
   "cell_type": "code",
   "execution_count": null,
   "metadata": {},
   "outputs": [],
   "source": [
    "df[1:2]"
   ]
  },
  {
   "cell_type": "code",
   "execution_count": null,
   "metadata": {},
   "outputs": [],
   "source": [
    "list(mv.query('dbnsfp.genename:CDK2', fetch_all=True))[0]\n",
    "#http://docs.myvariant.info/en/latest/doc/data.html#available-fields"
   ]
  },
  {
   "cell_type": "code",
   "execution_count": null,
   "metadata": {},
   "outputs": [],
   "source": [
    "#mv.getvariants('chr17:g.7578532A>G', fields = ['clinvar','gnomad_af'] , as_dataframe=1)\n",
    "gg = mv.getvariants('chr7:g.140453134T>C', fields = \"all\" , as_dataframe=1)\n",
    "gg.shape\n",
    "gg\n",
    "\n",
    "#https://cdn.rawgit.com/biothings/myvariant.info/master/docs/ipynb/myvariant_clinvar_demo.html"
   ]
  },
  {
   "cell_type": "code",
   "execution_count": null,
   "metadata": {},
   "outputs": [],
   "source": [
    "! gunzip ${WORKSPACE}/sandbox/motherHC.vcf\n",
    "df = mv.getvariants(mv.get_hgvs_from_vcf(workspace + \"/sandbox/motherHC.vcf\") \\\n",
    "                    ,fields=\"all\", as_dataframe=1, fetch_all=True)\n"
   ]
  },
  {
   "cell_type": "code",
   "execution_count": null,
   "metadata": {},
   "outputs": [],
   "source": [
    "df[1:10]"
   ]
  },
  {
   "cell_type": "code",
   "execution_count": null,
   "metadata": {},
   "outputs": [],
   "source": [
    "pd.options.display.max_seq_items = 2000\n",
    "df.columns"
   ]
  },
  {
   "cell_type": "code",
   "execution_count": null,
   "metadata": {},
   "outputs": [],
   "source": [
    "df[\"gnomad_genome.af.af_popmax\"].plot(figsize=(20,10))"
   ]
  },
  {
   "cell_type": "code",
   "execution_count": null,
   "metadata": {},
   "outputs": [],
   "source": [
    "df.groupby(['dbsnp.gene.name']).count()"
   ]
  },
  {
   "cell_type": "markdown",
   "metadata": {},
   "source": [
    "# Poprawa genotypowania"
   ]
  },
  {
   "cell_type": "code",
   "execution_count": null,
   "metadata": {},
   "outputs": [],
   "source": [
    "from IPython.display import Image\n",
    "from IPython.core.display import HTML \n",
    "Image(url= \"https://us.v-cdn.net/5019796/uploads/FileUpload/40/a04b64d7884a07d1b562ead4002c60.jpg\")"
   ]
  },
  {
   "cell_type": "code",
   "execution_count": null,
   "metadata": {},
   "outputs": [],
   "source": [
    "! gatk CalculateGenotypePosteriors \\\n",
    "    -V ${WORKSPACE}/sandbox/trioGGVCF.vcf \\\n",
    "    -ped ${WORKSPACE}/trio.ped \\\n",
    "    --skip-population-priors \\\n",
    "    -O ${WORKSPACE}/sandbox/trioCGP.vcf"
   ]
  },
  {
   "cell_type": "code",
   "execution_count": null,
   "metadata": {},
   "outputs": [],
   "source": [
    "! gatk CalculateGenotypePosteriors \\\n",
    "    -V ${WORKSPACE}/sandbox/trioGGVCF.vcf \\\n",
    "    -ped ${WORKSPACE}/trio.ped \\\n",
    "    --supporting-callsets ${WORKSPACE}/resources/af-only-gnomad.chr20subset.b37.vcf.gz \\\n",
    "    -O ${WORKSPACE}/sandbox/trioCGP_gnomad.vcf"
   ]
  },
  {
   "cell_type": "code",
   "execution_count": null,
   "metadata": {},
   "outputs": [],
   "source": [
    "! bgzip /home/${USER}/2-germline-vd/sandbox/trioGGVCF.vcf\n",
    "! tabix /home/${USER}/2-germline-vd/sandbox/trioGGVCF.vcf.gz\n",
    "! bgzip /home/${USER}/2-germline-vd/sandbox/trioCGP.vcf\n",
    "! tabix /home/${USER}/2-germline-vd/sandbox/trioCGP.vcf.gz\n",
    "! bgzip /home/${USER}/2-germline-vd/sandbox/trioCGP_gnomad.vcf\n",
    "! tabix /home/${USER}/2-germline-vd/sandbox/trioCGP_gnomad.vcf.gz\n"
   ]
  },
  {
   "cell_type": "code",
   "execution_count": null,
   "metadata": {},
   "outputs": [],
   "source": [
    "import igv\n",
    "\n",
    "b = igv.Browser({\"genome\": \"hg19\"})\n",
    "b.show()\n",
    "\n",
    "b.search('20:10002294-10002623')\n",
    "\n",
    "b.load_track(\n",
    "    {\n",
    "        \"type\": \"variant\",\n",
    "        \"name\": \"combined gvcf\",\n",
    "        \"url\": \"../edugen_genomics/sandbox/trioGGVCF.vcf.gz\",\n",
    "        \"indexURL\":  \"../edugen_genomics/sandbox/trioGGVCF.vcf.gz.tbi\",  \n",
    "        \"format\": \"vcf\",\n",
    "        \"indexed\": True\n",
    "    })\n",
    "\n",
    "\n",
    "b.load_track(\n",
    "    {\n",
    "        \"type\": \"variant\",\n",
    "        \"name\": \"combined gvcf\",\n",
    "        \"url\": \"../edugen_genomics/sandbox/trioCGP.vcf.gz\",\n",
    "        \"indexURL\":  \"../edugen_genomics/sandbox/trioCGP.vcf.gz.tbi\",  \n",
    "        \"format\": \"vcf\",        \n",
    "        \"indexed\": True\n",
    "    })\n",
    "\n",
    "\n",
    "b.load_track(\n",
    "    {\n",
    "        \"type\": \"variant\",\n",
    "        \"name\": \"combined gvcf\",\n",
    "        \"url\": \"../edugen_genomics/sandbox/trioCGP_gnomad.vcf.gz\",\n",
    "        \"indexURL\":  \"../edugen_genomics/sandbox/trioCGP_gnomad.vcf.gz.tbi\",  \n",
    "        \"format\": \"vcf\",        \n",
    "        \"indexed\": True\n",
    "    })\n",
    "\n"
   ]
  },
  {
   "cell_type": "markdown",
   "metadata": {},
   "source": [
    "# Ocena jakości wariantów przy użyciu CollectVariantCallingMetrics\n",
    " \n",
    "CollectVariantCallingMetrics wylicza zbiorecze metryki na poziomie probki i genotypu. "
   ]
  },
  {
   "cell_type": "code",
   "execution_count": null,
   "metadata": {},
   "outputs": [],
   "source": [
    "! gatk CollectVariantCallingMetrics \\\n",
    "    -I  ${WORKSPACE}/sandbox/trioGGVCF.vcf.gz \\\n",
    "    --DBSNP ${WORKSPACE}/resources/dbsnp.vcf \\\n",
    "    -O ${WORKSPACE}/sandbox/trioGGVCF_metrics"
   ]
  },
  {
   "cell_type": "code",
   "execution_count": null,
   "metadata": {},
   "outputs": [],
   "source": []
  }
 ],
 "metadata": {
  "kernelspec": {
   "display_name": "edugen",
   "language": "python",
   "name": "edugen"
  },
  "language_info": {
   "codemirror_mode": {
    "name": "ipython",
    "version": 3
   },
   "file_extension": ".py",
   "mimetype": "text/x-python",
   "name": "python",
   "nbconvert_exporter": "python",
   "pygments_lexer": "ipython3",
   "version": "3.7.9"
  }
 },
 "nbformat": 4,
 "nbformat_minor": 4
}
