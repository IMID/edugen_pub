{
 "cells": [
  {
   "cell_type": "markdown",
   "metadata": {},
   "source": [
    "***\n",
    "# Przykładowa analiza danych z sekwencjonowania następnej generacji na przykładzie pacjentów z rzadkimi chorobami monogenowymi\n",
    "\n",
    "***\n",
    "### Opis kolumn w plikach do analizy\n",
    "\n",
    "| Nazwa   kolumny        | Opis                                                                                                                                                                                                                                                                                                                                                                                                                                                                                                                                     |\n",
    "|------------------------|------------------------------------------------------------------------------------------------------------------------------------------------------------------------------------------------------------------------------------------------------------------------------------------------------------------------------------------------------------------------------------------------------------------------------------------------------------------------------------------------------------------------------------------|\n",
    "| Chr                    | Chromosom na którym   zlokalizowany jest wariant                                                                                                                                                                                                                                                                                                                                                                                                                                                                                         |\n",
    "| POS                    | Pozycja chromosomowa danego   wariantu                                                                                                                                                                                                                                                                                                                                                                                                                                                                                                   |\n",
    "| Ref                    | Nukleotyd(y) który znajduje   się w danej pozycji chromosomowej w sekwencji referencyjnej                                                                                                                                                                                                                                                                                                                                                                                                                                                |\n",
    "| Alt                    | Zmieniony nukleotyd(y)                                                                                                                                                                                                                                                                                                                                                                                                                                                                                                                   |\n",
    "| FILTER                 | Czy dany wariant przechodzi   filtr jakości GATK                                                                                                                                                                                                                                                                                                                                                                                                                                                                                         |\n",
    "| AD                     | Allelic Depth - Liczba   odczytów dla zmienionego nukleotydu                                                                                                                                                                                                                                                                                                                                                                                                                                                                             |\n",
    "| DP                     | Read Depth - Łączna liczba   odczytów w danym miejscu                                                                                                                                                                                                                                                                                                                                                                                                                                                                                    |\n",
    "| VAF                    | Variant Allele Frequency -   Stosunek liczby zmienionych odczytów względem referencji (AD/DP)                                                                                                                                                                                                                                                                                                                                                                                                                                            |\n",
    "| Zyg                    | Zygotyczność danego wariantu                                                                                                                                                                                                                                                                                                                                                                                                                                                                                                             |\n",
    "| Symbol                 | Nazwa genu                                                                                                                                                                                                                                                                                                                                                                                                                                                                                                                               |\n",
    "| Consequence            | Konsekwencja   dla danego wariantu (np.. missense, synonymous)                                                                                                                                                                                                                                                                                                                                                                                                                                                                           |\n",
    "| Impact                 | Potencjalny wpływ wariantu na   kodowane białko. Każda konsekwencja posiada przypisany potencjalny wpływ                                                                                                                                                                                                                                                                                                                                                                                                                                 |\n",
    "| rs_dbSNP               | Identyfikator wariantu w bazie   dbSNP                                                                                                                                                                                                                                                                                                                                                                                                                                                                                                   |\n",
    "| inheritanceOMIM        | Dziedziczenie dla danego genu   wg bazy OMIM                                                                                                                                                                                                                                                                                                                                                                                                                                                                                             |\n",
    "| phenotypeOMIM          | Fenotyp(y) przypisane do   danego genu wg bazy OMIM                                                                                                                                                                                                                                                                                                                                                                                                                                                                                      |\n",
    "| OMIM_url               | Link do bazy OMIM dla danego   genu                                                                                                                                                                                                                                                                                                                                                                                                                                                                                                      |\n",
    "| key                    | Opis wariantu w formie   chromosom:pozycja chromosomowa_allel referencyjny>allel zmieniony                                                                                                                                                                                                                                                                                                                                                                                                                                               |\n",
    "| HGVS                   | Zapis wariantu zgodny z HGVS   (jeżeli w VEP jest przypisana dla danego wariantu sekwencja RefSeq (NM_) to   jest ona użyta, jeżeli nie, uzywany jest transkrypt wg Ensembl)                                                                                                                                                                                                                                                                                                                                                             |\n",
    "| Position               | Pozycja danego wariantu w   genie - tzn. dla wariantów eksomowych - numer eksonu i pozycja nukleotydu w   sekwencji kodującej, dla wariantów intronowych numer intronu                                                                                                                                                                                                                                                                                                                                                                   |\n",
    "| CLNSIG                 | Ocena patogenności wariantu wg   ClinVar                                                                                                                                                                                                                                                                                                                                                                                                                                                                                                 |\n",
    "| CLNDN                  | Przypisana dla wariantu   jednostka chorobowa/fenotyp                                                                                                                                                                                                                                                                                                                                                                                                                                                                                    |\n",
    "| CLNREVSTAT             | Status oceny   danego wariantu wg ClinVar                                                                                                                                                                                                                                                                                                                                                                                                                                                                                                |\n",
    "| ClinVar_url            | Link do wariantu w bazie   ClinVar                                                                                                                                                                                                                                                                                                                                                                                                                                                                                                       |\n",
    "| gnomAD_AF              | Częstotliwość wariantu w bazie   gnomAD v3 dla wszystkich próbek z tej bazy (71702 genomy)                                                                                                                                                                                                                                                                                                                                                                                                                                               |\n",
    "| gnomAD_AF_NFE          | Częstotliwość wariantu w bazie   gnomAD v3 dla pacjentów z populacji europejskiej (z wyłączeniem Finów)                                                                                                                                                                                                                                                                                                                                                                                                                                  |\n",
    "| gnomAD_AF_FIN          | Częstotliwość wariantu w bazie   gnomAD v3 dla Finów                                                                                                                                                                                                                                                                                                                                                                                                                                                                                     |\n",
    "| gnomAD_AF_AFR          | Częstotliwość wariantu w bazie   gnomAD v3 dla pacjentów z populacji afrykańskiej                                                                                                                                                                                                                                                                                                                                                                                                                                                        |\n",
    "| gnomAD_AF_AMR          | Częstotliwość wariantu w bazie   gnomAD v3 dla pacjentów z populacji amerykańskiej                                                                                                                                                                                                                                                                                                                                                                                                                                                       |\n",
    "| gnomAD_AF_ASJ          | Częstotliwość wariantu w bazie   gnomAD v3 dla pacjentów z populacji żydów aszkenazyjskich                                                                                                                                                                                                                                                                                                                                                                                                                                               |\n",
    "| gnomAD_AF_EAS          | Częstotliwość wariantu w bazie   gnomAD v3 dla pacjentów z populacji wschodnioazjatyckiej                                                                                                                                                                                                                                                                                                                                                                                                                                                |\n",
    "| gnomAD_AF_SAS          | Częstotliwość wariantu w bazie   gnomAD v3 dla pacjentów z populacji południowoazjatyckiej                                                                                                                                                                                                                                                                                                                                                                                                                                               |\n",
    "| gnomAD_AF_AMI          | Częstotliwość wariantu w bazie   gnomAD v3 dla pacjentów z populacji Amiszów                                                                                                                                                                                                                                                                                                                                                                                                                                                             |\n",
    "| gnomAD_AF_OTH          | Częstotliwość wariantu w bazie   gnomAD v3 dla pacjentów z pozostałych populacji                                                                                                                                                                                                                                                                                                                                                                                                                                                         |\n",
    "| gnomAD_nhomalt         | Liczba wariantów w układzie   homozygotycznym w bazie gnomAD v3 dla danego wariantu                                                                                                                                                                                                                                                                                                                                                                                                                                                      |\n",
    "| gnomAD_url             | Link do wariantu w bazie   gnomAD v3                                                                                                                                                                                                                                                                                                                                                                                                                                                                                                     |\n",
    "| exome_af               | Częstość wystepowania danego   wariantu we wszystkich próbkach z eksomów (uwzględniana jest zygotyczność   wariantów)                                                                                                                                                                                                                                                                                                                                                                                                                    |\n",
    "| exome_af_pass          | Częstość wystepowania danego   wariantu we wszystkich próbkach z eksomów, jeżeli przechodzi filtr jakości   (uwzględniana jest zygotyczność wariantów)                                                                                                                                                                                                                                                                                                                                                                                   |\n",
    "| v_hom_exome            | Liczba wariantów w układzie   homozygotycznym dla eksomów w bazie IMID dla danego wariantu                                                                                                                                                                                                                                                                                                                                                                                                                                               |\n",
    "| v_hom_pass_exome       | Liczba wariantów w układzie   homozygotycznym dla eksomów, przechodzących filtr jakości (PASS) w bazie IMID   dla danego wariantu                                                                                                                                                                                                                                                                                                                                                                                                        |\n",
    "| v_het_exome            | Liczba wariantów w układzie   heterozygotycznym dla eksomów w bazie IMID dla danego wariantu                                                                                                                                                                                                                                                                                                                                                                                                                                             |\n",
    "| v_het_pass_exome       | Liczba wariantów w układzie   heterozygotycznym dla eksomów, przechodzących filtr jakości (PASS) w bazie   IMID dla danego wariantu                                                                                                                                                                                                                                                                                                                                                                                                      |\n",
    "| v_hem_exome            | Liczba wariantów w układzie   hemizygotycznym dla eksomów w bazie IMID dla danego wariantu                                                                                                                                                                                                                                                                                                                                                                                                                                               |\n",
    "| v_hem_pass_exome       | Liczba wariantów w układzie   hemizygotycznym dla eksomów, przechodzących filtr jakości (PASS) w bazie IMID   dla danego wariantu                                                                                                                                                                                                                                                                                                                                                                                                        |\n",
    "| SpliceAI_pred          | Predykcja wpływu wariantu na   miejsce splicingowe, obliczona za pomocą sieci neuronowych przez Illuminę.   Format zapisu danych to SYMBOL\\|DS_AG\\|DS_AL\\|DS_DG\\|DS_DL\\|DP_AG\\|DP_AL\\|DP_DG\\|DP_DL. Delta Score (DS) jest obliczony dla miejsc akceptorowych i   rozpatruje czy dane miejsce może zostać aktywowane (Acceptor Gain - AG) lub   utracone (Acceptor Loss - AL), podobnie w przypadku miejsc donowoych (Donor   Gain - DG, Donor Loss - DL). Podawana jest też pozycja Delta Position (DP)   dla poszczególnych przypadków. |\n",
    "| SpliceAI_cutoff        | Przyjmuje wartość PASS jeżeli   którykolwiek Delta Score przekracza próg 0.5, FAIL jeżeli żaden nie jest powyżej 0.5                                                                                                                                                                                                                                                                                                                                                                                                                     |\n",
    "| LoF                    | Ocena   nietolerancji na warianty LoF (Loss of function), im mniejszy wynik tym   bardziej podatny jest dany gen na tego typu zmiany                                                                                                                                                                                                                                                                                                                                                                                                     |\n",
    "| pLI                    | Analogicznie do wcześniejszej   kolumny, ale tutaj im wyższy wynik tym bardziej podatny gen na zmiany typu   LoF.                                                                                                                                                                                                                                                                                                                                                                                                                        |\n",
    "| SIFT                   | D: Deleterious, T: tolerated                                                                                                                                                                                                                                                                                                                                                                                                                                                                                                             |\n",
    "| SIFT4G_pred            | D: Deleterious, T: tolerated. Kilka wartości odnosi się do poszczególnych transkryptów   danego genu                                                                                                                                                                                                                                                                                                                                                                                                                                     |\n",
    "| PolyPhen               | Predykcja PolyPhen, opis   słowny (benign itd.)                                                                                                                                                                                                                                                                                                                                                                                                                                                                                          |\n",
    "| Polyphen2_HDIV_pred    | D: Probably damaging, P:   possibly damaging, B: benign                                                                                                                                                                                                                                                                                                                                                                                                                                                                                  |\n",
    "| MutationTaster_pred    |  A:   disease_causing_automatic, D: disease_causing, N: polymorphism (probably   harmless), P: polymorphism_automatic (known to be harmless)                                                                                                                                                                                                                                                                                                                                                                                             |\n",
    "| MutationAssessor_pred  | H: high, M: medium, L: low, N:   neutral, H/M means functional and L/N means non-functional                                                                                                                                                                                                                                                                                                                                                                                                                                              |\n",
    "| BayesDel_addAF_pred    | D: Damaging, T: Tolerated                                                                                                                                                                                                                                                                                                                                                                                                                                                                                                                |\n",
    "| BayesDel_noAF_pred     | D: Damaging, T: Tolerated                                                                                                                                                                                                                                                                                                                                                                                                                                                                                                                |\n",
    "| LIST-S2_pred           | D: Damaging, T: Tolerated                                                                                                                                                                                                                                                                                                                                                                                                                                                                                                                |\n",
    "| fathmm-MKL_coding_pred | D: Deleterious, T: Tolerated                                                                                                                                                                                                                                                                                                                                                                                                                                                                                                             |\n",
    "| fathmm-XF_coding_pred  | D: Deleterious, T: Tolerated                                                                                                                                                                                                                                                                                                                                                                                                                                                                                                             |\n",
    "| DEOGEN2_pred           | D: Damaging, T: Tolerated                                                                                                                                                                                                                                                                                                                                                                                                                                                                                                                |\n",
    "| LRT_pred               | D: Deleterious, N: Neutral, U:   Unknown                                                                                                                                                                                                                                                                                                                                                                                                                                                                                                 |\n",
    "| M-CAP_pred             | D: Damaging, T: Tolerated                                                                                                                                                                                                                                                                                                                                                                                                                                                                                                                |\n",
    "| MetaLR_pred            | D: Deleterious, T: Tolerated                                                                                                                                                                                                                                                                                                                                                                                                                                                                                                             |\n",
    "| MetaSVM_pred           | D: Deleterious, T: Tolerated                                                                                                                                                                                                                                                                                                                                                                                                                                                                                                             |\n",
    "| PROVEAN_pred           | D: Deleterious, N: Neutral                                                                                                                                                                                                                                                                                                                                                                                                                                                                                                               |\n",
    "| PrimateAI_pred         | D: Damaging, T: Tolerated                                                                                                                                                                                                                                                                                                                                                                                                                                                                                                                |\n",
    "| CADD_phred             | Wartość CADD wyliczana na   podstawie wielu różnych predykcji. Im wyższa, tym większe prawdopodobieństwo   że wariant jest uszkadzający. Nie ma ściśle ustalonej   wartości progowej, jednak niektóre źródła (np. Ensembl) sugeruje granicę 30   (powyżej uszkadzające, poniżej łagodne)                                                                                                                                                                                                                                                 |\n",
    "| hg19_pos               | Pozycja chromosomowa dla genomu referencyjnego GRCh37/hg19                                                                                                                                                                                                                                                                                                                                                                                                                                                                               |\n",
    "***\n",
    "\n",
    "Pliki z adnotacjami pacjentów znajdują się w folderze `case`\n",
    "\n",
    "### Case1\n",
    "Dziewczynka 4 miesiące, cechy kliniczne - Dziewczynka 4 miesiące, małogłowie, klinodaktylia palcy dłoni, syndaktylia 4 i 5 pacla stopy, kariotyp i aCGH prawidłowe.\n",
    "\n",
    "### Case2\n",
    "Dziewczynka 3 lata, cechy kliniczne - 2 incydenty encefalopatii z towarzyszącą hipotonią mięśniową poprzedzone 2-3 dniową infekcją górnych dróg oddechowych z gorączką"
   ]
  },
  {
   "cell_type": "code",
   "execution_count": null,
   "metadata": {},
   "outputs": [],
   "source": [
    "import pandas as pd\n",
    "pd.set_option('display.max_colwidth', 0)\n",
    "case1 = pd.read_csv(\"case/Case1.txt\", sep=\"\\t\")\n",
    "# Wyświetlanie pełnej zawartości komórek w tabeli"
   ]
  },
  {
   "cell_type": "markdown",
   "metadata": {},
   "source": [
    "# Priorytetyzacja wariantów\n",
    "***"
   ]
  },
  {
   "cell_type": "markdown",
   "metadata": {
    "tags": []
   },
   "source": [
    "## Warianty patogenne według ClinVar\n",
    "W pierwszym kroku nalezy sprawdzić czy u pacjenta nie występują znane, opisane już wcześniej warianty patogenne. Kolumna `CLNSIG` zawiera informacje o klinicznej interpretacji danego wariantu. Szczegółowy opis możliwych interpretacji [pod linkiem](https://www.ncbi.nlm.nih.gov/clinvar/docs/clinsig/).\n",
    "\n",
    "<div class=\"alert alert-block alert-warning\">\n",
    "<b>Zadanie 1:</b> Na podstawie informacji ze strony ClinVar zaproponuj w jaki sposób wyświetlić tylko warianty patogenne. Wynik zapisz jako zmienna <b>case1_pathogenic</b>.\n",
    "</div>"
   ]
  },
  {
   "cell_type": "code",
   "execution_count": null,
   "metadata": {},
   "outputs": [],
   "source": []
  },
  {
   "cell_type": "markdown",
   "metadata": {},
   "source": [
    "## Priorytetyzacja wariantów\n",
    "W kolejnych krokach będziemy już rozpatrywać wszystkie warianty które spełniają kryteria poszczególnych kroków filtracji:\n",
    "1. Odfiltrowanie wariantów nie przechodzących filtru jakości - kolumna `FILTER`\n",
    "1. Odfiltrowanie wariantów nie kodujących (intron, intergenic, synonymous, upstream, downstream, UTR) - kolumna `Consequence`\n",
    "1. Odfiltrowanie wariantów częstych (powyżej 0.1% w populacji) - kolumna `gnomAD_AF`, kolumna `exome_af`\n",
    "1. Pozostawienie wariantów w genach które są związane z fenotypem pacjenta (lista genów) - kolumna `Symbol`\n",
    "1. Analiza wariantów pod względem dziedziczenia (kolumna - `inheritanceOMIM`), zygotyczności wariantu (kolumna - `Zyg`) oraz fenotypu (kolumna - `phenotypeOMIM`)\n",
    "***"
   ]
  },
  {
   "cell_type": "markdown",
   "metadata": {},
   "source": [
    "### 1. Odfiltrowanie wariantów nie przechodzących filtru jakości\n",
    "\n",
    "<div class=\"alert alert-block alert-warning\">\n",
    "<b>Zadanie 2:</b> Odfiltruj warianty które nie spełniają kryteriów jakości. Wynik zapisz jako zmienna <b>case1_pass</b>. Podaj liczbę wariantów które pozostały po filtracji.\n",
    "</div>"
   ]
  },
  {
   "cell_type": "code",
   "execution_count": null,
   "metadata": {},
   "outputs": [],
   "source": []
  },
  {
   "cell_type": "markdown",
   "metadata": {},
   "source": [
    "***\n",
    "### 2. Odfiltrowanie wariantów nie kodujących (intron, intergenic, synonymous, upstream, downstream, UTR)\n",
    "Adotacje w kolumnie `Consequence` zawierają informację o tym gdzie w obrębie danego genu lokaliuje się wariant i jakie ma konsekwencje. Lista dostępnych opcji znajduje się [pod linkiem](https://www.ensembl.org/info/genome/variation/prediction/predicted_data.html). Do wykonania zadania najpierw stwórz listę niechcianych konsekwencji, następnie skorzystaj z funkcji `.isin` w [Pandas](https://pandas.pydata.org/docs/reference/api/pandas.DataFrame.isin.html).\n",
    "<div class=\"alert alert-block alert-warning\">\n",
    "<b>Zadanie 2:</b> Na podstawie informacji ze strony odfiltruj warianty które lokalizują się w regionach niekodujących. Wynik zapisz jako zmienna <b>case1_pass_coding</b>. Podaj liczbę wariantów które pozostały po filtracji.\n",
    "</div>"
   ]
  },
  {
   "cell_type": "code",
   "execution_count": null,
   "metadata": {},
   "outputs": [],
   "source": []
  },
  {
   "cell_type": "markdown",
   "metadata": {},
   "source": [
    "***\n",
    "### 3. Odfiltrowanie wariantów częstych (powyżej 0,1% w populacji)\n",
    "<div class=\"alert alert-block alert-warning\">\n",
    "<b>Zadanie 3:</b> Odfiltruj warianty które występują z częstościa powyżej 0.001 (0,1%) wpopulacji ogólnej w bazie gnomAD. Wynik zapisz jako zmienna <b>case1_pass_coding_rare</b>. Podaj liczbę wariantów które pozostały po filtracji.\n",
    "</div>"
   ]
  },
  {
   "cell_type": "code",
   "execution_count": null,
   "metadata": {},
   "outputs": [],
   "source": []
  },
  {
   "cell_type": "markdown",
   "metadata": {},
   "source": [
    "<div class=\"alert alert-block alert-warning\">\n",
    "<b>Zadanie 4:</b> Odfiltruj warianty które występują z częstościa powyżej 0.001 (0,1%) w populacji polskiej na podstawie kolumny z częstościami z bazy IMiD. Wynik zapisz jako zmienna <b>case1_pass_coding_rare_imid</b>. Podaj liczbę wariantów które pozostały po filtracji.\n",
    "</div>"
   ]
  },
  {
   "cell_type": "code",
   "execution_count": null,
   "metadata": {},
   "outputs": [],
   "source": []
  },
  {
   "cell_type": "markdown",
   "metadata": {},
   "source": [
    "***\n",
    "### 4. Pozostawienie wariantów w genach które są związane z fenotypem pacjenta (lista genów)\n",
    "\n",
    "Listę wariantów można zawęzić wyłącznie do wariantów wystepujących w genach które związane są z fenotypem pacjenta. Listy genów można pozyskać z literatury, bazy OMIM, paneli komercyjnych, czy dedykowanych stron które opracowują i aktualizują takie listy genów. Przykładami moga być [PanelApp](https://panelapp.genomicsengland.co.uk/panels/) lub baza [HPO](https://hpo.jax.org/app/). W naszym przypadku listę genów pozysakmy z bazy HPO za pomoca interfejsu [API](https://hpo.jax.org/api/hpo/docs). W Python'ie biblioteka `requests` pozwala na połączenie się z API oraz uzyskanie informacji zwrotnej w posatci plików `.json` które możemy odpowiednio przekształcić za pomoca funkcji Pandas - [json_normalize](https://pandas.pydata.org/docs/reference/api/pandas.json_normalize.html) oraz [to_list](https://pandas.pydata.org/docs/reference/api/pandas.Series.to_list.html).\n",
    "<div class=\"alert alert-block alert-warning\">\n",
    "<b>Zadanie 5:</b> Stwórz listę genów za pomoca interfejsu API z bazy HPO. Listę stwórz na podstawie terminu HPO HP:0000252.\n",
    "</div>"
   ]
  },
  {
   "cell_type": "code",
   "execution_count": null,
   "metadata": {},
   "outputs": [],
   "source": []
  },
  {
   "cell_type": "markdown",
   "metadata": {},
   "source": [
    "<div class=\"alert alert-block alert-warning\">\n",
    "<b>Zadanie 6:</b> Pozostaw tylko warianty w gencha będących na liście genów z HPO.\n",
    "</div>"
   ]
  },
  {
   "cell_type": "code",
   "execution_count": null,
   "metadata": {},
   "outputs": [],
   "source": []
  },
  {
   "cell_type": "markdown",
   "metadata": {},
   "source": [
    "***\n",
    "### Podsumowanie filtracji"
   ]
  },
  {
   "cell_type": "code",
   "execution_count": null,
   "metadata": {},
   "outputs": [],
   "source": [
    "data = {\n",
    "    \"filter\": [\"Case 1\", \"Filter\", \"Coding\", \"Frequency gnomAD\", \"Frequency IMiD\", \"Gene list\"],\n",
    "    \"values\": [len(case1), len(case1_pass), len(case1_pass_coding), len(case1_pass_coding_rare),\n",
    "               len(case1_pass_coding_rare_imid), len(case1_pass_coding_rare_imid_genes)],\n",
    "}\n",
    "plot_df = pd.DataFrame(data)\n",
    "import matplotlib.pyplot as plt\n",
    "\n",
    "plot_df.plot.bar(y=\"values\", x=\"filter\", legend=None)\n",
    "plt.show()"
   ]
  },
  {
   "cell_type": "markdown",
   "metadata": {},
   "source": [
    "### 5. Analiza wariantów pod względem dziedziczenia, zygotyczności wariantu oraz fenotypu"
   ]
  },
  {
   "cell_type": "code",
   "execution_count": null,
   "metadata": {},
   "outputs": [],
   "source": [
    "case1_pass_coding_rare_imid_genes"
   ]
  }
 ],
 "metadata": {
  "kernelspec": {
   "display_name": "edugen",
   "language": "python",
   "name": "edugen"
  },
  "language_info": {
   "codemirror_mode": {
    "name": "ipython",
    "version": 3
   },
   "file_extension": ".py",
   "mimetype": "text/x-python",
   "name": "python",
   "nbconvert_exporter": "python",
   "pygments_lexer": "ipython3",
   "version": "3.6.9"
  }
 },
 "nbformat": 4,
 "nbformat_minor": 5
}
