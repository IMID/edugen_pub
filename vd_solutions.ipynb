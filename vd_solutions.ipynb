{
 "cells": [
  {
   "cell_type": "code",
   "execution_count": null,
   "metadata": {
    "jupyter": {
     "source_hidden": true
    }
   },
   "outputs": [],
   "source": [
    "def publish_solution(content, file_name):\n",
    "    text_file = open(file_name, \"w\")\n",
    "    text_file.write(\"%s\" % content)\n",
    "    text_file.close()\n",
    "    !gsutil cp {file_name} \"gs://bucket-edugen/\"\n",
    "    #!gsutil ls \"gs://bucket-edugen/\"\n",
    "    !rm {file_name}\n",
    "def remove_solution( file_name):\n",
    "    !gsutil rm  'gs://bucket-edugen/{file_name}'\n",
    "    !gsutil ls \"gs://bucket-edugen/\"\n",
    "    \n",
    "ex1 = ''' # Solution to ex 1\n",
    "! gsutil cp bam/mother.bam* gs://bucket-$USER/\n",
    "! gsutil cp sandbox/motherHC.vcf.gz* gs://bucket-$USER/\n",
    "! gsutil ls gs://bucket-tgambin/\n",
    "'''\n",
    "ex2 = ''''''\n",
    "ex3 = ''''''\n",
    "ex4 = '''#Solution to ex4\n",
    "\n",
    "\n",
    "! gsutil cp sandbox/motherHCdebug.ba* gs://bucket-$USER/\n",
    "from igv_jupyterlab import IGV\n",
    "# At minimum, IGV requires a single argument, genome.\n",
    "# For supported genomes, a simple name may be supplied.\n",
    "igv = IGV(genome=\"hg19\" )\n",
    "display(igv)\n",
    "import time\n",
    "time.sleep(3)\n",
    "t1 = igv.create_track(\n",
    "        name = \"mother BAM\",\n",
    "        url = \"gs://bucket-\"+user_name+\"/mother.bam\",\n",
    "        index_url= \"gs://bucket-\"+user_name+\"/mother.bam.bai\",    \n",
    "        showSoftClips=True,\n",
    "        indexed= True\n",
    ")\n",
    "\n",
    "t2 = igv.create_track(\n",
    "        name= \"mother HC debug BAM\",\n",
    "        url= \"gs://bucket-\"+user_name+\"/motherHCdebug.bam\",\n",
    "        index_url= \"gs://bucket-\"+user_name+\"/motherHCdebug.bai\",\n",
    "        indexed= True,\n",
    "        showSoftClips=True,\n",
    "        visibilityWindow= 1000\n",
    ")\n",
    "t3 = igv.create_track(\n",
    "        name= \"mother HC VCF\",\n",
    "        url= \"gs://bucket-\"+user_name+\"/motherHC.vcf.gz\",\n",
    "        index_url= \"gs://bucket-\"+user_name+\"/motherHC.vcf.gz.tbi\",\n",
    "        indexed= True,\n",
    "        visibilityWindow= 1000\n",
    ")\n",
    "igv.load_track(t1)\n",
    "igv.load_track(t2)\n",
    "igv.load_track(t3)\n",
    "igv.search_locus(\"20\", 10002294, 10002623)'''\n",
    "\n",
    "\n",
    "ex6 = '''#Solution to ex6\n",
    "\n",
    "from igv_jupyterlab import IGV\n",
    "igv = IGV(genome=\"hg19\" )\n",
    "display(igv)\n",
    "import time\n",
    "time.sleep(3)\n",
    "\n",
    "\n",
    "t2 = igv.create_track(\n",
    "        name= \"mother HC debug BAM\",\n",
    "        url= \"gs://bucket-\"+user_name+\"/motherHCdebug.bam\",\n",
    "        index_url= \"gs://bucket-\"+user_name+\"/motherHCdebug.bai\",\n",
    "        indexed= True,\n",
    "        showSoftClips=True,\n",
    "        colorBy=\"tag\",\n",
    "        colorByTag= \"RG\",\n",
    "        visibilityWindow= 1000\n",
    ")\n",
    "t3 = igv.create_track(\n",
    "        name= \"mother HC VCF\",\n",
    "        url= \"gs://bucket-\"+user_name+\"/motherHC.vcf.gz\",\n",
    "        index_url= \"gs://bucket-\"+user_name+\"/motherHC.vcf.gz.tbi\",\n",
    "        indexed= True,\n",
    "        visibilityWindow= 1000\n",
    ")\n",
    "\n",
    "igv.load_track(t2)\n",
    "igv.load_track(t3)\n",
    "igv.search_locus(\"20\", 10002294, 10002623)'''\n",
    "\n",
    "ex9 = '''# Solution to ex9\n",
    "\n",
    "import matplotlib.pyplot  as plt\n",
    "idx = (tsv_read.start > 10002294) & (tsv_read.start < 10002623)\n",
    "plt.plot(tsv_read.start[idx], tsv_read.coverage[idx] , linewidth=15.0)\n",
    "plt.axis([None, None, 0, 40])\n",
    "fig=plt.figure(figsize=(150, 15))\n",
    "'''"
   ]
  },
  {
   "cell_type": "code",
   "execution_count": null,
   "metadata": {},
   "outputs": [],
   "source": [
    "def removeAll():\n",
    "    remove_solution(\"ex1\")\n",
    "    remove_solution(\"ex4\")\n",
    "    remove_solution(\"ex6\")\n",
    "    remove_solution(\"ex9\")"
   ]
  },
  {
   "cell_type": "code",
   "execution_count": null,
   "metadata": {},
   "outputs": [],
   "source": [
    "publish_solution(ex1,\"ex1\")"
   ]
  },
  {
   "cell_type": "code",
   "execution_count": null,
   "metadata": {},
   "outputs": [],
   "source": [
    "publish_solution(ex4,\"ex4\")"
   ]
  },
  {
   "cell_type": "code",
   "execution_count": null,
   "metadata": {},
   "outputs": [],
   "source": [
    "publish_solution(ex6,\"ex6\")"
   ]
  },
  {
   "cell_type": "code",
   "execution_count": null,
   "metadata": {},
   "outputs": [],
   "source": [
    "publish_solution(ex9,\"ex9\")"
   ]
  },
  {
   "cell_type": "code",
   "execution_count": null,
   "metadata": {},
   "outputs": [],
   "source": [
    "removeAll()"
   ]
  },
  {
   "cell_type": "code",
   "execution_count": null,
   "metadata": {},
   "outputs": [],
   "source": []
  }
 ],
 "metadata": {
  "kernelspec": {
   "display_name": "edugen",
   "language": "python",
   "name": "edugen"
  },
  "language_info": {
   "codemirror_mode": {
    "name": "ipython",
    "version": 3
   },
   "file_extension": ".py",
   "mimetype": "text/x-python",
   "name": "python",
   "nbconvert_exporter": "python",
   "pygments_lexer": "ipython3",
   "version": "3.7.9"
  }
 },
 "nbformat": 4,
 "nbformat_minor": 4
}
