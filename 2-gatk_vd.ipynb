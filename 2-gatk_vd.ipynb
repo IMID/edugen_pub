{
 "cells": [
  {
   "cell_type": "markdown",
   "metadata": {},
   "source": [
    "# Część druga\n",
    "<div class=\"alert alert-block alert-danger\">\n",
    "<b>Uwaga:</b> Należy upewnić się że w prawym górnym rogu tego okna wybrany jest kernel \"omics-genomika\" a nie \"Python 3\"\n",
    "</div>\n",
    "\n",
    "# Wykrywanie wariantów DNA\n",
    "<img src=\"png/vd-image1.png\">"
   ]
  },
  {
   "cell_type": "markdown",
   "metadata": {},
   "source": [
    "## Ustawienia zmiennych"
   ]
  },
  {
   "cell_type": "code",
   "execution_count": null,
   "metadata": {
    "editable": true,
    "slideshow": {
     "slide_type": ""
    },
    "tags": []
   },
   "outputs": [],
   "source": [
    "import os\n",
    "\n",
    "workspace = \"/home/jovyan/work/git/edugen_pub/\"\n",
    "os.environ['WORKSPACE'] = workspace\n",
    "! echo ${WORKSPACE}\n",
    "\n",
    "edugen_bucket  = \"gs://biodatageeks/sequila/edugen/\"\n",
    "os.environ['EDUGEN_BUCKET'] = edugen_bucket"
   ]
  },
  {
   "cell_type": "markdown",
   "metadata": {},
   "source": [
    "## Wykrywanie wariantów GATK HaplotypeCaller w trybie standardowym\n",
    "\n",
    "GATK HaplotypeCaller jest jednym z najbardziej popularnych narzędzi do wykrywania wariantów germinalnych w danych pochodzących z sekwencjonowania wysokoprzepustowego. Dokumentacja znajduje się [pod linkiem](https://gatk.broadinstitute.org/hc/en-us/articles/360037225632-HaplotypeCaller). HaplotypeCaller jest częścią paczki programów Genome Analysis ToolKit (GATK) stworzonych przez Broad Institute. Oferuje on również m.in. algorytm wykrywania wariantów zoptymalizowany do wykrywania wariantów somatycznych - [Mutect2](https://gatk.broadinstitute.org/hc/en-us/articles/360037593851-Mutect2).\n",
    "\n",
    "Wywolanie GATK HC w najprostszej wersji dla pojedynczej próbki"
   ]
  },
  {
   "cell_type": "code",
   "execution_count": null,
   "metadata": {},
   "outputs": [],
   "source": [
    "! gatk HaplotypeCaller \\\n",
    "    -R ${WORKSPACE}/ref/ref.fasta \\\n",
    "    -I ${WORKSPACE}/bam/mother.bam \\\n",
    "    -O ${WORKSPACE}/sandbox/motherHC.vcf \\\n",
    "    -L 20:10,000,000-10,200,000"
   ]
  },
  {
   "cell_type": "markdown",
   "metadata": {},
   "source": [
    "## Wizualizacja BAM i VCF w programie IGV\n",
    "\n",
    "Najczęciej do wizualizacji danych z uliniowienia (i nie tylko) wykorzystuje się narzedzie IGV - [Integrative Genome Viewer](https://igv.org/doc/desktop/#DownloadPage/). Program ten instalowany jest na komputerze, natomiast na zajęciach skorzystamy z paczki [igv-notebook](https://github.com/igvteam/igv-notebook) która jest pythonową \"owijką\" dla programu igv.js, dlatego też możliwe do użycia opcje i argumenty znajdziemy w [dokumnetacji tego programu](https://igv.org/doc/igvjs/#tracks/Tracks/)."
   ]
  },
  {
   "cell_type": "markdown",
   "metadata": {},
   "source": [
    "### Uruchomienie IGV"
   ]
  },
  {
   "cell_type": "code",
   "execution_count": null,
   "metadata": {
    "editable": true,
    "slideshow": {
     "slide_type": ""
    },
    "tags": []
   },
   "outputs": [],
   "source": [
    "import igv_notebook\n",
    "igv_notebook.init()\n",
    "igv_browser= igv_notebook.Browser(\n",
    "    {\n",
    "        \"genome\": \"hg19\",\n",
    "        \"locus\": \"chr20:10002294-10002623\",\n",
    "        \"tracks\": [{\n",
    "            \"name\": \"BAM\",\n",
    "            \"url\": edugen_bucket + \"bam/mother.bam\",\n",
    "            \"indexURL\": edugen_bucket + \"bam/mother.bai\",\n",
    "            \"format\": \"bam\",\n",
    "            \"type\": \"alignment\"\n",
    "        }]\n",
    "    }\n",
    ")"
   ]
  },
  {
   "cell_type": "code",
   "execution_count": null,
   "metadata": {},
   "outputs": [],
   "source": [
    "! zcat ${WORKSPACE}/sandbox/motherHC.vcf.gz | grep 100024"
   ]
  },
  {
   "cell_type": "markdown",
   "metadata": {},
   "source": [
    "<div class=\"alert alert-block alert-warning\">\n",
    "<b>Zadanie 2:</b> Jaka jest zygotyczność dwóch widocznych wariantów? Czy jest ona zgodna z tym co widzimy w odczytach ? \n",
    "</div>"
   ]
  },
  {
   "cell_type": "code",
   "execution_count": null,
   "metadata": {},
   "outputs": [],
   "source": []
  },
  {
   "cell_type": "markdown",
   "metadata": {},
   "source": [
    "<div class=\"alert alert-block alert-warning\">\n",
    "<b>Zadanie 3:</b> Kliknij na ikonę edycji track'u z odczytami i zaznacz opcję \"Soft clip reads\", co widzimy w odczytach?\n",
    "</div>"
   ]
  },
  {
   "cell_type": "code",
   "execution_count": null,
   "metadata": {},
   "outputs": [],
   "source": []
  },
  {
   "cell_type": "markdown",
   "metadata": {},
   "source": [
    "Algorytm mapowania (BWA MEM) zdecydował, że kara za obcięcie odczytów (Soft clipping) będzie mniejsza niż wstawienie insersji/delecji.\n",
    "\n",
    "Do oceny wiarygodności wariantów wykorzystywany jest \"Phread-scaled Likelihoods of Genotypes\", dokładne omówienie można znaleźć [pod linkiem](https://gatk.broadinstitute.org/hc/en-us/articles/360035890451-Calculation-of-PL-and-GQ-by-HaplotypeCaller-and-GenotypeGVCFs)."
   ]
  },
  {
   "cell_type": "markdown",
   "metadata": {},
   "source": [
    "## Ponowne uliniowienie odczytów i zasemblowane haplotypy\n",
    "\n",
    "HaplotypeCaller posiada parametr -bamout pozwalający na wyświetlenie ponownie uliniowionych odczytów,\n",
    "które następnie są wykorzystywane do wykrywania wariantów.\n"
   ]
  },
  {
   "cell_type": "code",
   "execution_count": null,
   "metadata": {},
   "outputs": [],
   "source": [
    "! gatk HaplotypeCaller \\\n",
    "    -R ${WORKSPACE}/ref/ref.fasta \\\n",
    "    -I ${WORKSPACE}/bam/mother.bam\\\n",
    "    -O ${WORKSPACE}/sandbox/motherHCdebug.vcf \\\n",
    "    -bamout ${WORKSPACE}/sandbox/motherHCdebug.bam \\\n",
    "    -L 20:10,002,000-10,003,000"
   ]
  },
  {
   "cell_type": "markdown",
   "metadata": {},
   "source": [
    "<div class=\"alert alert-block alert-warning\">\n",
    "<b>Zadanie 4*:</b> Wyświetl dla porównania obydwa BAMy (zwykły i debug) oraz VCF. Przy wyświetlaniu BAM'ów ustaw opcję \n",
    "    showSoftClips = True, aby od razu wyświetlały się split ready. Inne opcje są dostępne na: https://github.com/igvteam/igv.js/wiki/Alignment-Track\n",
    "</div>"
   ]
  },
  {
   "cell_type": "code",
   "execution_count": null,
   "metadata": {},
   "outputs": [],
   "source": []
  },
  {
   "cell_type": "markdown",
   "metadata": {},
   "source": [
    "Ponieważ jesteśmy zainteresowani jednym miejscem (20:10,002,000-10,003,000) to dokonaliśmy reuliniowienia tylko tego fragmentu. \n",
    "\n",
    "Po ponownym uliniowieniu zniknęły obcięte odczyty (soft clipped reads) . HaplotypeCaller wykorzystuje odczyty 'soft-clipped' do ponownego uliniowienia. Z analizy odczytów wynika, że insercja i pobliski SNP są ze sobą sfazowane. Wynika z tego, że HaplotypeCaller znalazł różne możliwe uliniowienia po wykonaniu lokalnej reasemblacji. Po reasemblacji występuje wystarczająco dużo odczytów wskazujących na występowanie insercji, która byłaby pominięta w przypadku użycia prostszych algorytmów, nie wykorzystujących reasemblacji (np. UnifiedGenotyper)"
   ]
  },
  {
   "cell_type": "markdown",
   "metadata": {},
   "source": [
    "<div class=\"alert alert-block alert-warning\">\n",
    "<b>Zadanie 5:</b> Przyjrzyj się insercji w poszczególnych odczytach.  Czy wszędzie jest ona taka sama?\n",
    "</div>"
   ]
  },
  {
   "cell_type": "markdown",
   "metadata": {},
   "source": [
    "<div class=\"alert alert-block alert-warning\">\n",
    "<b>Zadanie 6*:</b> W jaki sposób wyświetlić w IGV haplotypy utworzone przez HC?\n",
    "</div>"
   ]
  },
  {
   "cell_type": "code",
   "execution_count": null,
   "metadata": {},
   "outputs": [],
   "source": []
  },
  {
   "cell_type": "markdown",
   "metadata": {},
   "source": [
    "Czerwone odczyty nie są prawdziwe - (spójrz na RG). Są to odczyty reprezentujące haplotypy utworzone przez HaplotypeCaller. Co jeżeli pokolorujemy po tagu HC?\n",
    "<div class=\"alert alert-block alert-warning\">\n",
    "<b>Zadanie 7:</b> Podejrzyj wsparcie dla każdego haplotypu poprzez pokolorowanie po tag'u HC zamiast RG. HaplotypeCaller oznacza odpowiednim tagiem HC wszystkie odczyty jednoznacznie wskazujący na dany \"sztuczny haplotyp\". Co teraz sądzisz o decyzji Variant Caller'a w sprawie wyboru typu insercji?\n",
    "</div>"
   ]
  },
  {
   "cell_type": "markdown",
   "metadata": {},
   "source": [
    "<div class=\"alert alert-block alert-warning\">\n",
    "<b>Zadanie 8:</b> Oddal widok i zobacz ile różnych haplotypów zostało znalezionych dla kolejnych trzech spójnych regionów. Dlaczego w regionie po lewej jest więcej haplotypów?\n",
    "</div>"
   ]
  },
  {
   "cell_type": "markdown",
   "metadata": {},
   "source": [
    "## Jednoczesne genotypowanie wielu próbek przy wykorzystaniu gVCF\n",
    "\n",
    "Istnieje możliwość jednoczesnego genotypowania wielu probek w normalnym trybie pracy działania HaplotypeCallera (joint calling). Jednakże nie jest to rozwiązanie skalowalne. Dlatego rozdzielono przetwarzanie plików BAM od właściwego genotypowania poprzez wprowadzenie tzw. plików gVCF. \n",
    "\n",
    "W trybie potoku GVCF HaplotypeCaller urachmiany jest z opcją -ERC GVCF dla każdego pliku BAM, co w wyniku generuje pliki z rozszerzeniem .gvcf posiadające poza informacją o wariantach dodatkowe dane o jakości pozostałych regionów. Następnie jednoczesne genotypowanie wielu próbek odbywa się poprzez wykonanie metody GenotypeGVCF na wielu plikach gvcf. \n",
    "\n",
    "Utwórzmy plik g.vcf dla jednego pliku bam (mother.bam)."
   ]
  },
  {
   "cell_type": "code",
   "execution_count": null,
   "metadata": {},
   "outputs": [],
   "source": [
    "! gatk HaplotypeCaller \\\n",
    "    -R ${WORKSPACE}/ref/ref.fasta \\\n",
    "    -I ${WORKSPACE}/bam/mother.bam \\\n",
    "    -O ${WORKSPACE}/sandbox/motherHC.g.vcf \\\n",
    "    -ERC GVCF \\\n",
    "    -L 20:10,000,000-10,200,000"
   ]
  },
  {
   "cell_type": "code",
   "execution_count": null,
   "metadata": {},
   "outputs": [],
   "source": [
    "igv_browser= igv_notebook.Browser({\n",
    "    \"genome\": \"hg19\",\n",
    "    \"locus\": \"chr20:10002294-10002623\",\n",
    "    \"tracks\": [{\n",
    "        \"name\": \"mother HC debug BAM\",\n",
    "        \"url\": edugen_bucket + \"bam/motherHCdebug.bam\",\n",
    "        \"indexURL\": edugen_bucket + \"bam/motherHCdebug.bai\",\n",
    "        \"format\": \"bam\",\n",
    "        \"type\": \"alignment\",\n",
    "        \"showSoftClips\": \"True\",\n",
    "        \"colorBy\": \"tag\",\n",
    "        \"colorByTag\": \"HC\",\n",
    "        \"sortByTag\": \"RG\"\n",
    "        },\n",
    "        {\n",
    "        \"name\": \"mother HC VCF\",\n",
    "        \"url\": edugen_bucket + \"motherHC.g.vcf.gz\",\n",
    "        \"indexURL\": edugen_bucket + \"motherHC.g.vcf.gz.tbi\",\n",
    "        \"format\": \"vcf\",\n",
    "        \"type\": \"variant\"\n",
    "        }]\n",
    "    }\n",
    ")"
   ]
  },
  {
   "cell_type": "markdown",
   "metadata": {},
   "source": [
    "Co sie zmienilo w stosunku do VCF?\n",
    "Poza wariantami pojawily sie szare bloki reprezentujace stopien pewnosci, ze w danym regionie nie ma wariantu. \n",
    "Zmiana bloku oznacza zmiane pewnosci, ze w danym regionie nie ma wariantow. \n"
   ]
  },
  {
   "cell_type": "code",
   "execution_count": null,
   "metadata": {},
   "outputs": [],
   "source": [
    "# Podejrzyj kilka wierszy g.vcf\n",
    "! zcat ${WORKSPACE}/sandbox/motherHC.g.vcf.gz |  grep 10002458"
   ]
  },
  {
   "cell_type": "markdown",
   "metadata": {},
   "source": [
    "Jeżeli podejrzymy zawartość gVCF, to zobaczymy, że w kolumnie ALT pojawia się pozycja \\<NON_REF\\>.\n",
    "Identyfikator PL w kolumnie format oznacza prawdopodobieństwo występowania kolejnych alleli, włączając \\<NON_REF\\>. \n",
    "***"
   ]
  },
  {
   "cell_type": "markdown",
   "metadata": {},
   "source": [
    "### Import gvcf dla trio do specjalnej bazy danych (GenomicsDB)"
   ]
  },
  {
   "cell_type": "code",
   "execution_count": null,
   "metadata": {},
   "outputs": [],
   "source": [
    "! mkdir sandbox_trio\n",
    "! gatk GenomicsDBImport \\\n",
    "    -V ${WORKSPACE}/gvcf/mother.g.vcf.gz \\\n",
    "    -V ${WORKSPACE}/gvcf/father.g.vcf.gz \\\n",
    "    -V ${WORKSPACE}/gvcf/son.g.vcf.gz \\\n",
    "    --genomicsdb-workspace-path ${WORKSPACE}/sandbox_trio/trio \\\n",
    "    --intervals 20:10,000,000-10,200,000"
   ]
  },
  {
   "cell_type": "code",
   "execution_count": null,
   "metadata": {},
   "outputs": [],
   "source": [
    "# z bazy mozemy wyciagnac polaczony gvcf\n",
    "! gatk SelectVariants \\\n",
    "    -R ${WORKSPACE}/ref/ref.fasta \\\n",
    "    -V gendb://sandbox_trio/trio \\\n",
    "    -O ${WORKSPACE}/sandbox/trio_selectvariants.g.vcf"
   ]
  },
  {
   "cell_type": "markdown",
   "metadata": {},
   "source": [
    "<b>ALE warianty na tym etapie nie mają wyliczonych genotypów</b>"
   ]
  },
  {
   "cell_type": "code",
   "execution_count": null,
   "metadata": {},
   "outputs": [],
   "source": [
    "! cat ${WORKSPACE}/sandbox/trio_selectvariants.g.vcf | grep 10002458"
   ]
  },
  {
   "cell_type": "markdown",
   "metadata": {},
   "source": [
    "Dlatego ostatnim krokiem jest genotyopwanie"
   ]
  },
  {
   "cell_type": "code",
   "execution_count": null,
   "metadata": {},
   "outputs": [],
   "source": [
    "! gatk GenotypeGVCFs \\\n",
    "    -R ${WORKSPACE}/ref/ref.fasta \\\n",
    "    -V gendb://sandbox_trio/trio \\\n",
    "    -O ${WORKSPACE}/sandbox/trioGGVCF.vcf \\\n",
    "    -L 20:10,000,000-10,200,000"
   ]
  },
  {
   "cell_type": "code",
   "execution_count": null,
   "metadata": {},
   "outputs": [],
   "source": [
    "! bgzip -c ${WORKSPACE}/sandbox/trioGGVCF.vcf > ${WORKSPACE}/sandbox/trioGGVCF.vcf.gz\n",
    "! tabix ${WORKSPACE}/sandbox/trioGGVCF.vcf.gz"
   ]
  },
  {
   "cell_type": "code",
   "execution_count": null,
   "metadata": {},
   "outputs": [],
   "source": [
    "igv_browser= igv_notebook.Browser(\n",
    "    {\n",
    "        \"genome\": \"hg19\",\n",
    "        \"locus\": \"chr20:10002294-10002623\",\n",
    "        \"tracks\": [{\n",
    "            \"name\": \"trio VCF\",\n",
    "            \"url\": edugen_bucket + \"trioGGVCF.vcf.gz\",\n",
    "            \"indexURL\": edugen_bucket + \"trioGGVCF.vcf.gz.tbi\",\n",
    "            \"format\": \"vcf\",\n",
    "            \"type\": \"variant\"\n",
    "        }]\n",
    "    }\n",
    ")"
   ]
  },
  {
   "cell_type": "markdown",
   "metadata": {
    "editable": true,
    "slideshow": {
     "slide_type": ""
    },
    "tags": []
   },
   "source": [
    "***\n",
    "# Poprawa genotypowania\n",
    "Posiadając informację o rodzinie, lub też wykorzystując informacje o znanych genotypach w populacji możemy wyliczyć prawdopodobieństwo a posteriori za pomoca funkcji [CalculateGenotypePosteriors](https://gatk.broadinstitute.org/hc/en-us/articles/360037226592-CalculateGenotypePosteriors) z pakietu GATK. \n",
    "\n",
    "<img src=\"png/genotype_refine.jpg\">\n",
    "\n",
    "Jeżeli w pliku gVCF mamy informację o próbkach z badania trio, to możemy za pomoca pliku z rodowodem ([w formacie .ped](https://gatk.broadinstitute.org/hc/en-us/articles/360035531972-PED-Pedigree-format)) spróbować poprawić pewnośc genotypowania."
   ]
  },
  {
   "cell_type": "code",
   "execution_count": null,
   "metadata": {},
   "outputs": [],
   "source": [
    "! gatk CalculateGenotypePosteriors \\\n",
    "    -V ${WORKSPACE}/sandbox/trioGGVCF.vcf \\\n",
    "    -ped ${WORKSPACE}/trio.ped \\\n",
    "    --skip-population-priors \\\n",
    "    -O ${WORKSPACE}/sandbox/trioCGP.vcf"
   ]
  },
  {
   "cell_type": "markdown",
   "metadata": {
    "editable": true,
    "slideshow": {
     "slide_type": ""
    },
    "tags": []
   },
   "source": [
    "***\n",
    "Możemy również posiłkować się danymi z baz populacyjnych, jak np. baza gnomAD, w tym celu należy jako argument podać plik VCF z częstościami oraz genotypami"
   ]
  },
  {
   "cell_type": "code",
   "execution_count": null,
   "metadata": {
    "editable": true,
    "slideshow": {
     "slide_type": ""
    },
    "tags": []
   },
   "outputs": [],
   "source": [
    "! gatk CalculateGenotypePosteriors \\\n",
    "    -V ${WORKSPACE}/sandbox/trioGGVCF.vcf \\\n",
    "    -ped ${WORKSPACE}/trio.ped \\\n",
    "    --supporting-callsets ${WORKSPACE}/resources/af-only-gnomad.chr20subset.b37.vcf.gz \\\n",
    "    -O ${WORKSPACE}/sandbox/trioCGP_gnomad.vcf"
   ]
  },
  {
   "cell_type": "code",
   "execution_count": null,
   "metadata": {},
   "outputs": [],
   "source": [
    "! bgzip -c  ${WORKSPACE}/sandbox/trioGGVCF.vcf > ${WORKSPACE}/sandbox/trioGGVCF.vcf.gz\n",
    "! tabix -f ${WORKSPACE}/sandbox/trioGGVCF.vcf.gz\n",
    "! bgzip -c  ${WORKSPACE}/sandbox/trioCGP.vcf > ${WORKSPACE}/sandbox/trioCGP.vcf.gz\n",
    "! tabix -f ${WORKSPACE}/sandbox/trioCGP.vcf.gz\n",
    "! bgzip -c  ${WORKSPACE}/sandbox/trioCGP_gnomad.vcf > ${WORKSPACE}/sandbox/trioCGP_gnomad.vcf.gz\n",
    "! tabix -f ${WORKSPACE}/sandbox/trioCGP_gnomad.vcf.gz"
   ]
  },
  {
   "cell_type": "markdown",
   "metadata": {},
   "source": [
    "***\n",
    "W IGV możemy zobaczyć czy poprawa genotypowania przyniosła skutki"
   ]
  },
  {
   "cell_type": "code",
   "execution_count": null,
   "metadata": {
    "editable": true,
    "slideshow": {
     "slide_type": ""
    },
    "tags": []
   },
   "outputs": [],
   "source": [
    "igv_browser= igv_notebook.Browser({\n",
    "    \"genome\": \"hg19\",\n",
    "    \"locus\": \"chr20:10002294-10002623\",\n",
    "    \"tracks\": [{\n",
    "        \"name\": \"trio GVCF\",\n",
    "        \"url\": edugen_bucket + \"trioGGVCF.vcf.gz\",\n",
    "        \"indexURL\": edugen_bucket + \"trioGGVCF.vcf.gz.tbi\",\n",
    "        \"format\": \"vcf\",\n",
    "        \"type\": \"variant\"\n",
    "        },\n",
    "        {\n",
    "        \"name\": \"trio CGP\",\n",
    "        \"url\": edugen_bucket + \"trioCGP.vcf.gz\",\n",
    "        \"indexURL\": edugen_bucket + \"trioCGP.vcf.gz.tbi\",\n",
    "        \"format\": \"vcf\",\n",
    "        \"type\": \"variant\"\n",
    "        },\n",
    "        {\n",
    "        \"name\": \"trio CGP gnomad\",\n",
    "        \"url\": edugen_bucket + \"trioCGP_gnomad.vcf.gz\",\n",
    "        \"indexURL\": edugen_bucket + \"trioCGP_gnomad.vcf.gz.tbi\",\n",
    "        \"format\": \"vcf\",\n",
    "        \"type\": \"variant\"\n",
    "        }]\n",
    "    }\n",
    ")"
   ]
  },
  {
   "cell_type": "markdown",
   "metadata": {},
   "source": [
    "***\n",
    "CalculateGenotypePosteriors dodaje 3 pozycje do kolumny FORMAT: PP, JL i JP.\n",
    "\n",
    "- Phred-scaled Posterior Probability (PP) basically refines the PL values. It incorporates the prior expectations for the given pedigree and/or population allele frequencies.\n",
    "- Joint Trio Likelihood (JL) is the Phred-scaled joint likelihood of the posterior genotypes for the trio being incorrect.\n",
    "- Joint Trio Posterior (JP) is the Phred-scaled posterior probability of the posterior genotypes for the three samples being incorrect."
   ]
  },
  {
   "cell_type": "code",
   "execution_count": null,
   "metadata": {},
   "outputs": [],
   "source": [
    "from IPython.display import Image\n",
    "from IPython.core.display import HTML \n",
    "Image(url= \"https://storage.googleapis.com/gatk-tutorials/workshop_1906/2-germline/images/vd-image4.png\")"
   ]
  },
  {
   "cell_type": "code",
   "execution_count": null,
   "metadata": {},
   "outputs": [],
   "source": [
    "from IPython.display import Image\n",
    "from IPython.core.display import HTML \n",
    "Image(url= \"https://storage.googleapis.com/gatk-tutorials/workshop_1906/2-germline/images/vd-image5.png\")"
   ]
  },
  {
   "cell_type": "markdown",
   "metadata": {},
   "source": [
    "***\n",
    "Więcej szczegółów na temat kolejnych kroków które można podjąć w celu polepszenia genotypowania: https://gatk.broadinstitute.org/hc/en-us/articles/360035531432?id=11074"
   ]
  },
  {
   "cell_type": "markdown",
   "metadata": {},
   "source": [
    "# Analiza pokrycia"
   ]
  },
  {
   "cell_type": "markdown",
   "metadata": {
    "editable": true,
    "slideshow": {
     "slide_type": ""
    },
    "tags": []
   },
   "source": []
  },
  {
   "cell_type": "code",
   "execution_count": null,
   "metadata": {},
   "outputs": [],
   "source": [
    "import os\n",
    "import pysam\n",
    "counter = 0\n",
    "with pysam.AlignmentFile(workspace+'/bam/mother.bam', 'rb') as samfile:\n",
    "    for pileupcolumn in samfile.pileup(\"20\", 10002294, 10002303):\n",
    "        counter +=1;\n",
    "        #if (pileupcolumn.pos != 16099988):   continue;\n",
    "        print (\"\\ncoverage at base %s = %s\" % (pileupcolumn.pos, pileupcolumn.n))\n",
    "        if (counter > 10): break"
   ]
  },
  {
   "cell_type": "code",
   "execution_count": null,
   "metadata": {},
   "outputs": [],
   "source": [
    "! samtools depth -a -r 20:10002294-10002623   ${WORKSPACE}/bam/mother.bam -o ${WORKSPACE}/sandbox/mother_cov"
   ]
  },
  {
   "cell_type": "code",
   "execution_count": null,
   "metadata": {},
   "outputs": [],
   "source": [
    "! head  ${WORKSPACE}/sandbox/mother_cov"
   ]
  },
  {
   "cell_type": "code",
   "execution_count": null,
   "metadata": {},
   "outputs": [],
   "source": [
    "import pandas as pd\n",
    "tsv_read = pd.read_csv(workspace+'/sandbox/mother_cov', sep='\\t' , header=None)"
   ]
  },
  {
   "cell_type": "code",
   "execution_count": null,
   "metadata": {},
   "outputs": [],
   "source": [
    "tsv_read.columns = [\"chr\", \"start\", \"coverage\"]\n",
    "tsv_read"
   ]
  },
  {
   "cell_type": "markdown",
   "metadata": {},
   "source": [
    "<div class=\"alert alert-block alert-warning\">\n",
    "<b>Zadanie 9*:</b> Zrób wykres głębokości pokrycia dla pozycji (chr20:10002294-10002623)i porównaj go z wizualizacja w IGV.\n",
    "</div>"
   ]
  },
  {
   "cell_type": "markdown",
   "metadata": {},
   "source": [
    "# Adnotacje"
   ]
  },
  {
   "cell_type": "code",
   "execution_count": null,
   "metadata": {},
   "outputs": [],
   "source": [
    "from biothings_client import get_client\n",
    "import pandas as pd\n",
    "pd.set_option('display.max_columns', 2000)\n",
    "mv = get_client('variant')\n",
    "mv.getvariants([\"chr7:g.140453134T>C\",\"chr7:g.140453134T>C\"], as_dataframe=1)"
   ]
  },
  {
   "cell_type": "code",
   "execution_count": null,
   "metadata": {},
   "outputs": [],
   "source": [
    "list(mv.query('dbnsfp.genename:CDK2', fetch_all=True))[0]\n",
    "#http://docs.myvariant.info/en/latest/doc/data.html#available-fields"
   ]
  },
  {
   "cell_type": "code",
   "execution_count": null,
   "metadata": {},
   "outputs": [],
   "source": [
    "#mv.getvariants('chr17:g.7578532A>G', fields = ['clinvar','gnomad_af'] , as_dataframe=1)\n",
    "gg = mv.getvariants('chr7:g.140453134T>C', fields = \"all\" , as_dataframe=1)\n",
    "gg.shape\n",
    "gg\n",
    "\n",
    "#https://cdn.rawgit.com/biothings/myvariant.info/master/docs/ipynb/myvariant_clinvar_demo.html"
   ]
  },
  {
   "cell_type": "code",
   "execution_count": null,
   "metadata": {},
   "outputs": [],
   "source": [
    "#! gunzip -k ${WORKSPACE}/sandbox/motherHC.vcf\n",
    "df = mv.getvariants(mv.get_hgvs_from_vcf(workspace + \"/sandbox/motherHC.vcf\") \\\n",
    "                    ,fields=\"all\", as_dataframe=1, fetch_all=True)\n"
   ]
  },
  {
   "cell_type": "code",
   "execution_count": null,
   "metadata": {},
   "outputs": [],
   "source": [
    "df[1:10]"
   ]
  },
  {
   "cell_type": "code",
   "execution_count": null,
   "metadata": {},
   "outputs": [],
   "source": [
    "pd.options.display.max_seq_items = 2000\n",
    "df.columns"
   ]
  },
  {
   "cell_type": "code",
   "execution_count": null,
   "metadata": {},
   "outputs": [],
   "source": [
    "df[\"gnomad_genome.af.af\"].plot(figsize=(20,10))"
   ]
  },
  {
   "cell_type": "code",
   "execution_count": null,
   "metadata": {},
   "outputs": [],
   "source": [
    "df.groupby(['dbsnp.gene.name']).count()"
   ]
  }
 ],
 "metadata": {
  "kernelspec": {
   "display_name": "omics-genomika",
   "language": "python",
   "name": "omics-genomika"
  },
  "language_info": {
   "codemirror_mode": {
    "name": "ipython",
    "version": 3
   },
   "file_extension": ".py",
   "mimetype": "text/x-python",
   "name": "python",
   "nbconvert_exporter": "python",
   "pygments_lexer": "ipython3",
   "version": "3.9.20"
  }
 },
 "nbformat": 4,
 "nbformat_minor": 4
}
