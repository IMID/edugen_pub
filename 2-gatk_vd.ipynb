{
 "cells": [
  {
   "cell_type": "markdown",
   "metadata": {},
   "source": [
    "# Część druga\n",
    "<div class=\"alert alert-block alert-danger\">\n",
    "<b>Uwaga:</b> Należy upewnić się że w prawym górnym rogu tego okna wybrany jest kernel \"omics-genomika\" a nie \"Python 3\"\n",
    "</div>\n",
    "\n",
    "# Wykrywanie wariantów DNA\n",
    "\n",
    "na bazie \n",
    "https://app.terra.bio/#workspaces/help-gatk/GATKTutorials-Germline-June2019/notebooks/launch/1-gatk-germline-variant-discovery-tutorial.ipynb\n"
   ]
  },
  {
   "cell_type": "code",
   "execution_count": null,
   "metadata": {},
   "outputs": [],
   "source": [
    "#####\n",
    "from IPython.display import Image\n",
    "from IPython.core.display import HTML \n",
    "Image(url= \"https://storage.googleapis.com/gatk-tutorials/workshop_1906/2-germline/images/vd-image1.png\")"
   ]
  },
  {
   "cell_type": "markdown",
   "metadata": {},
   "source": [
    "## Ustawienia zmiennych"
   ]
  },
  {
   "cell_type": "markdown",
   "metadata": {},
   "source": []
  },
  {
   "cell_type": "code",
   "execution_count": null,
   "metadata": {},
   "outputs": [],
   "source": []
  },
  {
   "cell_type": "code",
   "execution_count": null,
   "metadata": {},
   "outputs": [],
   "source": [
    "import os\n",
    "user_name = os.environ.get('USER')\n",
    "print(user_name)\n",
    "\n",
    "workspace = \"/tmp/jovyan/work/git/edugen_pub/\"\n",
    "os.environ['WORKSPACE'] = workspace\n",
    "! echo ${WORKSPACE}\n",
    "\n",
    "edugen_bucket  = \"gs://biodatageeks/sequila/edugen/\"\n",
    "os.environ['EDUGEN_BUCKET'] = edugen_bucket"
   ]
  },
  {
   "cell_type": "code",
   "execution_count": null,
   "metadata": {},
   "outputs": [],
   "source": [
    "def clean_all(): \n",
    "    ! rm -r sandbox_trio"
   ]
  },
  {
   "cell_type": "code",
   "execution_count": null,
   "metadata": {},
   "outputs": [],
   "source": [
    "#clean_all()"
   ]
  },
  {
   "cell_type": "markdown",
   "metadata": {},
   "source": [
    "## Wykrywanie wariantów GATK HaplotypeCaller w trybie standardowym\n",
    "\n",
    "Wywolanie GATK HC w najprostszej wersji dla pojedynczej próbki"
   ]
  },
  {
   "cell_type": "code",
   "execution_count": null,
   "metadata": {},
   "outputs": [],
   "source": [
    "! gatk HaplotypeCaller \\\n",
    "    -R ${WORKSPACE}/ref/ref.fasta \\\n",
    "    -I ${WORKSPACE}/bam/mother.bam \\\n",
    "    -O ${WORKSPACE}/sandbox/motherHC.vcf \\\n",
    "    -L 20:10,000,000-10,200,000"
   ]
  },
  {
   "cell_type": "markdown",
   "metadata": {},
   "source": [
    "## Wizualizacja BAM i VCF w programie IGV"
   ]
  },
  {
   "cell_type": "markdown",
   "metadata": {},
   "source": [
    "### Skopiowanie do publicznego kubełka"
   ]
  },
  {
   "cell_type": "code",
   "execution_count": null,
   "metadata": {},
   "outputs": [],
   "source": [
    "! bgzip -c ${WORKSPACE}/sandbox/motherHC.vcf > ${WORKSPACE}/sandbox/motherHC.vcf.gz\n",
    "! tabix ${WORKSPACE}/sandbox/motherHC.vcf.gz\n",
    "#! gsutil cp sandbox/motherHC.vcf.gz* gs://bucket-$USER/"
   ]
  },
  {
   "cell_type": "code",
   "execution_count": null,
   "metadata": {},
   "outputs": [],
   "source": [
    "!gsutil ls gs://biodatageeks/sequila/edugen/"
   ]
  },
  {
   "cell_type": "markdown",
   "metadata": {},
   "source": [
    "### Uruchomienie IGV"
   ]
  },
  {
   "cell_type": "code",
   "execution_count": null,
   "metadata": {},
   "outputs": [],
   "source": [
    "from igv_jupyterlab import IGV\n",
    "# At minimum, IGV requires a single argument, genome.\n",
    "# For supported genomes, a simple name may be supplied.\n",
    "igv = IGV(genome=\"hg19\" )\n",
    "display(igv)\n",
    "import time\n",
    "time.sleep(3)\n",
    "t1 = igv.create_track(\n",
    "        name = \"mother BAM\",\n",
    "        url = edugen_bucket + \"bam/mother.bam\",\n",
    "        index_url=edugen_bucket + \"bam/mother.bai\",        \n",
    "        indexed= True\n",
    ")\n",
    "\n",
    "t2 = igv.create_track(\n",
    "        name= \"mother HC VCF\",\n",
    "        url= edugen_bucket+\"motherHC.vcf.gz\",\n",
    "        index_url= edugen_bucket+\"motherHC.vcf.gz.tbi\",\n",
    "        indexed= True,\n",
    "        visibilityWindow= 1000\n",
    ")\n",
    "igv.load_track(t1)\n",
    "igv.load_track(t2)\n",
    "igv.search_locus(\"20\", 10002294, 10002623)\n"
   ]
  },
  {
   "cell_type": "code",
   "execution_count": null,
   "metadata": {},
   "outputs": [],
   "source": [
    "! zcat ${WORKSPACE}/sandbox/motherHC.vcf.gz | grep 100024"
   ]
  },
  {
   "cell_type": "markdown",
   "metadata": {},
   "source": [
    "<div class=\"alert alert-block alert-warning\">\n",
    "<b>Zadanie 2:</b> Jaka jest zygotyczność dwóch widocznych wariantów? Czy jest ona zgodna z tym co widzimy w odczytach ? \n",
    "</div>\n",
    "\n",
    "<div class=\"alert alert-block alert-warning\">\n",
    "<b>Zadanie 3:</b> Kliknij na ikonę edycji track'u z odczytami i zaznacz opcję \"Soft clip reads\". Algorytm mapowania (BWA MEM) zdecydował, że kara za obcięcie odczytów (Soft clipping) będzie mniejsza niż wstawienie insersji/delecji. \n",
    "</div>\n",
    "\n"
   ]
  },
  {
   "cell_type": "markdown",
   "metadata": {},
   "source": [
    "- Czym jest PL, GQ: https://gatk.broadinstitute.org/hc/en-us/articles/360035890451-Calculation-of-PL-and-GQ-by-HaplotypeCaller-and-GenotypeGVCFs"
   ]
  },
  {
   "cell_type": "markdown",
   "metadata": {},
   "source": [
    "## Ponowne uliniowienie odczytów i zasemblowane haplotypy\n",
    "\n",
    "HaplotypeCaller posiada parametr -bamout pozwalający na wyświetlenie ponownie uliniowionych odczytów,\n",
    "które następnie są wykorzystywane do wykrywania wariantów.\n"
   ]
  },
  {
   "cell_type": "code",
   "execution_count": null,
   "metadata": {},
   "outputs": [],
   "source": [
    "! gatk HaplotypeCaller \\\n",
    "    -R ${WORKSPACE}/ref/ref.fasta \\\n",
    "    -I ${WORKSPACE}/bam/mother.bam\\\n",
    "    -O ${WORKSPACE}/sandbox/motherHCdebug.vcf \\\n",
    "    -bamout ${WORKSPACE}/sandbox/motherHCdebug.bam \\\n",
    "    -L 20:10,002,000-10,003,000"
   ]
  },
  {
   "cell_type": "markdown",
   "metadata": {},
   "source": [
    "<div class=\"alert alert-block alert-warning\">\n",
    "<b>Zadanie 4*:</b> Wyświetl dla porównania obydwa BAMy (zwykły i debug) oraz VCF. Przy wyświetlaniu BAM'ów ustaw opcję \n",
    "    showSoftClips = True, aby od razu wyświetlały się split ready. Inne opcje są dostępne na: https://github.com/igvteam/igv.js/wiki/Alignment-Track\n",
    "</div>"
   ]
  },
  {
   "cell_type": "markdown",
   "metadata": {},
   "source": [
    "Ponieważ jesteśmy zainteresowani jednym miejscem (20:10,002,000-10,003,000) to dokonaliśmy reuliniowienia tylko tego fragmentu. "
   ]
  },
  {
   "cell_type": "markdown",
   "metadata": {},
   "source": [
    "Po ponownym uliniowieniu zniknęły obcięte odczyty (soft clipped reads) . HaplotypeCaller wykorzystuje odczyty 'soft-clipped' do ponownego uliniowienia. Z analizy odczytów wynika, że insercja i pobliski SNP są ze sobą sfazowane. Wynika z tego, że HaplotypeCaller znalazł różne możliwe uliniowienia po wykonaniu lokalnej reasemblacji. Po reasemblacji występuje wystarczająco dużo odczytów wskazujących na występowanie insercji, która byłaby pominięta w przypadku użycia prostszych algorytmów, nie wykorzystujących reasemblacji (np. UnifiedGenotyper)"
   ]
  },
  {
   "cell_type": "markdown",
   "metadata": {},
   "source": [
    "<div class=\"alert alert-block alert-warning\">\n",
    "<b>Zadanie 5:</b> Przyjrzyj się insercji w poszczególnych odczytach.  Czy wszędzie jest ona taka sama?\n",
    "</div>"
   ]
  },
  {
   "cell_type": "markdown",
   "metadata": {},
   "source": [
    "<div class=\"alert alert-block alert-warning\">\n",
    "<b>Zadanie 6*:</b> W jaki sposób wyświetlić w IGV haplotypy utworzone przez HC?\n",
    "</div>"
   ]
  },
  {
   "cell_type": "markdown",
   "metadata": {},
   "source": [
    "Czerwone odczyty nie są prawdziwe - (spójrz na RG). Są to odczyty reprezentujące haplotypy utworzone przez HaplotypeCaller. Co jeżeli pokolorujemy po tagu HC?\n",
    "<div class=\"alert alert-block alert-warning\">\n",
    "<b>Zadanie 7:</b> Podejrzyj wsparcie dla każdego haplotypu poprzez pokolorowanie po tag'u HC zamiast RG. HaplotypeCaller oznacza odpowiednim tagiem HC wszystkie odczyty jednoznacznie wskazujący na dany \"sztuczny haplotyp\". Co teraz sądzisz o decyzji Variant Caller'a w sprawie wyboru typu insercji?\n",
    "</div>"
   ]
  },
  {
   "cell_type": "markdown",
   "metadata": {},
   "source": [
    "<div class=\"alert alert-block alert-warning\">\n",
    "<b>Zadanie 8:</b> Oddal widok i zobacz ile różnych haplotypów zostało znalezionych dla kolejnych trzech spójnych regionów. Dlaczego w regionie po lewej jest więcej haplotypów?\n",
    "</div>"
   ]
  },
  {
   "cell_type": "markdown",
   "metadata": {},
   "source": [
    "## Jednoczesne genotypowanie wielu próbek przy wykorzystaniu gVCF\n",
    "\n",
    "Istnieje możliwość jednoczesnego genotypowania wielu probek w normalnym trybie pracy działania HaplotypeCallera (joint calling). Jednakże nie jest to rozwiązanie skalowalne. Dlatego rozdzielono przetwarzanie plików BAM od właściwego genotypowania poprzez wprowadzenie tzw. plików gVCF. \n",
    "\n",
    "W trybie potoku GVCF HaplotypeCaller urachmiany jest z opcją -ERC GVCF dla każdego pliku BAM, co w wyniku generuje pliki z rozszerzeniem .gvcf posiadające poza informacją o wariantach dodatkowe dane o jakości pozostałych regionów. Następnie jednoczesne genotypowanie wielu próbek odbywa się poprzez wykonanie metody GenotypeGVCF na wielu plikach gvcf. \n",
    "\n",
    "Utwórzmy plik g.vcf dla jednego pliku bam (mother.bam)."
   ]
  },
  {
   "cell_type": "code",
   "execution_count": null,
   "metadata": {},
   "outputs": [],
   "source": [
    "! gatk HaplotypeCaller \\\n",
    "    -R ${WORKSPACE}/ref/ref.fasta \\\n",
    "    -I ${WORKSPACE}/bam/mother.bam \\\n",
    "    -O ${WORKSPACE}/sandbox/motherHC.g.vcf \\\n",
    "    -ERC GVCF \\\n",
    "    -L 20:10,000,000-10,200,000"
   ]
  },
  {
   "cell_type": "code",
   "execution_count": null,
   "metadata": {},
   "outputs": [],
   "source": [
    "! bgzip -c ${WORKSPACE}/sandbox/motherHC.g.vcf > ${WORKSPACE}/sandbox/motherHC.g.vcf.gz\n",
    "! tabix ${WORKSPACE}/sandbox/motherHC.g.vcf.gz\n",
    "#! gsutil cp sandbox/motherHC.g.vcf* gs://bucket-$USER/"
   ]
  },
  {
   "cell_type": "code",
   "execution_count": null,
   "metadata": {},
   "outputs": [],
   "source": [
    "igv = IGV(genome=\"hg19\" )\n",
    "display(igv)\n",
    "import time\n",
    "time.sleep(3)\n",
    "\n",
    "\n",
    "t2 = igv.create_track(\n",
    "        name= \"mother HC debug BAM\",\n",
    "        url= edugen_bucket + \"bam/motherHCdebug.bam\",\n",
    "        index_url= edugen_bucket + \"bam/motherHCdebug.bai\",\n",
    "        indexed= True,\n",
    "        showSoftClips=True,\n",
    "        colorBy=\"tag\",\n",
    "        colorByTag= \"HC\",\n",
    "        sortByTag= \"RG\",\n",
    "        visibilityWindow= 1000\n",
    ")\n",
    "t3 = igv.create_track(\n",
    "        name= \"mother HC VCF\",\n",
    "        url= edugen_bucket + \"motherHC.g.vcf.gz\",\n",
    "        index_url= edugen_bucket + \"motherHC.g.vcf.gz.tbi\",\n",
    "        indexed= True,\n",
    "        visibilityWindow= 1000\n",
    ")\n",
    "igv.load_track(t2)\n",
    "\n",
    "igv.load_track(t3)\n",
    "igv.search_locus(\"20\", 10002294, 10002623)"
   ]
  },
  {
   "cell_type": "markdown",
   "metadata": {},
   "source": [
    "Co sie zmienilo w stosunku do VCF?\n",
    "Poza wariantami pojawily sie szare bloki reprezentujace stopien pewnosci, ze w danym regionie nie ma wariantu. \n",
    "Zmiana bloku oznacza zmiane pewnosci, ze w danym regionie nie ma wariantow. \n"
   ]
  },
  {
   "cell_type": "code",
   "execution_count": null,
   "metadata": {},
   "outputs": [],
   "source": [
    "# Podejrzyj kilka wierszy g.vcf\n",
    "! zcat ${WORKSPACE}/sandbox/motherHC.g.vcf.gz |  grep 10002458"
   ]
  },
  {
   "cell_type": "markdown",
   "metadata": {},
   "source": [
    "Jeżeli podejrzymy zawartość gVCF, to zobaczymy, że w kolumnie ALT pojawia się pozycja \\<NON_REF\\>.\n",
    "Identyfikator PL w kolumnie format oznacza prawdopodobieństwo występowania kolejnych alleli, włączając \\<NON_REF\\>. \n"
   ]
  },
  {
   "cell_type": "markdown",
   "metadata": {},
   "source": [
    "### Import gvcf dla trio do specjalnej bazy danych (GenomicsDB)"
   ]
  },
  {
   "cell_type": "code",
   "execution_count": null,
   "metadata": {},
   "outputs": [],
   "source": [
    "!mkdir sandbox_trio\n",
    "! gatk GenomicsDBImport \\\n",
    "    -V ${WORKSPACE}/gvcf/mother.g.vcf.gz \\\n",
    "    -V ${WORKSPACE}/gvcf/father.g.vcf.gz \\\n",
    "    -V ${WORKSPACE}/gvcf/son.g.vcf.gz \\\n",
    "    --genomicsdb-workspace-path ${WORKSPACE}/sandbox_trio/trio \\\n",
    "    --intervals 20:10,000,000-10,200,000"
   ]
  },
  {
   "cell_type": "code",
   "execution_count": null,
   "metadata": {},
   "outputs": [],
   "source": [
    "#! ln -s ${WORKSPACE}/sandbox_trio/ sandbox_trio"
   ]
  },
  {
   "cell_type": "code",
   "execution_count": null,
   "metadata": {},
   "outputs": [],
   "source": [
    "# z bazy mozemy wyciagnac polaczony gvcf\n",
    "! gatk SelectVariants \\\n",
    "    -R ${WORKSPACE}/ref/ref.fasta \\\n",
    "    -V gendb://sandbox_trio/trio \\\n",
    "    -O ${WORKSPACE}/sandbox/trio_selectvariants.g.vcf"
   ]
  },
  {
   "cell_type": "markdown",
   "metadata": {},
   "source": [
    "<b>ALE warianty na tym etapie nie mają wyliczonych genotypów</b>"
   ]
  },
  {
   "cell_type": "code",
   "execution_count": null,
   "metadata": {},
   "outputs": [],
   "source": [
    "! cat ${WORKSPACE}/sandbox/trio_selectvariants.g.vcf | grep 10002458"
   ]
  },
  {
   "cell_type": "markdown",
   "metadata": {},
   "source": [
    "Dlatego ostatnim krokiem jest genotyopwanie"
   ]
  },
  {
   "cell_type": "code",
   "execution_count": null,
   "metadata": {},
   "outputs": [],
   "source": [
    "! gatk GenotypeGVCFs \\\n",
    "    -R ${WORKSPACE}/ref/ref.fasta \\\n",
    "    -V gendb://sandbox_trio/trio \\\n",
    "    -O ${WORKSPACE}/sandbox/trioGGVCF.vcf \\\n",
    "    -L 20:10,000,000-10,200,000"
   ]
  },
  {
   "cell_type": "code",
   "execution_count": null,
   "metadata": {},
   "outputs": [],
   "source": [
    "! bgzip -c ${WORKSPACE}/sandbox/trioGGVCF.vcf > ${WORKSPACE}/sandbox/trioGGVCF.vcf.gz\n",
    "! tabix ${WORKSPACE}/sandbox/trioGGVCF.vcf.gz\n",
    "#! gsutil cp sandbox/trioGGVCF.vcf.gz* gs://bucket-$USER/"
   ]
  },
  {
   "cell_type": "code",
   "execution_count": null,
   "metadata": {},
   "outputs": [],
   "source": [
    "from igv_jupyterlab import IGV\n",
    "igv = IGV(genome=\"hg19\" )\n",
    "display(igv)\n",
    "import time\n",
    "time.sleep(3)\n",
    "\n",
    "\n",
    "t3 = igv.create_track(\n",
    "        name= \"trio VCF\",\n",
    "        url= edugen_bucket +\"trioGGVCF.vcf.gz\",\n",
    "        index_url=edugen_bucket +\"trioGGVCF.vcf.gz.tbi\",\n",
    "        indexed= True,\n",
    "        visibilityWindow= 1000\n",
    ")\n",
    "\n",
    "igv.load_track(t3)\n",
    "\n",
    "igv.search_locus(\"20\", 10002294, 10002623)"
   ]
  },
  {
   "cell_type": "markdown",
   "metadata": {},
   "source": [
    "# Poprawa genotypowania"
   ]
  },
  {
   "cell_type": "code",
   "execution_count": null,
   "metadata": {},
   "outputs": [],
   "source": [
    "from IPython.display import Image\n",
    "from IPython.core.display import HTML \n",
    "Image(url= \"https://us.v-cdn.net/5019796/uploads/FileUpload/40/a04b64d7884a07d1b562ead4002c60.jpg\")"
   ]
  },
  {
   "cell_type": "code",
   "execution_count": null,
   "metadata": {},
   "outputs": [],
   "source": [
    "! gatk CalculateGenotypePosteriors \\\n",
    "    -V ${WORKSPACE}/sandbox/trioGGVCF.vcf \\\n",
    "    -ped ${WORKSPACE}/trio.ped \\\n",
    "    --skip-population-priors \\\n",
    "    -O ${WORKSPACE}/sandbox/trioCGP.vcf"
   ]
  },
  {
   "cell_type": "code",
   "execution_count": null,
   "metadata": {},
   "outputs": [],
   "source": [
    "! gatk CalculateGenotypePosteriors \\\n",
    "    -V ${WORKSPACE}/sandbox/trioGGVCF.vcf \\\n",
    "    -ped ${WORKSPACE}/trio.ped \\\n",
    "    --supporting-callsets ${WORKSPACE}/resources/af-only-gnomad.chr20subset.b37.vcf.gz \\\n",
    "    -O ${WORKSPACE}/sandbox/trioCGP_gnomad.vcf"
   ]
  },
  {
   "cell_type": "code",
   "execution_count": null,
   "metadata": {},
   "outputs": [],
   "source": [
    "! bgzip -c  ${WORKSPACE}/sandbox/trioGGVCF.vcf > ${WORKSPACE}/sandbox/trioGGVCF.vcf.gz\n",
    "! tabix -f ${WORKSPACE}/sandbox/trioGGVCF.vcf.gz\n",
    "! bgzip -c  ${WORKSPACE}/sandbox/trioCGP.vcf > ${WORKSPACE}/sandbox/trioCGP.vcf.gz\n",
    "! tabix -f ${WORKSPACE}/sandbox/trioCGP.vcf.gz\n",
    "! bgzip -c  ${WORKSPACE}/sandbox/trioCGP_gnomad.vcf > ${WORKSPACE}/sandbox/trioCGP_gnomad.vcf.gz\n",
    "! tabix -f ${WORKSPACE}/sandbox/trioCGP_gnomad.vcf.gz\n",
    "#! gsutil cp  ${WORKSPACE}/sandbox/trioGGVCF* gs://bucket-$USER/\n",
    "#! gsutil cp  ${WORKSPACE}/sandbox/trioCGP* gs://bucket-$USER/\n"
   ]
  },
  {
   "cell_type": "code",
   "execution_count": null,
   "metadata": {},
   "outputs": [],
   "source": [
    "!gsutil ls ${EDUGEN_BUCKET}"
   ]
  },
  {
   "cell_type": "code",
   "execution_count": null,
   "metadata": {},
   "outputs": [],
   "source": [
    "from igv_jupyterlab import IGV\n",
    "igv = IGV(genome=\"hg19\" )\n",
    "display(igv)\n",
    "import time\n",
    "time.sleep(3)\n",
    "\n",
    "\n",
    "t1 = igv.create_track(\n",
    "        name= \"trio GVCF\",\n",
    "        url= edugen_bucket+\"trioGGVCF.vcf.gz\",\n",
    "        index_url= edugen_bucket+\"trioGGVCF.vcf.gz.tbi\",\n",
    "        indexed= True,\n",
    "        visibilityWindow= 1000\n",
    ")\n",
    "\n",
    "t2 = igv.create_track(\n",
    "        name= \"trio CGP\",\n",
    "        url= edugen_bucket+\"trioCGP.vcf.gz\",\n",
    "        index_url= edugen_bucket+\"trioCGP.vcf.gz.tbi\",\n",
    "        indexed= True,\n",
    "        visibilityWindow= 1000\n",
    ")\n",
    "\n",
    "\n",
    "t3 = igv.create_track(\n",
    "        name= \"trio CGP gnomad\",\n",
    "        url= edugen_bucket+\"trioCGP_gnomad.vcf.gz\",\n",
    "        index_url= edugen_bucket+\"trioCGP_gnomad.vcf.gz.tbi\",\n",
    "        indexed= True,\n",
    "        visibilityWindow= 1000\n",
    ")\n",
    "\n",
    "\n",
    "igv.load_track(t1)\n",
    "igv.load_track(t2)\n",
    "igv.load_track(t3)\n",
    "\n",
    "igv.search_locus(\"20\", 10002294, 10002623)\n"
   ]
  },
  {
   "cell_type": "markdown",
   "metadata": {},
   "source": [
    "CalculateGenotypePosteriors dodaje 3 pozycje do kolumny FORMAT: PP, JL i JP.\n",
    "\n",
    "- Phred-scaled Posterior Probability (PP) basically refines the PL values. It incorporates the prior expectations for the given pedigree and/or population allele frequencies.\n",
    "- Joint Trio Likelihood (JL) is the Phred-scaled joint likelihood of the posterior genotypes for the trio being incorrect.\n",
    "- Joint Trio Posterior (JP) is the Phred-scaled posterior probability of the posterior genotypes for the three samples being incorrect."
   ]
  },
  {
   "cell_type": "code",
   "execution_count": null,
   "metadata": {},
   "outputs": [],
   "source": [
    "from IPython.display import Image\n",
    "from IPython.core.display import HTML \n",
    "Image(url= \"https://storage.googleapis.com/gatk-tutorials/workshop_1906/2-germline/images/vd-image4.png\")\n"
   ]
  },
  {
   "cell_type": "code",
   "execution_count": null,
   "metadata": {},
   "outputs": [],
   "source": [
    "from IPython.display import Image\n",
    "from IPython.core.display import HTML \n",
    "Image(url= \"https://storage.googleapis.com/gatk-tutorials/workshop_1906/2-germline/images/vd-image5.png\")\n"
   ]
  },
  {
   "cell_type": "markdown",
   "metadata": {},
   "source": [
    "Więcej szczegółów na https://gatk.broadinstitute.org/hc/en-us/articles/360035531432?id=11074"
   ]
  },
  {
   "cell_type": "markdown",
   "metadata": {},
   "source": [
    "# Analiza pokrycia"
   ]
  },
  {
   "cell_type": "code",
   "execution_count": null,
   "metadata": {},
   "outputs": [],
   "source": [
    "import os\n",
    "import pysam\n",
    "counter = 0\n",
    "with pysam.AlignmentFile(workspace+'/bam/mother.bam', 'rb') as samfile:\n",
    "    for pileupcolumn in samfile.pileup(\"20\", 10002294, 10002303):\n",
    "        counter +=1;\n",
    "        #if (pileupcolumn.pos != 16099988):   continue;\n",
    "        print (\"\\ncoverage at base %s = %s\" % (pileupcolumn.pos, pileupcolumn.n))\n",
    "        if (counter > 10): break"
   ]
  },
  {
   "cell_type": "code",
   "execution_count": null,
   "metadata": {},
   "outputs": [],
   "source": [
    "! samtools depth -a -r 20:10002294-10002623   ${WORKSPACE}/bam/mother.bam -o ${WORKSPACE}/sandbox/mother_cov"
   ]
  },
  {
   "cell_type": "code",
   "execution_count": null,
   "metadata": {},
   "outputs": [],
   "source": [
    "! head  ${WORKSPACE}/sandbox/mother_cov"
   ]
  },
  {
   "cell_type": "code",
   "execution_count": null,
   "metadata": {},
   "outputs": [],
   "source": [
    "import pandas as pd\n",
    "tsv_read = pd.read_csv(workspace+'/sandbox/mother_cov', sep='\\t' , header=None)"
   ]
  },
  {
   "cell_type": "code",
   "execution_count": null,
   "metadata": {},
   "outputs": [],
   "source": [
    "tsv_read.columns = [\"chr\", \"start\", \"coverage\"]\n",
    "tsv_read"
   ]
  },
  {
   "cell_type": "markdown",
   "metadata": {},
   "source": [
    "<div class=\"alert alert-block alert-warning\">\n",
    "<b>Zadanie 9*:</b> Zrób wykres głębokości pokrycia dla pozycji (chr20:10002294-10002623)i porównaj go z wizualizacja w IGV.\n",
    "</div>"
   ]
  },
  {
   "cell_type": "markdown",
   "metadata": {},
   "source": [
    "# Adnotacje"
   ]
  },
  {
   "cell_type": "code",
   "execution_count": null,
   "metadata": {},
   "outputs": [],
   "source": [
    "from biothings_client import get_client\n",
    "import pandas as pd\n",
    "pd.set_option('display.max_columns', 2000)\n",
    "mv = get_client('variant')\n",
    "mv.getvariants([\"chr7:g.140453134T>C\",\"chr7:g.140453134T>C\"], as_dataframe=1)"
   ]
  },
  {
   "cell_type": "code",
   "execution_count": null,
   "metadata": {},
   "outputs": [],
   "source": [
    "list(mv.query('dbnsfp.genename:CDK2', fetch_all=True))[0]\n",
    "#http://docs.myvariant.info/en/latest/doc/data.html#available-fields"
   ]
  },
  {
   "cell_type": "code",
   "execution_count": null,
   "metadata": {},
   "outputs": [],
   "source": [
    "#mv.getvariants('chr17:g.7578532A>G', fields = ['clinvar','gnomad_af'] , as_dataframe=1)\n",
    "gg = mv.getvariants('chr7:g.140453134T>C', fields = \"all\" , as_dataframe=1)\n",
    "gg.shape\n",
    "gg\n",
    "\n",
    "#https://cdn.rawgit.com/biothings/myvariant.info/master/docs/ipynb/myvariant_clinvar_demo.html"
   ]
  },
  {
   "cell_type": "code",
   "execution_count": null,
   "metadata": {},
   "outputs": [],
   "source": [
    "#! gunzip -k ${WORKSPACE}/sandbox/motherHC.vcf\n",
    "df = mv.getvariants(mv.get_hgvs_from_vcf(workspace + \"/sandbox/motherHC.vcf\") \\\n",
    "                    ,fields=\"all\", as_dataframe=1, fetch_all=True)\n"
   ]
  },
  {
   "cell_type": "code",
   "execution_count": null,
   "metadata": {},
   "outputs": [],
   "source": [
    "df[1:10]"
   ]
  },
  {
   "cell_type": "code",
   "execution_count": null,
   "metadata": {},
   "outputs": [],
   "source": [
    "pd.options.display.max_seq_items = 2000\n",
    "df.columns"
   ]
  },
  {
   "cell_type": "code",
   "execution_count": null,
   "metadata": {},
   "outputs": [],
   "source": [
    "df[\"gnomad_genome.af.af\"].plot(figsize=(20,10))"
   ]
  },
  {
   "cell_type": "code",
   "execution_count": null,
   "metadata": {},
   "outputs": [],
   "source": [
    "df.groupby(['dbsnp.gene.name']).count()"
   ]
  }
 ],
 "metadata": {
  "kernelspec": {
   "display_name": "edugen",
   "language": "python",
   "name": "edugen"
  },
  "language_info": {
   "codemirror_mode": {
    "name": "ipython",
    "version": 3
   },
   "file_extension": ".py",
   "mimetype": "text/x-python",
   "name": "python",
   "nbconvert_exporter": "python",
   "pygments_lexer": "ipython3",
   "version": "3.6.9"
  }
 },
 "nbformat": 4,
 "nbformat_minor": 4
}
