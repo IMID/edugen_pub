{
 "cells": [
  {
   "cell_type": "markdown",
   "metadata": {},
   "source": [
    "# Notatnik do utworzenia środowiska pracy\n",
    "<div class=\"alert alert-block alert-danger\">\n",
    "<b>Uwaga:</b> Należy upewnić się że w prawym górnym rogu tego okna wybrany jest kernel \"omics-genomika\" a nie \"Python 3\"\n",
    "</div>"
   ]
  },
  {
   "cell_type": "code",
   "execution_count": null,
   "metadata": {},
   "outputs": [],
   "source": [
    "## Utowrzenie struktury folderów\n",
    "import subprocess\n",
    "subprocess.call(['mkdir', 'sandbox'], shell=False)\n",
    "subprocess.call(['mkdir', 'ref'], shell=False)\n",
    "subprocess.call(['mkdir', 'resources'], shell=False)\n",
    "subprocess.call(['mkdir', 'bam'], shell=False)\n",
    "subprocess.call(['mkdir', 'vcf'], shell=False)\n",
    "subprocess.call(['mkdir', 'fastq'], shell=False)\n",
    "subprocess.call(['mkdir', 'gvcf'], shell=False)\n",
    "subprocess.call(['mkdir', 'png'], shell=False)\n",
    "subprocess.call(['mkdir', '-p', 'sandbox/fastqc_reports/'], shell=False)"
   ]
  },
  {
   "cell_type": "code",
   "execution_count": null,
   "metadata": {},
   "outputs": [],
   "source": [
    "## Pobranie plików do zajęć\n",
    "! gsutil cp gs://gatk-tutorials/workshop_1906/2-germline/ref/* ref/\n",
    "! gsutil cp gs://gatk-tutorials/workshop_1906/2-germline/trio.ped .\n",
    "! gsutil cp gs://gatk-tutorials/workshop_1906/2-germline/resources/af* resources/\n",
    "! gsutil cp gs://gatk-tutorials/workshop_1906/2-germline/bams/* bam/\n",
    "! gsutil cp gs://gatk-tutorials/workshop_1906/2-germline/gvcfs/* gvcf/"
   ]
  },
  {
   "cell_type": "code",
   "execution_count": null,
   "metadata": {},
   "outputs": [],
   "source": [
    "## Konwersja plików BAM do FASTQ\n",
    "! samtools sort -n bam/mother.bam -o bam/mother.qsort.bam\n",
    "! bedtools bamtofastq -i bam/mother.qsort.bam -fq fastq/mother_1.fq -fq2 fastq/mother_2.fq\n",
    "! samtools sort -n bam/father.bam -o bam/father.qsort.bam\n",
    "! bedtools bamtofastq -i bam/father.qsort.bam -fq fastq/father_1.fq -fq2 fastq/father_2.fq\n",
    "! samtools sort -n bam/son.bam -o bam/son.qsort.bam\n",
    "! bedtools bamtofastq -i bam/son.qsort.bam -fq fastq/son_1.fq -fq2 fastq/son_2.fq\n",
    "! cat fastq/mother_1.fq fastq/mother_2.fq | paste - - - - | sort -k1,1 -t \" \" | tr \"\\t\" \"\\n\" > fastq/mother.fq\n",
    "! cat fastq/father_1.fq fastq/father_2.fq | paste - - - - | sort -k1,1 -t \" \" | tr \"\\t\" \"\\n\" > fastq/father.fq\n",
    "! cat fastq/son_1.fq fastq/son_2.fq | paste - - - - | sort -k1,1 -t \" \" | tr \"\\t\" \"\\n\" > fastq/son.fq\n",
    "! rm -f fastq/*1.fq\n",
    "! rm -f fastq/*2.fq\n",
    "! bwa index -a is ref/ref.fasta hg19"
   ]
  }
 ],
 "metadata": {
  "kernelspec": {
   "display_name": "edugen",
   "language": "python",
   "name": "edugen"
  },
  "language_info": {
   "codemirror_mode": {
    "name": "ipython",
    "version": 3
   },
   "file_extension": ".py",
   "mimetype": "text/x-python",
   "name": "python",
   "nbconvert_exporter": "python",
   "pygments_lexer": "ipython3",
   "version": "3.7.9"
  }
 },
 "nbformat": 4,
 "nbformat_minor": 4
}
