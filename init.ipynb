{
 "cells": [
  {
<<<<<<< HEAD
   "cell_type": "code",
   "execution_count": null,
   "metadata": {},
   "outputs": [],
   "source": [
    "%env JAVA_HOME=/data/tools/jdk1.8.0_231/\n",
    "import os\n",
    "os.environ['PATH'] =   '/data/tools/jdk1.8.0_231/bin/' + os.pathsep + os.environ['PATH']\n",
    "! java -version"
=======
   "cell_type": "markdown",
   "metadata": {},
   "source": [
    "# Notatnik do utworzenia środowiska pracy\n",
    "<div class=\"alert alert-block alert-danger\">\n",
    "<b>Uwaga:</b> Należy upewnić się że w prawym górnym rogu tego okna wybrany jest kernel \"edugen\" a nie \"Python 3\"\n",
    "</div>"
>>>>>>> f8ec0863c1e023727781b0348e23c5edb8301992
   ]
  },
  {
   "cell_type": "code",
   "execution_count": null,
   "metadata": {},
   "outputs": [],
   "source": [
<<<<<<< HEAD
    "## DIR structure\n",
=======
    "## Utowrzenie struktury folderów\n",
>>>>>>> f8ec0863c1e023727781b0348e23c5edb8301992
    "import subprocess\n",
    "subprocess.call(['mkdir', 'sandbox'], shell=False)\n",
    "subprocess.call(['mkdir', 'ref'], shell=False)\n",
    "subprocess.call(['mkdir', 'resources'], shell=False)\n",
    "subprocess.call(['mkdir', 'bam'], shell=False)\n",
    "subprocess.call(['mkdir', 'vcf'], shell=False)\n",
    "subprocess.call(['mkdir', 'fastq'], shell=False)\n",
    "subprocess.call(['mkdir', 'gvcf'], shell=False)\n",
    "subprocess.call(['mkdir', 'png'], shell=False)\n",
    "subprocess.call(['mkdir', '-p', 'sandbox/fastqc_reports/'], shell=False)"
   ]
  },
  {
   "cell_type": "code",
   "execution_count": null,
   "metadata": {},
   "outputs": [],
   "source": [
<<<<<<< HEAD
    "! gsutil ls gs://gatk-tutorials/workshop_1906/2-germline/gvcfs/"
=======
    "## Pobranie plików do zajęć\n",
    "! gsutil cp gs://gatk-tutorials/workshop_1906/2-germline/ref/* ref/\n",
    "! gsutil cp gs://gatk-tutorials/workshop_1906/2-germline/trio.ped .\n",
    "! gsutil cp gs://gatk-tutorials/workshop_1906/2-germline/resources/* resources/\n",
    "! gsutil cp gs://gatk-tutorials/workshop_1906/2-germline/bams/* bam/\n",
    "! gsutil cp gs://gatk-tutorials/workshop_1906/2-germline/gvcfs/* gvcf/"
>>>>>>> f8ec0863c1e023727781b0348e23c5edb8301992
   ]
  },
  {
   "cell_type": "code",
   "execution_count": null,
   "metadata": {},
   "outputs": [],
   "source": [
<<<<<<< HEAD
    "## Download data\n",
    "! gsutil cp gs://gatk-tutorials/workshop_1906/2-germline/ref/* ref\n",
    "! gsutil cp gs://gatk-tutorials/workshop_1906/2-germline/trio.ped ./\n",
    "! gsutil cp gs://gatk-tutorials/workshop_1906/2-germline/resources/af-only* resources/\n",
    "! gsutil cp gs://gatk-tutorials/workshop_1906/2-germline/bams/* bam/    \n",
    "! gsutil cp gs://gatk-tutorials/workshop_1906/2-germline/gvcfs/* gvcf/    "
   ]
  },
  {
   "cell_type": "code",
   "execution_count": null,
   "metadata": {},
   "outputs": [],
   "source": [
    "## Convert BAM to FASTQ\n",
=======
    "## Konwersja plików BAM do FASTQ\n",
>>>>>>> f8ec0863c1e023727781b0348e23c5edb8301992
    "! samtools sort -n bam/mother.bam -o bam/mother.qsort.bam\n",
    "! bedtools bamtofastq -i bam/mother.qsort.bam -fq fastq/mother_1.fq -fq2 fastq/mother_2.fq\n",
    "! samtools sort -n bam/father.bam -o bam/father.qsort.bam\n",
    "! bedtools bamtofastq -i bam/father.qsort.bam -fq fastq/father_1.fq -fq2 fastq/father_2.fq\n",
    "! samtools sort -n bam/son.bam -o bam/son.qsort.bam\n",
    "! bedtools bamtofastq -i bam/son.qsort.bam -fq fastq/son_1.fq -fq2 fastq/son_2.fq\n",
    "! cat fastq/mother_1.fq fastq/mother_2.fq | paste - - - - | sort -k1,1 -t \" \" | tr \"\\t\" \"\\n\" > fastq/mother.fq\n",
    "! cat fastq/father_1.fq fastq/father_2.fq | paste - - - - | sort -k1,1 -t \" \" | tr \"\\t\" \"\\n\" > fastq/father.fq\n",
    "! cat fastq/son_1.fq fastq/son_2.fq | paste - - - - | sort -k1,1 -t \" \" | tr \"\\t\" \"\\n\" > fastq/son.fq\n",
    "! rm -f fastq/*1.fq\n",
<<<<<<< HEAD
    "! rm -f fastq/*2.fq"
   ]
  },
  {
   "cell_type": "code",
   "execution_count": null,
   "metadata": {},
   "outputs": [],
   "source": [
    "## Download notebooks and images\n",
    "#! cp /data/edugen/genomika/*.ipynb ./\n",
    "#! cp /data/edugen/genomika/*.png png/"
=======
    "! rm -f fastq/*2.fq\n",
    "! bwa index -a is ref/ref.fasta hg19"
>>>>>>> f8ec0863c1e023727781b0348e23c5edb8301992
   ]
  }
 ],
 "metadata": {
  "kernelspec": {
<<<<<<< HEAD
   "display_name": "Python 3",
   "language": "python",
   "name": "python3"
=======
   "display_name": "edugen",
   "language": "python",
   "name": "edugen"
>>>>>>> f8ec0863c1e023727781b0348e23c5edb8301992
  },
  "language_info": {
   "codemirror_mode": {
    "name": "ipython",
    "version": 3
   },
   "file_extension": ".py",
   "mimetype": "text/x-python",
   "name": "python",
   "nbconvert_exporter": "python",
   "pygments_lexer": "ipython3",
<<<<<<< HEAD
   "version": "3.8.5"
=======
   "version": "3.7.9"
>>>>>>> f8ec0863c1e023727781b0348e23c5edb8301992
  }
 },
 "nbformat": 4,
 "nbformat_minor": 4
}
